{
 "cells": [
  {
   "cell_type": "markdown",
   "id": "2621e4f6",
   "metadata": {},
   "source": [
    "# 🧠 Clase 18: Fundamentos de Funciones en Python\n",
    "\n",
    "## 🎯 Introducción\n",
    "Las **funciones** son bloques de código reutilizables que ejecutan una tarea específica.  \n",
    "Permiten dividir los programas en partes más pequeñas, organizadas y fáciles de mantener.\n",
    "\n",
    "---\n",
    "\n",
    "## 🧩 ¿Qué es una función?\n",
    "\n",
    "Una **función** es un conjunto de instrucciones que se agrupan bajo un nombre y que pueden ser ejecutadas cuando sea necesario.\n",
    "\n",
    "### 🔹 Sintaxis básica:\n",
    "```python\n",
    "def nombre_funcion(parámetros):\n",
    "    # bloque de código\n",
    "    return resultado\n"
   ]
  },
  {
   "cell_type": "markdown",
   "id": "14932d3f",
   "metadata": {},
   "source": [
    "## 🧱 Conceptos Clave\n",
    "### 1. Definir y llamar una función"
   ]
  },
  {
   "cell_type": "code",
   "execution_count": 1,
   "id": "7cbd4694",
   "metadata": {},
   "outputs": [
    {
     "name": "stdout",
     "output_type": "stream",
     "text": [
      "Hola, bienvenido a Python!\n"
     ]
    }
   ],
   "source": [
    "def saludar():\n",
    "    print(\"Hola, bienvenido a Python!\")\n",
    "\n",
    "# Llamada de la función\n",
    "saludar()\n"
   ]
  },
  {
   "cell_type": "markdown",
   "id": "494ceb9d",
   "metadata": {},
   "source": [
    "### Explicación:\n",
    "\n",
    "- def → palabra clave para definir la función.\n",
    "\n",
    "- saludar() → invoca (ejecuta) la función."
   ]
  },
  {
   "cell_type": "markdown",
   "id": "e73d6a21",
   "metadata": {},
   "source": [
    "### 2. Parámetros y argumentos\n",
    "\n",
    "Las funciones pueden recibir datos externos llamados parámetros."
   ]
  },
  {
   "cell_type": "code",
   "execution_count": 2,
   "id": "643c5c08",
   "metadata": {},
   "outputs": [
    {
     "name": "stdout",
     "output_type": "stream",
     "text": [
      "Hola, Ana!\n",
      "Hola, Luis!\n"
     ]
    }
   ],
   "source": [
    "def saludar_persona(nombre):\n",
    "    print(f\"Hola, {nombre}!\")\n",
    "\n",
    "saludar_persona(\"Ana\")\n",
    "saludar_persona(\"Luis\")\n"
   ]
  },
  {
   "cell_type": "markdown",
   "id": "3209a461",
   "metadata": {},
   "source": [
    "- Parámetro: nombre\n",
    "- Argumento: \"Ana\" o \"Luis\""
   ]
  },
  {
   "cell_type": "markdown",
   "id": "a9f03522",
   "metadata": {},
   "source": [
    "### 3. Valores de retorno (return)\n",
    "\n",
    "El return devuelve un valor que puede usarse fuera de la función."
   ]
  },
  {
   "cell_type": "code",
   "execution_count": 3,
   "id": "5b064c9e",
   "metadata": {},
   "outputs": [
    {
     "name": "stdout",
     "output_type": "stream",
     "text": [
      "12\n"
     ]
    }
   ],
   "source": [
    "def sumar(a, b):\n",
    "    resultado = a + b\n",
    "    return resultado\n",
    "\n",
    "print(sumar(5, 7))  # Salida: 12\n"
   ]
  },
  {
   "cell_type": "markdown",
   "id": "38f415c8",
   "metadata": {},
   "source": [
    "Sin return, la función no devuelve nada (retorna None)."
   ]
  },
  {
   "cell_type": "markdown",
   "id": "b79278ea",
   "metadata": {},
   "source": [
    "### 4. Parámetros por defecto\n",
    "\n",
    "Permiten definir valores predeterminados si el usuario no pasa un argumento"
   ]
  },
  {
   "cell_type": "code",
   "execution_count": 4,
   "id": "c09e8c4f",
   "metadata": {},
   "outputs": [
    {
     "name": "stdout",
     "output_type": "stream",
     "text": [
      "Hola, invitado!\n",
      "Hola, Alejandro!\n"
     ]
    }
   ],
   "source": [
    "def saludar(nombre=\"invitado\"):\n",
    "    print(f\"Hola, {nombre}!\")\n",
    "\n",
    "saludar()           # Usa el valor por defecto\n",
    "saludar(\"Alejandro\")  # Sobrescribe el valor\n"
   ]
  },
  {
   "cell_type": "markdown",
   "id": "bfa376f2",
   "metadata": {},
   "source": [
    "### 5. Funciones con múltiples parámetros"
   ]
  },
  {
   "cell_type": "code",
   "execution_count": 5,
   "id": "83f8f667",
   "metadata": {},
   "outputs": [
    {
     "name": "stdout",
     "output_type": "stream",
     "text": [
      "El área del triángulo es: 9.0\n"
     ]
    }
   ],
   "source": [
    "def calcular_area(base, altura):\n",
    "    return base * altura / 2\n",
    "\n",
    "area = calcular_area(6, 3)\n",
    "print(f\"El área del triángulo es: {area}\")\n"
   ]
  },
  {
   "cell_type": "markdown",
   "id": "1bce5003",
   "metadata": {},
   "source": [
    "### 6. Alcance de las variables (Scope)\n",
    "\n",
    "Las variables dentro de una función son locales y no pueden usarse fuera de ella."
   ]
  },
  {
   "cell_type": "code",
   "execution_count": null,
   "id": "97b5ad92",
   "metadata": {},
   "outputs": [
    {
     "name": "stdout",
     "output_type": "stream",
     "text": [
      "Hola local\n"
     ]
    }
   ],
   "source": [
    "def prueba():\n",
    "    mensaje = \"Hola local\"\n",
    "    print(mensaje)\n",
    "\n",
    "prueba()\n",
    "# print(mensaje) ❌ Error: 'mensaje' no está definida fuera de la función\n"
   ]
  },
  {
   "cell_type": "markdown",
   "id": "caf0021e",
   "metadata": {},
   "source": [
    "### 7. Funciones que no retornan nada\n",
    "\n",
    "Algunas funciones solo realizan acciones, sin devolver valores:"
   ]
  },
  {
   "cell_type": "code",
   "execution_count": 8,
   "id": "51a756b6",
   "metadata": {},
   "outputs": [
    {
     "name": "stdout",
     "output_type": "stream",
     "text": [
      "1. Iniciar juego\n",
      "2. Cargar partida\n",
      "3. Salir\n"
     ]
    }
   ],
   "source": [
    "def mostrar_menu():\n",
    "    print(\"1. Iniciar juego\")\n",
    "    print(\"2. Cargar partida\")\n",
    "    print(\"3. Salir\")\n",
    "\n",
    "mostrar_menu()\n"
   ]
  },
  {
   "cell_type": "markdown",
   "id": "ceb00344",
   "metadata": {},
   "source": [
    "### 💻 Ejercicios Prácticos\n",
    "### 🧮 Ejercicio 1: Suma personalizada\n",
    "\n",
    "Crea una función que reciba dos números y devuelva su suma.\n",
    "Luego, usa input() para pedir los números al usuario."
   ]
  },
  {
   "cell_type": "code",
   "execution_count": null,
   "id": "1ee6c0ca",
   "metadata": {},
   "outputs": [
    {
     "name": "stdout",
     "output_type": "stream",
     "text": [
      "La suma de (3.0) + (2.0) = 5.0\n"
     ]
    }
   ],
   "source": [
    "# Crea una función que reciba dos números y devuelva su suma.\n",
    "# Luego, usa input() para pedir los números al usuario.\n",
    "\n",
    "# Creado funcion \n",
    "def suma(a,b):\n",
    "    return a + b\n",
    "\n",
    "#Manejo de Errores\n",
    "try: \n",
    "    a = float(input('Ingrese el primer numero'))\n",
    "    b = float(input('Ingrese el segundo numero'))\n",
    "    resultado = suma(a,b)\n",
    "    print(f'La suma de ({a}) + ({b}) = {resultado}')\n",
    "except ValueError:\n",
    "    print('Ingrese unicamente numeros')\n",
    "\n",
    "\n",
    "    "
   ]
  },
  {
   "cell_type": "markdown",
   "id": "07bd6b92",
   "metadata": {},
   "source": [
    "### 🕒 Ejercicio 2: Calculadora simple\n",
    "\n",
    "Define una función operacion(a, b, operador) que reciba dos números y un operador (+, -, *, /)\n",
    "y devuelva el resultado correcto según el operador."
   ]
  },
  {
   "cell_type": "code",
   "execution_count": 28,
   "id": "6e88ec9f",
   "metadata": {},
   "outputs": [
    {
     "name": "stdout",
     "output_type": "stream",
     "text": [
      "La suma de (0.0) / (0.0) = Error: No se puede dividir por cero\n"
     ]
    }
   ],
   "source": [
    "#Define una función operacion(a, b, operador) que reciba dos números y un operador (+, -, *, /)\n",
    "# y devuelva el resultado correcto según el operador.\n",
    "\n",
    "operadores = ['+','-','*','/']\n",
    "def operacion (a,b,operador):\n",
    "    if operador == '+':\n",
    "        return a + b\n",
    "    elif operador == '-':\n",
    "        return a - b\n",
    "    elif operador == '*':\n",
    "        return a * b \n",
    "    elif operador == '/':\n",
    "        # Manejo de erro \n",
    "        if b == 0:\n",
    "            return 'Error: No se puede dividir por cero'\n",
    "        else:\n",
    "            return a / b\n",
    "    else:\n",
    "        return 'Error: Operador no válido. Use +, -, *, o /.'\n",
    "\n",
    "try:\n",
    "    a = float(input('Ingrese el primer numero'))\n",
    "    b = float(input('Ingrese el segundo numero'))\n",
    "    operador = str(input('Ingrese el signo de la operacion a realizar\\nSuma +\\nResta -\\nMultiplicacion *\\nDivision /'))\n",
    "    resultado = operacion(a,b,operador)\n",
    "    print(f'La suma de ({a}) {operador} ({b}) = {resultado}')\n",
    "except ValueError:\n",
    "    print('Ingrese unicamente numeros')\n",
    "\n"
   ]
  },
  {
   "cell_type": "markdown",
   "id": "e2048a5b",
   "metadata": {},
   "source": [
    "### 📅 Ejercicio 3: Función de la vida real\n",
    "\n",
    "- Crea una función calcular_descuento(precio, descuento) que devuelva el precio final con descuento aplicado.\n",
    "- Por ejemplo, si el precio es 100 y el descuento 15%, el resultado debe ser 85."
   ]
  },
  {
   "cell_type": "code",
   "execution_count": 51,
   "id": "a6f45524",
   "metadata": {},
   "outputs": [
    {
     "name": "stdout",
     "output_type": "stream",
     "text": [
      "El valor del producto sin descuento es 3.1$ con 2.3% de descuento es 3.03$\n"
     ]
    }
   ],
   "source": [
    "## Crea una función calcular_descuento(precio, descuento) que devuelva el precio final con descuento aplicado.\n",
    "## Por ejemplo, si el precio es 100 y el descuento 15%, el resultado debe ser 85.\n",
    "\n",
    "def precio_descuento(precio,descuento):\n",
    "    if (descuento >= 1) and (descuento < 100):\n",
    "        resultado = precio - (precio * descuento /100)\n",
    "        return resultado\n",
    "    else:\n",
    "        return 'Error: Los descuentos van desde 1% al 99%'\n",
    "\n",
    "try:\n",
    "    precio = float(input('Indique el precio del producto'))\n",
    "    descuento = float(input('Ingrese el porcentaje de descuento'))\n",
    "\n",
    "    if (precio >= 0) and (descuento >= 0):\n",
    "        descuento = descuento\n",
    "        valor_producto = precio_descuento(precio,descuento)\n",
    "        print(f'El valor del producto sin descuento es {precio}$ con {descuento}% de descuento es {valor_producto:.2f}$')\n",
    "    else:\n",
    "        print('Error debe instroduccir valores positivos')\n",
    "        \n",
    "except ValueError:\n",
    "    print('Error: Ingrese unicamente numeros')\n",
    "    "
   ]
  },
  {
   "cell_type": "markdown",
   "id": "d0ce075b",
   "metadata": {},
   "source": [
    "### 📋 Ejercicio 4: Función sin parámetros\n",
    "\n",
    "Haz una función que muestre un pequeño menú con tres opciones y luego se llame a sí misma si el usuario elige repetir."
   ]
  },
  {
   "cell_type": "code",
   "execution_count": null,
   "id": "044d9d57",
   "metadata": {},
   "outputs": [
    {
     "name": "stdout",
     "output_type": "stream",
     "text": [
      "🗒️---Menu Del Dia---🗒️\n",
      "Plato 1. Pasticho de Carne🍝\n",
      "Plato 2. Rissotto de Camarones🍚\n",
      "Plato 3. Arroz a la Marinera🍛\n",
      "---Otras Opciones----\n",
      "4 Salir del Menu\n",
      "5 Repetir el Menu\n",
      "❌Error Ingrese unicamente numero positivos\n",
      "🗒️---Menu Del Dia---🗒️\n",
      "Plato 1. Pasticho de Carne🍝\n",
      "Plato 2. Rissotto de Camarones🍚\n",
      "Plato 3. Arroz a la Marinera🍛\n",
      "---Otras Opciones----\n",
      "4 Salir del Menu\n",
      "5 Repetir el Menu\n",
      "🗒️---Menu Del Dia---🗒️\n",
      "Plato 1. Pasticho de Carne🍝\n",
      "Plato 2. Rissotto de Camarones🍚\n",
      "Plato 3. Arroz a la Marinera🍛\n",
      "---Otras Opciones----\n",
      "4 Salir del Menu\n",
      "5 Repetir el Menu\n",
      "Gracias Estamos Para Servirle\n"
     ]
    }
   ],
   "source": [
    "# Haz una función que muestre un pequeño menú con tres opciones y luego se llame a sí misma \n",
    "# si el usuario elige repetir.\n",
    "\n",
    "def menu_del_dia():\n",
    "    print('🗒️---Menu Del Dia---🗒️')\n",
    "    print('Plato 1. Pasticho de Carne🍝')\n",
    "    print('Plato 2. Rissotto de Camarones🍚')\n",
    "    print('Plato 3. Arroz a la Marinera🍛')\n",
    "    print('---Otras Opciones----')\n",
    "    print('4 Salir del Menu')\n",
    "    print('5 Repetir el Menu')\n",
    "    \n",
    "  # Manejo de errores\n",
    "    try:\n",
    "        platos = int(input('Eliga una opción (1-5)'))\n",
    "    except ValueError:\n",
    "        print('❌Error Ingrese unicamente numero positivos')\n",
    "        menu_del_dia()\n",
    "        return\n",
    "    \n",
    "    # condicion de repetir el menu\n",
    "    if platos == 5:\n",
    "        menu_del_dia()\n",
    "        return\n",
    "        \n",
    "    # Condiciones de elegir plato \n",
    "    if platos < 0 or platos > 5 :\n",
    "        print('Disculpe no entiendo, debe elegir un plato del 1 al 3')\n",
    "        menu_del_dia()\n",
    "        return\n",
    "    elif platos == 1:\n",
    "        print('🍽️Excelente un Rico Pasticho de Carne para usted🍝')\n",
    "    elif platos == 2:\n",
    "        print('🍽️Excelente un Rico Rissotto de Camarones para usted🍚')\n",
    "    elif platos == 3:\n",
    "        print('🍽️Excelente un Rico Arroz a la Marinera para usted🍛')\n",
    "    elif platos == 4:\n",
    "        print('Gracias Estamos Para Servirle')\n",
    "        return\n",
    "      # condicion de repetir el menu\n",
    "    \n",
    "menu_del_dia()\n",
    "\n",
    "\n"
   ]
  },
  {
   "cell_type": "markdown",
   "id": "87d9e9f3",
   "metadata": {},
   "source": [
    "### 🧠 Conclusión\n",
    "\n",
    "- Las funciones ayudan a organizar y reutilizar código.\n",
    "\n",
    "- Permiten recibir datos (parámetros) y devolver resultados (return).\n",
    "\n",
    "- Existen funciones con valor de retorno, sin retorno, y con parámetros opcionales.\n",
    "\n",
    "- Dominar funciones es esencial para programar de forma modular y profesional."
   ]
  },
  {
   "cell_type": "markdown",
   "id": "d5adc48c",
   "metadata": {},
   "source": [
    "### ⚠️ Error común\n",
    "\n",
    "- ❌ Intentar usar una variable local fuera de la función.\n",
    "- ✅ Solución: devuelve el valor con return o declara la variable como global (solo si es necesario)."
   ]
  }
 ],
 "metadata": {
  "kernelspec": {
   "display_name": "Python 3",
   "language": "python",
   "name": "python3"
  },
  "language_info": {
   "codemirror_mode": {
    "name": "ipython",
    "version": 3
   },
   "file_extension": ".py",
   "mimetype": "text/x-python",
   "name": "python",
   "nbconvert_exporter": "python",
   "pygments_lexer": "ipython3",
   "version": "3.13.7"
  }
 },
 "nbformat": 4,
 "nbformat_minor": 5
}
