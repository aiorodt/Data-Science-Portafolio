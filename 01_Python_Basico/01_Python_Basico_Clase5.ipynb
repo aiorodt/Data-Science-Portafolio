{
 "cells": [
  {
   "cell_type": "markdown",
   "id": "f5d7a963",
   "metadata": {},
   "source": [
    "# 📚 Clase 5 – Métodos útiles de Strings en Python\n",
    "\n",
    "En esta clase veremos algunos métodos muy usados para trabajar con **texto** en Python.\n",
    "\n",
    "---\n",
    "\n",
    "## 🔹 .split()\n",
    "Este método divide una cadena en partes (substrings) y devuelve una **lista**.\n",
    "\n",
    "### Sintaxis:\n",
    "```python\n",
    "texto.split(separador, maxsplit)"
   ]
  },
  {
   "cell_type": "markdown",
   "id": "5d15d307",
   "metadata": {},
   "source": [
    "* separador → por qué carácter quieres separar (por defecto es espacio \" \").\n",
    "\n",
    "* maxsplit → cuántas veces quieres dividir (opcional)"
   ]
  },
  {
   "cell_type": "code",
   "execution_count": 1,
   "id": "6e3184ed",
   "metadata": {},
   "outputs": [
    {
     "name": "stdout",
     "output_type": "stream",
     "text": [
      "['Python', 'es', 'divertido']\n",
      "['Python ', 's div', 'rtido']\n",
      "['Python', 'es divertido']\n"
     ]
    }
   ],
   "source": [
    "frase = \"Python es divertido\"\n",
    "\n",
    "print(frase.split())  \n",
    "# ['Python', 'es', 'divertido'] (separación por espacios)\n",
    "\n",
    "print(frase.split(\"e\"))  \n",
    "# ['Python ', 's div', 'rtido'] (separa donde encuentra la letra 'e')\n",
    "\n",
    "print(frase.split(\" \", 1))  \n",
    "# ['Python', 'es divertido'] (solo divide una vez)\n"
   ]
  },
  {
   "cell_type": "markdown",
   "id": "0670197b",
   "metadata": {},
   "source": [
    "# 🔹 .strip()\n",
    "\n",
    "Este método elimina espacios al inicio y al final, o caracteres específicos.\n",
    "\n",
    "Ejemplos:"
   ]
  },
  {
   "cell_type": "code",
   "execution_count": 2,
   "id": "f25bbb86",
   "metadata": {},
   "outputs": [
    {
     "name": "stdout",
     "output_type": "stream",
     "text": [
      "hola mundo\n",
      "Python\n"
     ]
    }
   ],
   "source": [
    "texto = \"   hola mundo   \"\n",
    "print(texto.strip())  \n",
    "# 'hola mundo'\n",
    "\n",
    "texto2 = \"----Python----\"\n",
    "print(texto2.strip(\"-\"))  \n",
    "# 'Python'\n"
   ]
  },
  {
   "cell_type": "markdown",
   "id": "4d54f524",
   "metadata": {},
   "source": [
    "# 🔹 .capitalize()\n",
    "\n",
    "Convierte la primera letra de la cadena en mayúscula y el resto en minúscula.\n",
    "\n",
    "Ejemplos:"
   ]
  },
  {
   "cell_type": "code",
   "execution_count": 3,
   "id": "f2709343",
   "metadata": {},
   "outputs": [
    {
     "name": "stdout",
     "output_type": "stream",
     "text": [
      "Alejandro\n",
      "Hola mundo\n"
     ]
    }
   ],
   "source": [
    "nombre = \"alejandro\"\n",
    "print(nombre.capitalize())  \n",
    "# 'Alejandro'\n",
    "\n",
    "frase = \"hOla mUnDo\"\n",
    "print(frase.capitalize())  \n",
    "# 'Hola mundo'\n"
   ]
  },
  {
   "cell_type": "markdown",
   "id": "dbfe9aaf",
   "metadata": {},
   "source": [
    "---\n",
    "\n",
    "## 🔹 .title()\n",
    "Convierte la **primera letra de cada palabra** en mayúscula.\n",
    "\n",
    "### Ejemplos:\n",
    "```python\n",
    "frase = \"python es divertido\"\n",
    "print(frase.title())  \n",
    "# 'Python Es Divertido'\n",
    "\n",
    "nombre = \"alejandro moronta\"\n",
    "print(nombre.title())  \n",
    "# 'Alejandro Moronta'\n"
   ]
  },
  {
   "cell_type": "markdown",
   "id": "404a1fa5",
   "metadata": {},
   "source": [
    "⚠️ Nota: .title() pone en mayúscula cada palabra, incluso artículos o preposiciones.\n",
    "Ejemplo:"
   ]
  },
  {
   "cell_type": "code",
   "execution_count": 4,
   "id": "e44dd643",
   "metadata": {},
   "outputs": [
    {
     "name": "stdout",
     "output_type": "stream",
     "text": [
      "El Perro De La Casa\n"
     ]
    }
   ],
   "source": [
    "frase = \"el perro de la casa\"\n",
    "print(frase.title())  \n",
    "# 'El Perro De La Casa'\n"
   ]
  },
  {
   "cell_type": "markdown",
   "id": "48c9c4f9",
   "metadata": {},
   "source": [
    "## 📌 Resumen de la Clase 5 – Métodos de Strings\n",
    "\n",
    "- **`.split()`**: divide una cadena en una lista usando un separador (por defecto, espacio).  \n",
    "- **`.strip()`**: elimina espacios (u otros caracteres) al inicio y al final de la cadena.  \n",
    "- **`.capitalize()`**: pone la primera letra de la cadena en mayúscula y el resto en minúscula.  \n",
    "- **`.title()`**: pone en mayúscula la primera letra de cada palabra de la cadena.  \n",
    "\n",
    "👉 Estos métodos son esenciales en la **limpieza y preparación de texto**, tareas muy comunes en **Data Science**.\n"
   ]
  }
 ],
 "metadata": {
  "kernelspec": {
   "display_name": "Python 3",
   "language": "python",
   "name": "python3"
  },
  "language_info": {
   "codemirror_mode": {
    "name": "ipython",
    "version": 3
   },
   "file_extension": ".py",
   "mimetype": "text/x-python",
   "name": "python",
   "nbconvert_exporter": "python",
   "pygments_lexer": "ipython3",
   "version": "3.13.7"
  }
 },
 "nbformat": 4,
 "nbformat_minor": 5
}
