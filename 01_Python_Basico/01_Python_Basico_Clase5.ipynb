{
 "cells": [
  {
   "cell_type": "markdown",
   "id": "f5d7a963",
   "metadata": {},
   "source": [
    "# 📚 Clase 5 – Métodos útiles de Strings en Python\n",
    "\n",
    "En esta clase veremos algunos métodos muy usados para trabajar con **texto** en Python.\n",
    "\n",
    "---\n",
    "\n",
    "## 🔹 .split()\n",
    "Este método divide una cadena en partes (substrings) y devuelve una **lista**.\n",
    "\n",
    "### Sintaxis:\n",
    "```python\n",
    "texto.split(separador, maxsplit)"
   ]
  },
  {
   "cell_type": "markdown",
   "id": "5d15d307",
   "metadata": {},
   "source": [
    "* separador → por qué carácter quieres separar (por defecto es espacio \" \").\n",
    "\n",
    "* maxsplit → cuántas veces quieres dividir (opcional)"
   ]
  },
  {
   "cell_type": "code",
   "execution_count": 1,
   "id": "6e3184ed",
   "metadata": {},
   "outputs": [
    {
     "name": "stdout",
     "output_type": "stream",
     "text": [
      "['Python', 'es', 'divertido']\n",
      "['Python ', 's div', 'rtido']\n",
      "['Python', 'es divertido']\n"
     ]
    }
   ],
   "source": [
    "frase = \"Python es divertido\"\n",
    "\n",
    "print(frase.split())  \n",
    "# ['Python', 'es', 'divertido'] (separación por espacios)\n",
    "\n",
    "print(frase.split(\"e\"))  \n",
    "# ['Python ', 's div', 'rtido'] (separa donde encuentra la letra 'e')\n",
    "\n",
    "print(frase.split(\" \", 1))  \n",
    "# ['Python', 'es divertido'] (solo divide una vez)\n"
   ]
  },
  {
   "cell_type": "markdown",
   "id": "0670197b",
   "metadata": {},
   "source": [
    "# 🔹 .strip()\n",
    "\n",
    "Este método elimina espacios al inicio y al final, o caracteres específicos.\n",
    "\n",
    "Ejemplos:"
   ]
  },
  {
   "cell_type": "code",
   "execution_count": 2,
   "id": "f25bbb86",
   "metadata": {},
   "outputs": [
    {
     "name": "stdout",
     "output_type": "stream",
     "text": [
      "hola mundo\n",
      "Python\n"
     ]
    }
   ],
   "source": [
    "texto = \"   hola mundo   \"\n",
    "print(texto.strip())  \n",
    "# 'hola mundo'\n",
    "\n",
    "texto2 = \"----Python----\"\n",
    "print(texto2.strip(\"-\"))  \n",
    "# 'Python'\n"
   ]
  },
  {
   "cell_type": "markdown",
   "id": "4d54f524",
   "metadata": {},
   "source": [
    "# 🔹 .capitalize()\n",
    "\n",
    "Convierte la primera letra de la cadena en mayúscula y el resto en minúscula.\n",
    "\n",
    "Ejemplos:"
   ]
  },
  {
   "cell_type": "code",
   "execution_count": 3,
   "id": "f2709343",
   "metadata": {},
   "outputs": [
    {
     "name": "stdout",
     "output_type": "stream",
     "text": [
      "Alejandro\n",
      "Hola mundo\n"
     ]
    }
   ],
   "source": [
    "nombre = \"alejandro\"\n",
    "print(nombre.capitalize())  \n",
    "# 'Alejandro'\n",
    "\n",
    "frase = \"hOla mUnDo\"\n",
    "print(frase.capitalize())  \n",
    "# 'Hola mundo'\n"
   ]
  },
  {
   "cell_type": "markdown",
   "id": "dbfe9aaf",
   "metadata": {},
   "source": [
    "---\n",
    "\n",
    "## 🔹 .title()\n",
    "Convierte la **primera letra de cada palabra** en mayúscula.\n",
    "\n",
    "### Ejemplos:\n",
    "```python\n",
    "frase = \"python es divertido\"\n",
    "print(frase.title())  \n",
    "# 'Python Es Divertido'\n",
    "\n",
    "nombre = \"alejandro moronta\"\n",
    "print(nombre.title())  \n",
    "# 'Alejandro Moronta'\n"
   ]
  },
  {
   "cell_type": "markdown",
   "id": "404a1fa5",
   "metadata": {},
   "source": [
    "⚠️ Nota: .title() pone en mayúscula cada palabra, incluso artículos o preposiciones.\n",
    "Ejemplo:"
   ]
  },
  {
   "cell_type": "code",
   "execution_count": 4,
   "id": "e44dd643",
   "metadata": {},
   "outputs": [
    {
     "name": "stdout",
     "output_type": "stream",
     "text": [
      "El Perro De La Casa\n"
     ]
    }
   ],
   "source": [
    "frase = \"el perro de la casa\"\n",
    "print(frase.title())  \n",
    "# 'El Perro De La Casa'\n"
   ]
  },
  {
   "cell_type": "code",
   "execution_count": null,
   "id": "d061f08b",
   "metadata": {},
   "outputs": [
    {
     "name": "stdout",
     "output_type": "stream",
     "text": [
      "['rissoto', 'pasticho', 'raviolis', 'costillas', 'agridulce', 'cachapas', 'arroz', 'caraota']\n",
      "8\n",
      "------------------------------------------------------------------------------------------------------------------------\n",
      "Cadena de texto sin espacio la izquierda La luna tiene un color extrano esta noche esta como roja   \n",
      "Caneda de texto sin espacio: La luna tiene un color extrano esta noche esta como roja\n",
      "Cadena de texto sin espacio la derecha      La luna tiene un color extrano esta noche esta como roja\n",
      "Longitud de la cadena con espacio: 64 espacios. \n",
      "Longitud de la cadena sin espacio: 56 espacios.\n",
      "\n",
      " Cristian es un buen hijo.\n",
      "Alejandra Nana Betancourt Bogado\n",
      "\n",
      "cuando el sol ilumina tu rostro no deja de cantar la luz en la primavera\n",
      " La primera palabra convertida de la frase es: Cuando \n",
      " La ultima palabra convertida es Primavera\n",
      "\n",
      "La lista de palabras que se utilizo es \n",
      "['cuando', 'el', 'sol', 'ilumina', 'tu', 'rostro', 'no', 'deja', 'de', 'cantar', 'la', 'luz', 'en', 'la', 'primavera']\n"
     ]
    }
   ],
   "source": [
    "# 📝 Ejercicios\n",
    "# 1.Declara una cadena con tu comida favorita y:\n",
    "comida_favorita = 'rissoto pasticho raviolis costillas agridulce cachapas arroz caraota'\n",
    "             # a) Usa .split() para separarla en palabras\n",
    "cadena_lista = comida_favorita.split() \n",
    "print(cadena_lista)\n",
    "\n",
    "            # b) Cuentas palabras tienes\n",
    "print(len(cadena_lista))\n",
    "print('--'*60)\n",
    "#---------------------------------------------------------------------\n",
    "\n",
    "# 2.Declara una cadena con espacios extras al inicio y al final\n",
    "cadena_con_espacio = '     La luna tiene un color extrano esta noche esta como roja   '\n",
    "            # a) Elimina esos espacios con .strip().\n",
    "cadena_sin_espacio = cadena_con_espacio.strip()\n",
    "\n",
    "            # a.1 Elimina espacios a la izquierda de la cadena con l.strip()\n",
    "cadena_sin_espacios_l = cadena_con_espacio.lstrip()\n",
    "            # a.2 Elimina espacios a la izquierda de la cadena con r.strip()\n",
    "cadena_sin_espacios_r = cadena_con_espacio.rstrip()\n",
    "print(f'Cadena de texto sin espacio la izquierda {cadena_sin_espacios_l}')\n",
    "print(f'Caneda de texto sin espacio: {cadena_sin_espacio}')\n",
    "print(f'Cadena de texto sin espacio la derecha {cadena_sin_espacios_r}')       \n",
    "            # b) Muestra la diferencia de longitud antes y después.\n",
    "print(f'Longitud de la cadena con espacio: {len(cadena_con_espacio)} espacios. \\nLongitud de la cadena sin espacio: {len(cadena_sin_espacio)} espacios.')\n",
    "\n",
    "# 3.Escribe una frase en minúsculas y usa .capitalize() para poner la primera letra en mayuscula\n",
    "frase = 'cristian es un buen hijo.' \n",
    "print('\\n',frase.capitalize())\n",
    "\n",
    "# 4.Declara una cadena con tu nombre y apellido en minúsculas.\n",
    "            # Usa .title() para ponerlo en formato de nombre propio\n",
    "nombre_apellido = 'alejandra nana betancourt bogado'\n",
    "print(nombre_apellido.title())\n",
    "\n",
    "# 5.Declara una frase larga \n",
    "frase_larga = 'cuando el sol ilumina tu rostro no deja de cantar la luz en la primavera'\n",
    "            # a) Usa .split() para convertirla en lista.\n",
    "frase_larga_lista = frase_larga.split()\n",
    "\n",
    "            # b) Toma la primera palabra y conviértela con .capitalize().\n",
    "primera_palabra = frase_larga_lista[0].capitalize()\n",
    "\n",
    "            # c) Toma la última palabra y conviértela con .title().\n",
    "ultima_palabra = frase_larga_lista[-1].title()\n",
    "\n",
    "print(f'\\n{frase_larga}\\n La primera palabra convertida de la frase es: {primera_palabra} \\n La ultima palabra convertida es {ultima_palabra}')\n",
    "print(f'\\nLa lista de palabras que se utilizo es \\n{frase_larga_lista}')\n"
   ]
  },
  {
   "cell_type": "markdown",
   "id": "48c9c4f9",
   "metadata": {},
   "source": [
    "## 📌 Resumen de la Clase 5 – Métodos de Strings\n",
    "\n",
    "- **`.split()`**: divide una cadena en una lista usando un separador (por defecto, espacio).  \n",
    "- **`.strip()`**: elimina espacios (u otros caracteres) al inicio y al final de la cadena.  \n",
    "- **`.capitalize()`**: pone la primera letra de la cadena en mayúscula y el resto en minúscula.  \n",
    "- **`.title()`**: pone en mayúscula la primera letra de cada palabra de la cadena.  \n",
    "\n",
    "👉 Estos métodos son esenciales en la **limpieza y preparación de texto**, tareas muy comunes en **Data Science**.\n"
   ]
  }
 ],
 "metadata": {
  "kernelspec": {
   "display_name": "Python 3",
   "language": "python",
   "name": "python3"
  },
  "language_info": {
   "codemirror_mode": {
    "name": "ipython",
    "version": 3
   },
   "file_extension": ".py",
   "mimetype": "text/x-python",
   "name": "python",
   "nbconvert_exporter": "python",
   "pygments_lexer": "ipython3",
   "version": "3.13.7"
  }
 },
 "nbformat": 4,
 "nbformat_minor": 5
}
