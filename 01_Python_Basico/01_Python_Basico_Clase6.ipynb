{
 "cells": [
  {
   "cell_type": "markdown",
   "id": "b33b23bd",
   "metadata": {},
   "source": []
  }
 ],
 "metadata": {
  "language_info": {
   "name": "python"
  }
 },
 "nbformat": 4,
 "nbformat_minor": 5
}
