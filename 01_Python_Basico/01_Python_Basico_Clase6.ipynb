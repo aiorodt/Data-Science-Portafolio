{
 "cells": [
  {
   "cell_type": "markdown",
   "id": "b33b23bd",
   "metadata": {},
   "source": [
    "# 📚 Clase 6 – Control de Flujo: Condicionales (if, else, elif)\n",
    "\n",
    "Los condicionales permiten que un programa **tome decisiones** según una condición.  \n",
    "En Python se usan con `if`, `elif` y `else`.\n",
    "\n",
    "## 🔑 Sintaxis básica\n",
    "```python\n",
    "if condicion:\n",
    "    # código si la condición es verdadera\n",
    "elif otra_condicion:\n",
    "    # código si la primera es falsa y esta verdadera\n",
    "else:\n",
    "    # código si ninguna condición se cumple\n"
   ]
  },
  {
   "cell_type": "markdown",
   "id": "3cebe1e0",
   "metadata": {},
   "source": [
    "# ✅ Ejemplo simple"
   ]
  },
  {
   "cell_type": "code",
   "execution_count": 1,
   "id": "d0eea6e5",
   "metadata": {},
   "outputs": [
    {
     "name": "stdout",
     "output_type": "stream",
     "text": [
      "Eres mayor de edad\n"
     ]
    }
   ],
   "source": [
    "edad = 20\n",
    "if edad >= 18:\n",
    "    print(\"Eres mayor de edad\")\n",
    "else:\n",
    "    print(\"Eres menor de edad\")"
   ]
  },
  {
   "cell_type": "markdown",
   "id": "69ac29bf",
   "metadata": {},
   "source": [
    "# 💡 Ejemplo con elif"
   ]
  },
  {
   "cell_type": "code",
   "execution_count": 2,
   "id": "10cd2f7a",
   "metadata": {},
   "outputs": [
    {
     "name": "stdout",
     "output_type": "stream",
     "text": [
      "Aprobado\n"
     ]
    }
   ],
   "source": [
    "nota = 75\n",
    "if nota >= 90:\n",
    "    print(\"Excelente\")\n",
    "elif nota >= 70:\n",
    "    print(\"Aprobado\")\n",
    "else:\n",
    "    print(\"Reprobado\")\n"
   ]
  },
  {
   "cell_type": "markdown",
   "id": "81a5e5fe",
   "metadata": {},
   "source": [
    "# 📝 Ejercicios – Clase 6: Condicionales (if, else, elif)\n",
    "\n",
    "1. **Edad y descuento en cine 🎬**  \n",
    "   Pide la edad de una persona y determina:  \n",
    "   - Menores de 12: pagan mitad de precio.  \n",
    "   - Entre 12 y 60: pagan precio completo.  \n",
    "   - Mayores de 60: tienen 30% de descuento.\n",
    "\n",
    "2. **Clasificación de temperatura 🌡️**  \n",
    "   Dada una temperatura en grados Celsius:  \n",
    "   - Menor a 0 → “Congelado ❄️”  \n",
    "   - 0 a 20 → “Frío 🧥”  \n",
    "   - 21 a 30 → “Agradable 🌼”  \n",
    "   - Mayor a 30 → “Caluroso 🔥”\n",
    "\n",
    "3. **Verificación de contraseña 🔑**  \n",
    "   Simula un sistema que compara la entrada del usuario con una contraseña guardada (`\"python123\"`).  \n",
    "   Muestra “Acceso concedido” si es correcta, o “Acceso denegado” si no lo es.\n",
    "\n",
    "4. **Clasificación de notas 📊**  \n",
    "   Dada una nota numérica (0 a 100):  \n",
    "   - 90–100 → “A”  \n",
    "   - 80–89 → “B”  \n",
    "   - 70–79 → “C”  \n",
    "   - 60–69 → “D”  \n",
    "   - Menor a 60 → “F”\n",
    "\n",
    "5. **Número par, impar o cero 🔢**  \n",
    "   Pide un número entero y determina si es par, impar o si es cero.\n",
    "\n",
    "6. **Categoría de IMC ⚖️**  \n",
    "   Calcula el Índice de Masa Corporal (IMC = peso / altura²).  \n",
    "   Clasifica según OMS:  \n",
    "   - <18.5 → “Bajo peso”  \n",
    "   - 18.5–24.9 → “Normal”  \n",
    "   - 25–29.9 → “Sobrepeso”  \n",
    "   - ≥30 → “Obesidad”\n",
    "\n",
    "7. **Validación de año bisiesto 📅**  \n",
    "   Pide un año y determina si es bisiesto:  \n",
    "   - Regla: divisible por 4 y (no divisible por 100 o divisible por 400).\n",
    "\n",
    "8. **Control de acceso a discoteca 🎶**  \n",
    "   Reglas:  \n",
    "   - Menores de 18 → no entran.  \n",
    "   - Entre 18 y 21 → entran pero sin alcohol.  \n",
    "   - Mayores de 21 → entrada libre.  \n",
    "\n",
    "9. **Calculadora básica ➕➖✖️➗**  \n",
    "   Pide dos números y un operador (`+`, `-`, `*`, `/`).  \n",
    "   Según el operador, realiza la operación correspondiente.\n",
    "\n",
    "10. **Clasificación de vehículos 🚗🚚🛵**  \n",
    "    Pide el número de ruedas de un vehículo y determina:  \n",
    "   - 2 → “Motocicleta”  \n",
    "   - 4 → “Automóvil”  \n",
    "   - 6 o más → “Camión”  \n",
    "   - Otro → “Vehículo desconocido”\n"
   ]
  },
  {
   "cell_type": "markdown",
   "id": "0ab1b93f",
   "metadata": {},
   "source": [
    "## ✏️ Resolucion de Ejercicios"
   ]
  },
  {
   "cell_type": "code",
   "execution_count": 10,
   "id": "eaa1e195",
   "metadata": {},
   "outputs": [
    {
     "name": "stdout",
     "output_type": "stream",
     "text": [
      "Senor usted tiene un descuento del 30%. Su entrada tiene un valor de: 7.0$\n"
     ]
    }
   ],
   "source": [
    "# 1.Edad y descuento en cine 🎬\n",
    "# Pide la edad de una persona y determina:\n",
    "import sys\n",
    "edad = None\n",
    "precio_entrada = 10 #dolares\n",
    " \n",
    "try:\n",
    "    edad = int(input('Ingrese su Edad'))\n",
    "except ValueError:\n",
    "    print('Error: Ingrese unicamente numeros enteros positivos')\n",
    "    sys.exit()\n",
    "\n",
    "# Si existe un valor de edad entonces\n",
    "if edad is not None:\n",
    "\n",
    "#- Manero de edades menores que cero.\n",
    "    if edad < 0:\n",
    "        print('Error ha ingresado un numero negativo... Su edad siempre es positiva')\n",
    "    #- Menores de 12: pagan mitad de precio.\n",
    "    elif edad < 12:\n",
    "        print(f'Usted paga la mitad del precio de la entrada: {precio_entrada/2}$')\n",
    "    #- Entre 12 y 60: pagan precio completo. \n",
    "    elif edad >= 12 and edad <= 60:\n",
    "        print(f'A usted le corresponde pagar por la entrada: {precio_entrada}$')\n",
    "    #- Mayores de 60: tienen 30% de descuento.\n",
    "    else:\n",
    "        print(f'Senor usted tiene un descuento del 30%. Su entrada tiene un valor de: {precio_entrada - precio_entrada*0.3}$') # descuento del 30%"
   ]
  },
  {
   "cell_type": "code",
   "execution_count": 28,
   "id": "96e306d9",
   "metadata": {},
   "outputs": [
    {
     "name": "stdout",
     "output_type": "stream",
     "text": [
      "Esto esta FRIO 🧥\n"
     ]
    }
   ],
   "source": [
    "#2.Clasificación de temperatura 🌡️  \n",
    "# Dada una temperatura en grados Celsius:  \n",
    "import sys\n",
    "temperatura = None\n",
    "try:\n",
    "    temperatura = float(input('Ingrese la temperatura del termometro'))\n",
    "except ValueError:\n",
    "    print('Print Ingrese solamente valores numericos')\n",
    "    sys.exit()\n",
    "if temperatura is not None: # si existe un valor de temperatura entonces\n",
    "#- Menor a 0 → “Congelado ❄️”  \n",
    "    if  temperatura < 0:\n",
    "        print('Esto esta CONGELADO ❄️')\n",
    "#- 0 a 20 → “Frío 🧥”  \n",
    "    elif 0 <= temperatura <= 20:\n",
    "        print('Esto esta FRIO 🧥')\n",
    "#- 21 a 30 → “Agradable 🌼” \n",
    "    elif 21 <= temperatura <= 30:\n",
    "        print('Esto esta AGRADABLE 🌼')\n",
    "#- Mayor a 30 → “Caluroso 🔥”  \n",
    "    else:\n",
    "        print('Esto esta CALUROSO 🔥')\n",
    "\n",
    "\n"
   ]
  },
  {
   "cell_type": "code",
   "execution_count": 30,
   "id": "b5b8e632",
   "metadata": {},
   "outputs": [
    {
     "name": "stdout",
     "output_type": "stream",
     "text": [
      "❌ Acceso denegado 🔒\n"
     ]
    }
   ],
   "source": [
    "# 3.Verificación de contraseña 🔑\n",
    "# Simula un sistema que compara la entrada del usuario con una contraseña guardada (`\"python123\"`). \n",
    "# Muestra “Acceso concedido” si es correcta, o “Acceso denegado” si no lo es.\n",
    "\n",
    "# creacion de variable contrasena guardada\n",
    "contrasena = 'Ale.1990'\n",
    "\n",
    "ingrese_contrasena = str(input('Ingrese contraseña'))\n",
    "\n",
    "if contrasena == ingrese_contrasena:\n",
    "    print('✔️ Acesso concedido 🔓')\n",
    "else:\n",
    "    print('❌ Acceso denegado 🔒')\n",
    "\n"
   ]
  },
  {
   "cell_type": "code",
   "execution_count": 34,
   "id": "112f356e",
   "metadata": {},
   "outputs": [
    {
     "name": "stdout",
     "output_type": "stream",
     "text": [
      "Su nota es: 59.9 ➡️ calificacion F\n"
     ]
    }
   ],
   "source": [
    "# 4.Clasificación de notas 📊\n",
    "import sys\n",
    "notas = None\n",
    "# Dada una nota numérica (0 a 100):\n",
    "\n",
    "try:\n",
    "    notas = float(input('Ingrese la calificacion de notas'))\n",
    "except ValueError:\n",
    "    print('Ingrese unicamente valores numericos')\n",
    "    sys.exit()\n",
    "\n",
    "if notas is not None: # Si existe una calificacion entonces:\n",
    "    if 0 <= notas < 60:\n",
    "        print(f'Su nota es: {notas} ➡️ calificacion F')\n",
    "    elif 60 <= notas <= 69:\n",
    "        print(f'Su nota es: {notas} ➡️ calificacion D')\n",
    "    elif 70 <= notas <= 79:\n",
    "        print(f'Su nota es: {notas} ➡️ calificacion C')\n",
    "    elif 80 <= notas <= 89:\n",
    "        print(f'Su nota es: {notas} ➡️ calificacion B')\n",
    "    elif 90 <= notas <= 100:\n",
    "        print(f'Su nota es: {notas} ➡️ calificacion A')\n",
    "    else:\n",
    "        print('❌ Error! Ingrese un valor de nota entre 0 y 100 ❌')\n"
   ]
  },
  {
   "cell_type": "code",
   "execution_count": 45,
   "id": "34330c2e",
   "metadata": {},
   "outputs": [
    {
     "name": "stdout",
     "output_type": "stream",
     "text": [
      "El numero ingresado es cero\n"
     ]
    }
   ],
   "source": [
    "# 5. Número par, impar o cero 🔢\n",
    "#Pide un número entero y determina si es par, impar o si es cero.\n",
    "import sys\n",
    "numero =None\n",
    "\n",
    "try:\n",
    "    numero = int(input('Ingrese Unicamente Valores Enteros'))\n",
    "except ValueError:\n",
    "    print('❌ Error Ingrese unicamente valores enteros')\n",
    "    sys.exit()\n",
    "\n",
    "if numero == 0:\n",
    "    print(f'El numero ingresado es cero')\n",
    "elif numero%2 == 0:\n",
    "    print(f'El numero: {numero} es par')\n",
    "else:\n",
    "    print(f'El numero: {numero} es impar')\n",
    "\n",
    "\n"
   ]
  },
  {
   "cell_type": "code",
   "execution_count": 70,
   "id": "59ee2d30",
   "metadata": {},
   "outputs": [
    {
     "name": "stdout",
     "output_type": "stream",
     "text": [
      "❌ Error la altura no puede ser igual a cero\n"
     ]
    },
    {
     "ename": "SystemExit",
     "evalue": "",
     "output_type": "error",
     "traceback": [
      "An exception has occurred, use %tb to see the full traceback.\n",
      "\u001b[31mSystemExit\u001b[39m\n"
     ]
    },
    {
     "name": "stderr",
     "output_type": "stream",
     "text": [
      "C:\\Users\\Aleja\\AppData\\Local\\Packages\\PythonSoftwareFoundation.Python.3.13_qbz5n2kfra8p0\\LocalCache\\local-packages\\Python313\\site-packages\\IPython\\core\\interactiveshell.py:3707: UserWarning: To exit: use 'exit', 'quit', or Ctrl-D.\n",
      "  warn(\"To exit: use 'exit', 'quit', or Ctrl-D.\", stacklevel=1)\n"
     ]
    }
   ],
   "source": [
    "#6. Categoría de IMC ⚖️\n",
    "# Calcula el Índice de Masa Corporal (IMC = peso / altura²). \n",
    "import sys\n",
    "\n",
    "# Creacion de varibles\n",
    "peso = None\n",
    "altura = None\n",
    "\n",
    "try: \n",
    "    peso = float(input('Ingrese el valor de su peso'))  #unidad kilogramo\n",
    "    altura = float(input('Ingrese el valor de su altura')) # unidad metro\n",
    "except ValueError:\n",
    "    print('❌ Ingrese unicamente valores numericos')\n",
    "    sys.exit()\n",
    "if altura == 0:\n",
    "    print('❌ Error la altura no puede ser igual a cero')\n",
    "    sys.exit()\n",
    "if peso < 0 or altura < 0:\n",
    "    print('❌ Error ingrese valores positivos para las varibles altura y peso')\n",
    "    sys.exit()\n",
    "else:\n",
    "    IMC = peso / altura**2 #Calculo  del indice de masa corporal\n",
    "\n",
    "print('Clasificacion segun OMS \\n <18.5 → “Bajo peso”\\n 18.5–24.9 → “Normal”\\n 25–29.9 → “Sobrepeso”\\n ≥30 → “Obesidad”')\n",
    "\n",
    "if  IMC < 18.5:\n",
    "    print(f'Segun su incide de masa corporal de {IMC:.2f}, usted tiene Bajo Peso ⬇️')\n",
    "elif 18.5 <= IMC <= 24.9:\n",
    "    print(f'Segun su incide de masa corporal de {IMC:.2f}, usted tiene un Peso Normal ☺️')\n",
    "elif 25 <= IMC <= 29.9:\n",
    "    print(f'Segun su incide de masa corporal de {IMC:.2f}, usted tiene sobre peso ⬆️')\n",
    "else:\n",
    "    print(f'Segun su incide de masa corporal de {IMC:.2f}, usted tiene Obesidad ⬆️⏰')\n"
   ]
  },
  {
   "cell_type": "code",
   "execution_count": 58,
   "id": "241caa48",
   "metadata": {},
   "outputs": [
    {
     "name": "stdout",
     "output_type": "stream",
     "text": [
      " El 204 año, es Bisiestro\n"
     ]
    }
   ],
   "source": [
    "import sys\n",
    "año = None\n",
    "# 7.Validación de año bisiesto 📅\n",
    "# Pide un año y determina si es bisiesto:\n",
    "\n",
    "# Manejo de Errores y Creacion de Variable año\n",
    "try:\n",
    "    año = int(input('Ingreso el año que desea determinar si es Bisiesto'))\n",
    "except ValueError:\n",
    "    print('Ingrese unicamente valores numericos y enteros')\n",
    "    sys.exit()\n",
    "\n",
    "# Extrableciendo condiciones\n",
    "\n",
    "if (año % 400 == 0) or ((año % 4 == 0) and (año % 100 != 0)):\n",
    "    print(f' El {año} año, es Bisiestro')\n",
    "else:\n",
    "    print(f' El {año} año, no es Bisiestro')\n",
    "\n",
    "\n"
   ]
  },
  {
   "cell_type": "code",
   "execution_count": null,
   "id": "a19c1f3d",
   "metadata": {},
   "outputs": [
    {
     "name": "stdout",
     "output_type": "stream",
     "text": [
      "Discoteca Caracas\n",
      "Bienvenido a la discoteca Caracas disfrute de todos nuestros servicios\n"
     ]
    }
   ],
   "source": [
    "# 8. Control de acceso a discoteca 🎶\n",
    "import sys\n",
    "edad = None\n",
    "print('Discoteca Caracas')\n",
    "\n",
    "# manejo de errrores de la variable edad\n",
    "try:\n",
    "    edad = int(input('Seria tan amable de indicarme su edad por favor'))\n",
    "except ValueError:\n",
    "    print('❌ Error Ingrese unicamente valores enteros')\n",
    "    sys.exit()\n",
    "# Manejo de vallores negativos.\n",
    "if edad < 0: \n",
    "    print('❌ Error debe ingresar valores de edad positivos')\n",
    "    sys.exit()\n",
    "\n",
    "\n",
    "#- Regla de Acceso.\n",
    "if edad < 18:\n",
    "    print(f'Lo siento, usted tienes {edad} años y no puede entrar porque es menor de edad 🚫')\n",
    "\n",
    "elif 18 <= edad < 21: \n",
    "    print(f'Bienvenido a la discoteca Caracas 🎵. Usted tiene {edad}, pero el consumo de alcohol está prohibido 🍹🚫')\n",
    "else:\n",
    "    print(f'Bienvenido a la discoteca Caracas 🎶. Usted tiene {edad} años, disfrute de todos nuestros servicios 🥳')"
   ]
  },
  {
   "cell_type": "code",
   "execution_count": null,
   "id": "5eafb2d4",
   "metadata": {},
   "outputs": [
    {
     "name": "stdout",
     "output_type": "stream",
     "text": [
      "\n",
      "Bienvenido a tu calculadora Básica\n",
      "\n",
      "Elige la operacion que deseas relizar\n",
      " opcion 1 = suma \n",
      " opcion 2 = resta \n",
      " opcion 3 = multiplicacion \n",
      " opcion 4 = division\n",
      "El resultado de la resta es: -52.0\n"
     ]
    }
   ],
   "source": [
    "# 9.Calculadora básica ➕➖✖️➗\n",
    "import sys\n",
    "# Pide dos números y un operador (`+`, `-`, `*`, `/`). \n",
    "numero_1 = None\n",
    "numero_2 = None\n",
    "\n",
    "print('\\nBienvenido a tu calculadora Básica')\n",
    "print('\\nElige la operacion que deseas relizar\\n opcion 1 = suma \\n opcion 2 = resta \\n opcion 3 = multiplicacion \\n opcion 4 = division')\n",
    "\n",
    "# Creacion de la variable Opcion\n",
    "\n",
    "# manejo de errores\n",
    "try:\n",
    "    opcion = int(input('Ingrese la operacion que desea realizar'))\n",
    "except ValueError:\n",
    "    print('❌ Error Ingrese unicamente numeros enteros positivos entre los numero 1 y 4')\n",
    "    sys.exit()\n",
    "\n",
    "# manejo de la variable opcion para valores menores que 0 y mayores que 4\n",
    "if opcion > 4 or opcion <= 0:\n",
    "    print('❌ Error debe  ingresar unicamente valores numericos comprendido entre 1 y 4')\n",
    "    sys.exit()\n",
    "\n",
    "# creacion de la variable numero y manejo de errores de la variable numero\n",
    "try: \n",
    "    numero_1 = float(input('Ingrese el primer numero'))\n",
    "    numero_2 = float(input('Ingrese el segundo numero'))\n",
    "except ValueError:\n",
    "    print('❌ Error debe ingresar solamente digitos' )\n",
    "    sys.exit()\n",
    "\n",
    "# Estableciendo las condiciones para las operaciones matematicas \n",
    "if opcion == 1:\n",
    "    resultado = numero_1 + numero_2\n",
    "    print(f'El resultado de la suma es: {resultado}')\n",
    "elif opcion == 2:\n",
    "    resultado = numero_1 - numero_2\n",
    "    print(f'El resultado de la resta es: {resultado}')\n",
    "elif opcion == 3:\n",
    "    resultado = numero_1 * numero_2\n",
    "    print(f'El resultado de la multiplicacion es: {resultado}')\n",
    "elif opcion == 4:\n",
    "    # Manejo de errores \n",
    "    try:\n",
    "        resultado = numero_1 / numero_2\n",
    "    except ZeroDivisionError:\n",
    "        print('Error: No se puede dividir entre cero')\n",
    "        sys.exit()\n",
    "    print(f'El resultado de la division es: {resultado:.2f}')\n",
    "\n"
   ]
  },
  {
   "cell_type": "code",
   "execution_count": 36,
   "id": "1d58ed78",
   "metadata": {},
   "outputs": [
    {
     "name": "stdout",
     "output_type": "stream",
     "text": [
      "El vehiculo que tiene: 8 ruedas es un Camion 🛻\n"
     ]
    }
   ],
   "source": [
    "import sys\n",
    "# 10.Clasificación de vehículos 🚗🚚🛵\n",
    "# Pide el número de ruedas de un vehículo y determina:\n",
    "\n",
    "# Variable numero de rueda\n",
    "n_ruedas = None \n",
    "\n",
    "# manejo de errores\n",
    "try:\n",
    "    n_ruedas = int(input('Ingrese el numero de rueda de su vehiculo'))\n",
    "except ValueError:\n",
    "    print('❌❌ Error: Ingrese unicamente numeros enteros')\n",
    "    sys.exit()\n",
    "\n",
    "# Manejo de valores de ruedas iguales o menores de cero \n",
    "if n_ruedas <= 0:\n",
    "    print('Error: Ingrese un numero entero mayor que 0')\n",
    "    sys.exit()\n",
    "\n",
    "# Manejo de Condiciones\n",
    "if n_ruedas == 1:\n",
    "    print(f'El vehiculo que tiene: {n_ruedas} ruedas es un Monociclo 🚴')\n",
    "elif n_ruedas == 2:\n",
    "    print(f'El vehiculo que tiene: {n_ruedas} ruedas es una Motocicleta 🏍️')\n",
    "elif n_ruedas == 4:\n",
    "    print(f'El vehiculo que tiene: {n_ruedas} ruedas es un Automovil 🚗')\n",
    "elif n_ruedas == 6 or n_ruedas == 8:\n",
    "    print(f'El vehiculo que tiene: {n_ruedas} ruedas es un Camion 🛻')\n",
    "elif n_ruedas > 8:\n",
    "    print('Vehiculos Especiales 🚛')\n",
    "else:\n",
    "    print('Vehiculos desconocidos 🤔') # Existen vehiculos de una rueda como otros que tienen mas de 8 ruedas \n"
   ]
  },
  {
   "cell_type": "code",
   "execution_count": null,
   "id": "76952339",
   "metadata": {},
   "outputs": [],
   "source": [
    "\n",
    "\n",
    "7. **Validación de año bisiesto 📅**  \n",
    "   Pide un año y determina si es bisiesto:  \n",
    "   - Regla: divisible por 4 y (no divisible por 100 o divisible por 400).\n",
    "\n",
    "\n",
    "\n",
    "\n",
    "1"
   ]
  }
 ],
 "metadata": {
  "kernelspec": {
   "display_name": "Python 3",
   "language": "python",
   "name": "python3"
  },
  "language_info": {
   "codemirror_mode": {
    "name": "ipython",
    "version": 3
   },
   "file_extension": ".py",
   "mimetype": "text/x-python",
   "name": "python",
   "nbconvert_exporter": "python",
   "pygments_lexer": "ipython3",
   "version": "3.13.7"
  }
 },
 "nbformat": 4,
 "nbformat_minor": 5
}
