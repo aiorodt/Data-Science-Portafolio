{
 "cells": [
  {
   "cell_type": "markdown",
   "id": "85a03344",
   "metadata": {},
   "source": [
    "# Clase 4 – Cadenas de texto (Strings) 📝\n",
    "\n",
    "Las **cadenas de texto** (`str`) son secuencias de caracteres rodeadas por comillas simples `' '` o dobles `\" \"`.\n",
    "\n",
    "---\n",
    "\n",
    "## 1. Crear cadenas\n",
    "```python\n",
    "texto1 = \"Hola\"\n",
    "texto2 = 'Python'"
   ]
  },
  {
   "cell_type": "markdown",
   "id": "613afa6c",
   "metadata": {},
   "source": [
    "## 2. Concatenación\n",
    "\n",
    "Unir cadenas con el operador +."
   ]
  },
  {
   "cell_type": "code",
   "execution_count": 4,
   "id": "0bdfc839",
   "metadata": {},
   "outputs": [
    {
     "name": "stdout",
     "output_type": "stream",
     "text": [
      "Hola Mundo\n"
     ]
    }
   ],
   "source": [
    "saludo = \"Hola \" + \"Mundo\"\n",
    "print(saludo)"
   ]
  },
  {
   "cell_type": "markdown",
   "id": "cb14a31c",
   "metadata": {},
   "source": [
    "## 3. Repetición\n",
    "\n",
    "Multiplicar cadenas con *."
   ]
  },
  {
   "cell_type": "code",
   "execution_count": 5,
   "id": "149f98c2",
   "metadata": {},
   "outputs": [
    {
     "name": "stdout",
     "output_type": "stream",
     "text": [
      "Hey! Hey! Hey! \n"
     ]
    }
   ],
   "source": [
    "eco = \"Hey! \" * 3\n",
    "print(eco)"
   ]
  },
  {
   "cell_type": "markdown",
   "id": "063e2c62",
   "metadata": {},
   "source": [
    "## 4. Indexación y slicing\n",
    "\n",
    "Acceder a caracteres por su índice:"
   ]
  },
  {
   "cell_type": "code",
   "execution_count": null,
   "id": "b807f290",
   "metadata": {},
   "outputs": [
    {
     "name": "stdout",
     "output_type": "stream",
     "text": [
      "P\n",
      "n\n",
      "Pyt\n"
     ]
    }
   ],
   "source": [
    "palabra = \"Python\"\n",
    "print(palabra[0])   # P\n",
    "print(palabra[-1])  # n \n",
    "print(palabra[0:3]) # Pyt [Inicio : Final]\n"
   ]
  },
  {
   "cell_type": "markdown",
   "id": "044a5e3a",
   "metadata": {},
   "source": [
    "## 5. Funciones y métodos útiles\n",
    "\n",
    "len(cadena) → longitud de la cadena\n",
    "\n",
    ".upper() → mayúsculas\n",
    "\n",
    ".lower() → minúsculas\n",
    "\n",
    ".capitalize() → primera letra en mayúscula\n",
    "\n",
    ".replace(\"a\", \"o\") → reemplazar\n",
    "\n",
    ".split(\" \") → separar en lista\n",
    "\n",
    ".strip() → quitar espacios"
   ]
  },
  {
   "cell_type": "markdown",
   "id": "8f916491",
   "metadata": {},
   "source": [
    "## 6. F-strings (interpolación de variables)"
   ]
  },
  {
   "cell_type": "code",
   "execution_count": 6,
   "id": "1c1a4c43",
   "metadata": {},
   "outputs": [
    {
     "name": "stdout",
     "output_type": "stream",
     "text": [
      "Hola, soy Alejandro y tengo 39 años\n"
     ]
    }
   ],
   "source": [
    "nombre = \"Alejandro\"\n",
    "edad = 39\n",
    "print(f\"Hola, soy {nombre} y tengo {edad} años\")\n"
   ]
  },
  {
   "cell_type": "code",
   "execution_count": 14,
   "id": "cc58402b",
   "metadata": {},
   "outputs": [
    {
     "name": "stdout",
     "output_type": "stream",
     "text": [
      "La lontitud de mi nombre es: 9\n",
      "La primera letra de mi nombres es: A\n",
      "La ultima letra de mi nombres es: o \n",
      "Mi Nombre completo en Mayuscula es: ALEJANDRO\n",
      "Mi Nombre completo es minuscula es: alejandro\n",
      "Remplazando la letra o por una a, nos queda que el nombre es: Alejandra\n",
      "\"Hola, soy Alejandro y me gusta Python\"\n"
     ]
    }
   ],
   "source": [
    "#📝 Ejercicios\n",
    "# 1.Crea una variable con tu nombre completo y muestra:\n",
    "# *Su longitud (len)\n",
    "# La primera letra\n",
    "# La última letra\n",
    "\n",
    "mi_nombre_completo = 'Alejandro' # mi nombre\n",
    "print(f'La lontitud de mi nombre es: {len(mi_nombre_completo)}')\n",
    "print(f'La primera letra de mi nombres es: {mi_nombre_completo[0]}')\n",
    "print(f'La ultima letra de mi nombres es: {mi_nombre_completo[-1]} ')\n",
    "\n",
    "# 2.Convierte tu nombre completo a mayúsculas y a minúsculas.\n",
    "print(f'Mi Nombre completo en Mayuscula es: {mi_nombre_completo.upper()}')\n",
    "print(f'Mi Nombre completo es minuscula es: {mi_nombre_completo.lower()}')\n",
    "\n",
    "# 3.Reemplaza una letra de tu nombre por otra\n",
    "print(f'Remplazando la letra o por una a, nos queda que el nombre es: {mi_nombre_completo.replace(\"o\",\"a\")}')\n",
    "\n",
    "# 4.Usa un f-string para imprimir: \"Hola, soy ___ y me gusta Python\"\n",
    "print(f'\"Hola, soy {mi_nombre_completo} y me gusta Python\"')\n",
    "\n",
    "\n"
   ]
  },
  {
   "cell_type": "markdown",
   "id": "8b6b0a6e",
   "metadata": {},
   "source": [
    "# 📌 Resumen de la Clase 4 – Cadenas de texto (strings) 📝\n",
    "\n",
    "- **Strings (`str`)**: secuencias de caracteres entre comillas.  \n",
    "- **Concatenación**: unir cadenas con `+`.  \n",
    "- **Repetición**: usar `*` para repetir texto.  \n",
    "- **Indexación y slicing**: acceder a letras con `[ ]` y a fragmentos con `[inicio:fin]`.  \n",
    "- **Funciones útiles**:  \n",
    "  - `len()`  \n",
    "  - `.upper()`  \n",
    "  - `.lower()`  \n",
    "  - `.capitalize()`  \n",
    "  - `.replace()`  \n",
    "  - `.split()`  \n",
    "  - `.strip()`  \n",
    "- **F-strings**: permiten insertar variables dentro de cadenas de forma sencilla.  \n",
    "\n",
    "👉 En resumen, los **strings** son fundamentales para trabajar con texto en Python y se usan muchísimo en limpieza y análisis de datos.\n"
   ]
  }
 ],
 "metadata": {
  "kernelspec": {
   "display_name": "Python 3",
   "language": "python",
   "name": "python3"
  },
  "language_info": {
   "codemirror_mode": {
    "name": "ipython",
    "version": 3
   },
   "file_extension": ".py",
   "mimetype": "text/x-python",
   "name": "python",
   "nbconvert_exporter": "python",
   "pygments_lexer": "ipython3",
   "version": "3.13.7"
  }
 },
 "nbformat": 4,
 "nbformat_minor": 5
}
