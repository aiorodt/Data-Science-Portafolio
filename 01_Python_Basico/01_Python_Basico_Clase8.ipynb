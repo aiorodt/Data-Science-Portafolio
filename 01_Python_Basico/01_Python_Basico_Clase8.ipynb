{
 "cells": [
  {
   "cell_type": "markdown",
   "id": "f2f484b0",
   "metadata": {},
   "source": [
    "# Clase 8: Listas en Python\n",
    "\n",
    "## Objetivos\n",
    "- Entender qué es una lista y cuándo usarla.  \n",
    "- Aprender a acceder, modificar, recorrer y manipular listas.  \n",
    "- Conocer slicing, listas anidadas y comprehensions.  \n",
    "- Practicar con ejercicios de dificultad creciente.\n",
    "\n",
    "---\n",
    "\n",
    "### 1.Crear listas\n",
    "**Qué es / para qué sirve**  \n",
    "Una **lista** es una colección ordenada y **mutable** (puedes cambiar sus elementos). Se define con corchetes `[]` y puede contener distintos tipos de datos.\n",
    "\n",
    "**Ejemplo**\n",
    "```python\n",
    "numeros = [1, 2, 3, 4, 5]\n",
    "mixta = [1, \"hola\", True, 3.14]\n"
   ]
  },
  {
   "cell_type": "code",
   "execution_count": 41,
   "id": "ce085741",
   "metadata": {},
   "outputs": [
    {
     "name": "stdout",
     "output_type": "stream",
     "text": [
      "['azul', 'negro', 'blanco', 'amarillo']\n"
     ]
    }
   ],
   "source": [
    "# Ejercicio corto\n",
    "# Crea una lista llamada colores con 4 colores distintos\n",
    "colores = ['azul','negro','blanco','amarillo']\n",
    "print(colores)"
   ]
  },
  {
   "cell_type": "markdown",
   "id": "6ede67a2",
   "metadata": {},
   "source": [
    "### 2.Acceder a elementos\n",
    "\n",
    "Qué es / para qué sirve\n",
    "Los elementos se acceden por índice empezando en 0. Los índices negativos cuentan desde el final (-1 último elemento).\n",
    "\n",
    "Ejemplo"
   ]
  },
  {
   "cell_type": "code",
   "execution_count": 42,
   "id": "6d2b30d7",
   "metadata": {},
   "outputs": [
    {
     "name": "stdout",
     "output_type": "stream",
     "text": [
      "Lista de nombres: ['Ana', 'Luis', 'Marta']\n",
      "El primer elemento de la lista es: Ana\n",
      "El ultimo elemento de la lista es Marta\n"
     ]
    }
   ],
   "source": [
    "nombres = [\"Ana\", \"Luis\", \"Marta\"]\n",
    "primer = nombres[0]    # \"Ana\"\n",
    "ultimo = nombres[-1]   # \"Marta\"\n",
    "print(f'Lista de nombres: {nombres}')\n",
    "print(f'El primer elemento de la lista es: {primer}')\n",
    "print(f'El ultimo elemento de la lista es {ultimo}')\n"
   ]
  },
  {
   "cell_type": "code",
   "execution_count": 43,
   "id": "fb9dae6c",
   "metadata": {},
   "outputs": [
    {
     "name": "stdout",
     "output_type": "stream",
     "text": [
      "El segundo color de la lista es: negro\n",
      "El penultimo color de lalista es blanco\n"
     ]
    }
   ],
   "source": [
    "# Ejercicio corto\n",
    "# Imprime el segundo y el penúltimo elemento de tu lista colores.\n",
    "colores = ['azul','negro','blanco','amarillo']\n",
    "\n",
    "segundo_color = colores[1]\n",
    "print(f'El segundo color de la lista es: {segundo_color}')\n",
    "\n",
    "penultimo_color = colores[-2]\n",
    "print(f'El penultimo color de lalista es {penultimo_color}')"
   ]
  },
  {
   "cell_type": "markdown",
   "id": "02fa804c",
   "metadata": {},
   "source": [
    "### 3.Modificar elementos\n",
    "\n",
    "Qué es / para qué sirve\n",
    "Las listas son mutables: asignando por índice puedes reemplazar valores o añadir/elimnar en posiciones concretas.\n",
    "\n",
    "Ejemplo"
   ]
  },
  {
   "cell_type": "code",
   "execution_count": 44,
   "id": "92ccef63",
   "metadata": {},
   "outputs": [
    {
     "name": "stdout",
     "output_type": "stream",
     "text": [
      "Lista original ['manzana', 'pera', 'uva']\n",
      "Lista con elemento modificado \n",
      "['manzana', 'banana', 'uva']\n"
     ]
    }
   ],
   "source": [
    "frutas = [\"manzana\", \"pera\", \"uva\"]\n",
    "print(f'Lista original {frutas}')\n",
    "\n",
    "frutas[1] = \"banana\"   # ahora [\"manzana\",\"banana\",\"uva\"]\n",
    "\n",
    "print(f'Lista con elemento modificado \\n{frutas}')"
   ]
  },
  {
   "cell_type": "code",
   "execution_count": 45,
   "id": "48f9ddcc",
   "metadata": {},
   "outputs": [
    {
     "name": "stdout",
     "output_type": "stream",
     "text": [
      "['morado', 'negro', 'blanco', 'amarillo']\n"
     ]
    }
   ],
   "source": [
    "# Ejercicio corto\n",
    "# Cambia el primer color de colores por otro y muéstralo.\n",
    "colores = ['azul','negro','blanco','amarillo']\n",
    "\n",
    "colores[0]='morado' # color azul modificado por morado\n",
    "print(colores)"
   ]
  },
  {
   "cell_type": "markdown",
   "id": "68ecc00a",
   "metadata": {},
   "source": [
    "### 4. Recorrer listas con for\n",
    "\n",
    "Qué es / para qué sirve\n",
    "Con for iteras cada elemento de la lista de forma directa; útil para procesar o mostrar todos los elementos.\n",
    "\n",
    "Ejemplo"
   ]
  },
  {
   "cell_type": "code",
   "execution_count": null,
   "id": "f60e9c01",
   "metadata": {},
   "outputs": [
    {
     "name": "stdout",
     "output_type": "stream",
     "text": [
      "manzana\n",
      "pera\n",
      "uva\n"
     ]
    }
   ],
   "source": [
    "for fruta in [\"manzana\",\"pera\",\"uva\"]:\n",
    "    print(fruta)\n"
   ]
  },
  {
   "cell_type": "code",
   "execution_count": 47,
   "id": "7f72c5ef",
   "metadata": {},
   "outputs": [
    {
     "name": "stdout",
     "output_type": "stream",
     "text": [
      "AZUL\n",
      "NEGRO\n",
      "BLANCO\n",
      "AMARILLO\n"
     ]
    }
   ],
   "source": [
    "# Ejercicio corto\n",
    "# Recorre colores e imprime cada color en mayúsculas.\n",
    "colores = ['azul','negro','blanco','amarillo']\n",
    "\n",
    "for color in colores: \n",
    "    print(color.upper())  # upper coloca todas las letras en mayusculas "
   ]
  },
  {
   "cell_type": "markdown",
   "id": "0f3d75f9",
   "metadata": {},
   "source": [
    "### 5. Verificar existencia con in\n",
    "\n",
    "Qué es / para qué sirve\n",
    "El operador in verifica si un valor está en la lista y devuelve True/False. Muy usado en condicionales.\n",
    "\n",
    "Ejemplo"
   ]
  },
  {
   "cell_type": "code",
   "execution_count": 48,
   "id": "071bba58",
   "metadata": {},
   "outputs": [
    {
     "data": {
      "text/plain": [
       "True"
      ]
     },
     "execution_count": 48,
     "metadata": {},
     "output_type": "execute_result"
    }
   ],
   "source": [
    "\"manzana\" in [\"manzana\",\"pera\"]  # True"
   ]
  },
  {
   "cell_type": "code",
   "execution_count": null,
   "id": "fed731b5",
   "metadata": {},
   "outputs": [
    {
     "name": "stdout",
     "output_type": "stream",
     "text": [
      "El color azul se encuentra en la lista de colores\n"
     ]
    }
   ],
   "source": [
    "# Ejercicio corto\n",
    "# Comprueba si \"azul\" está en colores y muestra un mensaje según el resultado.\n",
    "colores = ['azul','negro','blanco','amarillo']\n",
    "\n",
    "# condiciones para imprimir mensaje\n",
    "if 'azul' in colores:\n",
    "    print(f'El color azul se encuentra en la lista de colores')\n",
    "\n",
    "else:\n",
    "    print('El color azul no se encuentra en la lista de colores ')\n",
    "    "
   ]
  },
  {
   "cell_type": "markdown",
   "id": "0da82710",
   "metadata": {},
   "source": [
    "### 6.Operaciones comunes y funciones útiles\n",
    "\n",
    "Qué es / para qué sirve\n",
    "Funciones y operaciones frecuentes: len() (longitud), min(), max(), sum() (si son numéricas), concatenar +, repetir *\n",
    "\n",
    "Ejemplo"
   ]
  },
  {
   "cell_type": "code",
   "execution_count": 50,
   "id": "2c4a334e",
   "metadata": {},
   "outputs": [
    {
     "name": "stdout",
     "output_type": "stream",
     "text": [
      "3\n",
      "[1, 2, 3, 4, 5]\n",
      "[1, 2, 3, 1, 2, 3]\n"
     ]
    }
   ],
   "source": [
    "a = [1,2,3]; b = [4,5]\n",
    "len(a)        # 3     longitud de la lista\n",
    "a + b         # [1,2,3,4,5]      concatenar lista \n",
    "a * 2         # [1,2,3,1,2,3]    multiplicando la lista\n",
    "\n",
    "print(len(a))\n",
    "print(a+b)\n",
    "print(a*2)"
   ]
  },
  {
   "cell_type": "code",
   "execution_count": 51,
   "id": "afafb964",
   "metadata": {},
   "outputs": [
    {
     "name": "stdout",
     "output_type": "stream",
     "text": [
      "7\n",
      "72\n",
      "[2, 4, 6, 8, 10, 12, 30, 2, 4, 6, 8, 10, 12, 30]\n"
     ]
    }
   ],
   "source": [
    "#Ejercicio corto\n",
    "# Crea nums = [2,4,6,8] y muestra su longitud, suma y el doble de la lista (repetida).\n",
    "numeros = [2,4,6,8,10,12,30] # lista\n",
    "\n",
    "longitud =len(numeros) # longitud de la lista\n",
    "print(longitud)\n",
    "\n",
    "suma = sum(numeros)  # sumando elementos de la lista\n",
    "print(suma)\n",
    "\n",
    "doble_lista = numeros*2 # duplicando la lista\n",
    "print(doble_lista)\n",
    "\n"
   ]
  },
  {
   "cell_type": "markdown",
   "id": "03b13d0a",
   "metadata": {},
   "source": [
    "### 7.Métodos de listas\n",
    "\n",
    "Qué es / para qué sirve\n",
    "Métodos que modifican o consultan listas:\n",
    "- append(x)\n",
    "- insert(i,x) \n",
    "- remove(x) \n",
    "- pop(i) \n",
    "- sort() \n",
    "- reverse() \n",
    "- index(x) \n",
    "- count(x) \n",
    "- copy()"
   ]
  },
  {
   "cell_type": "code",
   "execution_count": 52,
   "id": "2bb9b8b6",
   "metadata": {},
   "outputs": [
    {
     "name": "stdout",
     "output_type": "stream",
     "text": [
      "Original: [3, 1, 4, 2]\n",
      ".append(5): [3, 1, 4, 2, 5]\n",
      ".insert(2, 99): [3, 1, 99, 4, 2, 5]\n",
      ".remove(99): [3, 1, 4, 2, 5]\n",
      ".pop(): 5 -> [3, 1, 4, 2]\n",
      ".sort(): [1, 2, 3, 4]\n",
      ".reverse(): [4, 3, 2, 1]\n",
      ".index(1): 3\n",
      ".count(3): 1\n",
      ".copy: [4, 3, 2, 1]\n"
     ]
    }
   ],
   "source": [
    "numeros = [3, 1, 4, 2]\n",
    "print(\"Original:\", numeros)\n",
    "\n",
    "numeros.append(5)              # agregando el numero 5 al final de la lista\n",
    "print(\".append(5):\", numeros)\n",
    "\n",
    "numeros.insert(2, 99)          # agregando en el indice 2 el numero 99\n",
    "print(\".insert(2, 99):\", numeros)\n",
    "\n",
    "numeros.remove(99)             # removemos el numero 99 de la lista\n",
    "print(\".remove(99):\", numeros)\n",
    "\n",
    "ultimo = numeros.pop()         # eliminamos el ultimo indice de la lista... Se puede guardar el numero elminado en una variable\n",
    "print(\".pop():\", ultimo, \"->\", numeros)\n",
    "\n",
    "numeros.sort()                 # ordenda la lista \n",
    "print(\".sort():\", numeros)\n",
    "\n",
    "numeros.reverse()             # invierte la lista\n",
    "print(\".reverse():\", numeros)\n",
    "\n",
    "\n",
    "n_index = numeros.index(1)\n",
    "print(\".index(1):\", n_index)    # muestra el valor del indice 1 \n",
    "\n",
    "h_count = numeros.count(3)      # muestra la cantidad de elementos que existen en la lista con el numero 3  en este caso 1\n",
    "print(\".count(3):\", h_count)\n",
    "\n",
    "copia_numeros = numeros.copy()   # copia la lista\n",
    "print(\".copy:\", copia_numeros)"
   ]
  },
  {
   "cell_type": "markdown",
   "id": "10a7e683",
   "metadata": {},
   "source": [
    "##### 7.1 El método .index() en una lista sirve para encontrar la posición (índice) de un elemento dentro de esa lista. \n",
    "\n",
    "##### 🔎 Detalles importantes:\n",
    "\n",
    "- Si el elemento no está en la lista, Python da un error (ValueError).\n",
    "\n",
    "- Si el elemento aparece varias veces, .index() devuelve la primera posición donde aparece."
   ]
  },
  {
   "cell_type": "code",
   "execution_count": 53,
   "id": "240d5408",
   "metadata": {},
   "outputs": [
    {
     "name": "stdout",
     "output_type": "stream",
     "text": [
      "2\n",
      "0\n"
     ]
    }
   ],
   "source": [
    "frutas = [\"manzana\", \"pera\", \"uva\", \"mango\"]\n",
    "print(frutas.index(\"uva\"))  # Resultado: 2\n",
    "print(frutas.index(\"manzana\"))\n"
   ]
  },
  {
   "cell_type": "code",
   "execution_count": 54,
   "id": "0378c877",
   "metadata": {},
   "outputs": [
    {
     "name": "stdout",
     "output_type": "stream",
     "text": [
      "Verificacion del color agregado:\n",
      "['azul', 'negro', 'blanco', 'amarillo', 'verde']\n",
      "\n",
      "Nuevo orden de los colores:\n",
      "['amarillo', 'azul', 'blanco', 'negro', 'verde']\n",
      "\n",
      "Eliminacion del ultimo termino despues de ordenarlo:\n",
      "['amarillo', 'azul', 'blanco', 'negro']\n"
     ]
    }
   ],
   "source": [
    "#Ejercicio corto\n",
    "# Añade un elemento a colores, ordénalos (si son strings) y elimina el último con pop().\n",
    "colores = ['azul','negro','blanco','amarillo']\n",
    "\n",
    "# Agrego el color verde\n",
    "colores.append('verde')\n",
    "print(f'Verificacion del color agregado:\\n{colores}')\n",
    "\n",
    "# agregamos los colores con sorf\n",
    "colores.sort()\n",
    "print(f'\\nNuevo orden de los colores:\\n{colores}')\n",
    "\n",
    "# eliminamos el ultimo elemento con pop \n",
    "colores.pop()\n",
    "print(f'\\nEliminacion del ultimo termino despues de ordenarlo:\\n{colores}')"
   ]
  },
  {
   "cell_type": "markdown",
   "id": "a549ebb9",
   "metadata": {},
   "source": [
    "### 8.List slicing (sublistas)\n",
    "\n",
    "Qué es / para qué sirve\n",
    "El slicing extrae sublistas: lista[inicio:fin:paso]. inicio incluido, fin excluido. paso opcional.\n",
    "\n",
    "Ejemplo"
   ]
  },
  {
   "cell_type": "code",
   "execution_count": 55,
   "id": "bf8cb494",
   "metadata": {},
   "outputs": [
    {
     "name": "stdout",
     "output_type": "stream",
     "text": [
      "Elementos del 2 al 4: [20, 30, 40]\n",
      "Primeros 3 elementos: [10, 20, 30]\n",
      "Desde el tercero hasta el final: [30, 40, 50]\n"
     ]
    }
   ],
   "source": [
    "L = [10,20,30,40,50]\n",
    "\n",
    "print(\"Elementos del 2 al 4:\", L[1:4])  \n",
    "print(\"Primeros 3 elementos:\", L[:3])   \n",
    "print(\"Desde el tercero hasta el final:\", L[2:]) \n"
   ]
  },
  {
   "cell_type": "code",
   "execution_count": 56,
   "id": "1d2ed50a",
   "metadata": {},
   "outputs": [
    {
     "name": "stdout",
     "output_type": "stream",
     "text": [
      "Lista de elementos pares es:\n",
      "[2, 4, 6, 8, 10]\n"
     ]
    }
   ],
   "source": [
    "#Ejercicio corto\n",
    "# De nums = list(range(1,11)) extrae los números pares con slicing y muéstralos.\n",
    "\n",
    "nums = list(range(1,11))\n",
    "\n",
    "print(f'Lista de elementos pares es:\\n{nums[1::2]}') "
   ]
  },
  {
   "cell_type": "markdown",
   "id": "a85a3a20",
   "metadata": {},
   "source": [
    "### 9.Listas anidadas\n",
    "\n",
    "Qué es / para qué sirve\n",
    "Una lista puede contener otras listas — se usan para matrices o tablas. Acceso con lista[fila][col].\n",
    "\n",
    "Ejemplo"
   ]
  },
  {
   "cell_type": "code",
   "execution_count": 57,
   "id": "d64d0fcb",
   "metadata": {},
   "outputs": [
    {
     "data": {
      "text/plain": [
       "6"
      ]
     },
     "execution_count": 57,
     "metadata": {},
     "output_type": "execute_result"
    }
   ],
   "source": [
    "matriz = [[1,2,3],[4,5,6],[7,8,9]]\n",
    "matriz[1][2]   # 6        matriz[indice][sub indice]    \n"
   ]
  },
  {
   "cell_type": "code",
   "execution_count": 58,
   "id": "d748981e",
   "metadata": {},
   "outputs": [
    {
     "name": "stdout",
     "output_type": "stream",
     "text": [
      "[[0, 1, 2], [3, 4, 5]]\n",
      "El elemento de la fila dos y columna es: 3\n"
     ]
    }
   ],
   "source": [
    "# Ejercicio corto\n",
    "# Crea una matriz 2x3 y muestra el elemento de la fila 2, columna 1 (índices empezando en 0).\n",
    "\n",
    "matriz2X3 = [\n",
    "    [0,1,2],   # fila 1\n",
    "    [3,4,5] ] # fila 2\n",
    "print(matriz2X3)\n",
    "\n",
    "# muestro elemento de la fila 2 y columna 1\n",
    "print(f'El elemento de la fila dos y columna es: {matriz2X3[1][0]}')"
   ]
  },
  {
   "cell_type": "markdown",
   "id": "0f541702",
   "metadata": {},
   "source": [
    "### 10.List comprehensions\n",
    "\n",
    "Qué es / para qué sirve\n",
    "Constructo compacto para generar listas a partir de iterables y opcionales filtros:\n",
    "[expresion for x in iterable if condicion]. Aumenta legibilidad y rendimiento en muchos casos.\n",
    "\n",
    "Ejemplo"
   ]
  },
  {
   "cell_type": "code",
   "execution_count": 59,
   "id": "9663cfe1",
   "metadata": {},
   "outputs": [
    {
     "name": "stdout",
     "output_type": "stream",
     "text": [
      "Numeros pares de la lista \n",
      "[2, 4, 6, 8, 10]\n"
     ]
    }
   ],
   "source": [
    "cuadrados = [x**2 for x in range(1,6)]      # [1,4,9,16,25]\n",
    "pares = [x for x in range(1,11) if x%2==0]  # [2,4,6,8,10]\n",
    "\n",
    "print(f'Numeros pares de la lista \\n{pares}')"
   ]
  },
  {
   "cell_type": "markdown",
   "id": "0b7a4c5b",
   "metadata": {},
   "source": [
    "### Ejercicios finales \n",
    "\n",
    "1. Crea lista1 con 5 números: muestra el primero y el último; cambia el segundo y vuelve a mostrar.\n",
    "\n",
    "2. Con pares = [2,4,6,8,10] extrae con slicing [4,6,8].\n",
    "\n",
    "3. Llena una lista vacía con los números 1–10 usando for.\n",
    "\n",
    "4. Ordena alfabéticamente [\"Sofía\",\"Ana\",\"Luis\",\"Pedro\"].\n",
    "\n",
    "5. Reto: genera 10 números aleatorios (1–100), crea una lista con ellos y:\n",
    "- Usa list comprehension para obtener sólo los pares,\n",
    "- Muestra el máximo y mínimo,\n",
    "- Muestra la lista ordenada sin alterar la original (sorted())."
   ]
  },
  {
   "cell_type": "code",
   "execution_count": 60,
   "id": "3e9068b9",
   "metadata": {},
   "outputs": [
    {
     "name": "stdout",
     "output_type": "stream",
     "text": [
      "El primer termino de la lista es: 2 y el ultimo termino es: 6\n",
      "[2, 1520, 4, 5, 6]\n"
     ]
    }
   ],
   "source": [
    "# Ejercicios 1. Crea lista1 con 5 números: muestra el primero y el último; cambia el segundo y vuelve a mostrar.\n",
    "\n",
    "lista1 = [2,3,4,5,6]\n",
    "print(f'El primer termino de la lista es: {lista1[0]} y el ultimo termino es: {lista1[-1]}')\n",
    "\n",
    "#Cambiando el segundo numero de la lista\n",
    "lista1[1]=1520\n",
    "print(lista1)"
   ]
  },
  {
   "cell_type": "code",
   "execution_count": 61,
   "id": "4c5ac7e5",
   "metadata": {},
   "outputs": [
    {
     "name": "stdout",
     "output_type": "stream",
     "text": [
      "[4, 6, 8]\n"
     ]
    }
   ],
   "source": [
    "# Ejercicio 2.Con pares = [2,4,6,8,10] extrae con slicing [4,6,8].\n",
    "pares =[2,4,6,8,10]\n",
    "\n",
    "extracion_pares = pares[1:4]\n",
    "print(extracion_pares)"
   ]
  },
  {
   "cell_type": "code",
   "execution_count": 62,
   "id": "c4cbb86c",
   "metadata": {},
   "outputs": [
    {
     "name": "stdout",
     "output_type": "stream",
     "text": [
      "Llenando la lista vacia con: \n",
      "[1, 2, 3, 4, 5, 6, 7, 8, 9, 10]\n"
     ]
    }
   ],
   "source": [
    "# Ejercicio 3.Llena una lista vacía con los números 1–10 usando for.\n",
    "lista_vacia =[]\n",
    "for numero in range(1,11):\n",
    "    lista_vacia.append(numero)\n",
    "print(f'Llenando la lista vacia con: \\n{lista_vacia}')\n"
   ]
  },
  {
   "cell_type": "code",
   "execution_count": null,
   "id": "305a8677",
   "metadata": {},
   "outputs": [
    {
     "name": "stdout",
     "output_type": "stream",
     "text": [
      "Lista de nombre alfabeticamente: \n",
      "['Ana', 'Luis', 'Pedro', 'Sofia']\n"
     ]
    }
   ],
   "source": [
    "# Ejercicio 4.4. Ordena alfabéticamente [\"Sofía\",\"Ana\",\"Luis\",\"Pedro\"].\n",
    "\n",
    "nombres = ['Sofia','Ana','Luis','Pedro']\n",
    "\n",
    "# Ordenamos la lista con sorf()\n",
    "nombres.sort()\n",
    "\n",
    "print(f'Lista de nombre alfabeticamente: \\n{nombres}')"
   ]
  },
  {
   "cell_type": "code",
   "execution_count": 66,
   "id": "6e520472",
   "metadata": {},
   "outputs": [
    {
     "name": "stdout",
     "output_type": "stream",
     "text": [
      "Los diez numero aleatorios son:\n",
      "[61, 53, 42, 34, 64, 17, 59, 46, 21, 8]\n",
      "\n",
      "Los numeros pares de la lista aletoria son:\n",
      "[42, 34, 64, 46, 8]\n",
      "\n",
      "El numero MAXIMO de la lista  es: 64 \n",
      "El numero MINIMO de la lista es: 8\n",
      "\n",
      "Lista ordena de numero aleatorio es: [8, 17, 21, 34, 42, 46, 53, 59, 61, 64]\n"
     ]
    }
   ],
   "source": [
    "# Ejercicio 5.Reto: genera 10 números aleatorios (1–100), crea una lista con ellos y:\n",
    "# - Usa list comprehension para obtener sólo los pares,\n",
    "# - Muestra el máximo y mínimo,\n",
    "# - Muestra la lista ordenada sin alterar la original (sorted()). \n",
    "\n",
    "# Importacion de lalibreria Random\n",
    "\n",
    "import random\n",
    "\n",
    "# Generando 10 numero aleatorio entre 1 y 100 \n",
    "number = [random.randint(1,100) for _ in range(10)]  #rando.randint crea los numero aletorio  _ in range(x) defini la cantidad de numero a elegir\n",
    "print(f'Los diez numero aleatorios son:\\n{number}')\n",
    "\n",
    "# Una lista comprehension para obtener solo los pares\n",
    "pares = [par for par in number if par % 2 == 0]\n",
    "print(f'\\nLos numeros pares de la lista aletoria son:\\n{pares}')\n",
    "\n",
    "# Mostramos el maximo y el minimo\n",
    "print(f'\\nEl numero MAXIMO de la lista  es: {max(number)} \\nEl numero MINIMO de la lista es: {min(number)}')\n",
    "\n",
    "# Mostrando la lista ordenada sin alterar la original \n",
    "ordenada = sorted(number)\n",
    "print(f'\\nLista ordena de numero aleatorio es: {ordenada}')\n",
    "# 👉 La diferencia clave es que sorted(lista) devuelve una nueva lista, mientras que lista.sort() modifica la original."
   ]
  },
  {
   "cell_type": "markdown",
   "id": "01e19627",
   "metadata": {},
   "source": [
    "# 📝 Problemas sobre Listas"
   ]
  },
  {
   "cell_type": "code",
   "execution_count": 23,
   "id": "e1ee9bb3",
   "metadata": {},
   "outputs": [
    {
     "name": "stdout",
     "output_type": "stream",
     "text": [
      "El Tercer Pais de la lista es: Japon \n",
      "El ultimo Pais de la lista es: Italia \n"
     ]
    }
   ],
   "source": [
    "# 1. Acceder a elementos\n",
    "#Crea una lista con los nombres de 5 países y muestra el tercero y el último.\n",
    "\n",
    "paises = ['Alemania','Brazil','Japon','Paraguay','Italia']\n",
    "print(f'El Tercer Pais de la lista es: {paises[2]} \\nEl ultimo Pais de la lista es: {paises[-1]} ')"
   ]
  },
  {
   "cell_type": "code",
   "execution_count": 25,
   "metadata": {},
   "outputs": [
    {
     "name": "stdout",
     "output_type": "stream",
     "text": [
      "Se reemplazo el valor del indice 2 por el valor de: 99\n",
      "La lista completa de numero es:\n",
      "[10, 20, 99, 40, 50]\n"
     ]
    }
   ],
   "source": [
    "# 2. Modificar elementos\n",
    "# Tienes la lista numeros = [10, 20, 30, 40, 50].\n",
    "# Cambia el valor en la posición 2 (tercer elemento) por 99 y muestra la lista.\n",
    "numeros = [10, 20, 30, 40, 50]\n",
    "numeros[2]= 99\n",
    "\n",
    "print(f'Se reemplazo el valor del indice 2 por el valor de: {numeros[2]}\\nLa lista completa de numero es:\\n{numeros}')"
   ]
  },
  {
   "cell_type": "code",
   "execution_count": 27,
   "id": "5ed92b79",
   "metadata": {},
   "outputs": [
    {
     "name": "stdout",
     "output_type": "stream",
     "text": [
      "Lista de Frutas despues de eliminar uva ['manzana', 'pera', 'mango', 'kiwi']\n"
     ]
    }
   ],
   "source": [
    "#3. Eliminar elementos\n",
    "# Crea la lista frutas = [\"manzana\",\"pera\",\"uva\",\"mango\",\"kiwi\"].\n",
    "# Elimina \"uva\" usando .remove() y muestra la lista.\n",
    "frutas = [\"manzana\",\"pera\",\"uva\",\"mango\",\"kiwi\"]\n",
    "frutas.remove(\"uva\")\n",
    "print(f'Lista de Frutas despues de eliminar uva {frutas}')"
   ]
  },
  {
   "cell_type": "code",
   "execution_count": 28,
   "metadata": {},
   "outputs": [
    {
     "name": "stdout",
     "output_type": "stream",
     "text": [
      "El numero rojo aparece en la lista: 3 veces\n"
     ]
    }
   ],
   "source": [
    "# 4. Contar elementos\n",
    "# Dada la lista colores = [\"rojo\",\"azul\",\"rojo\",\"verde\",\"rojo\",\"amarillo\"],\n",
    "# cuenta cuántas veces aparece \"rojo\"\n",
    "colores = [\"rojo\",\"azul\",\"rojo\",\"verde\",\"rojo\",\"amarillo\"]\n",
    "print(f\"El numero rojo aparece en la lista: {colores.count('rojo')} veces\")"
   ]
  },
  {
   "cell_type": "code",
   "execution_count": null,
   "id": "d87416c8",
   "metadata": {},
   "outputs": [
    {
     "name": "stdout",
     "output_type": "stream",
     "text": [
      "[1, 2, 3, 4, 5, 6]\n"
     ]
    }
   ],
   "source": [
    "# 5. Concatenar listas\n",
    "# Crea lista1 = [1,2,3] y lista2 = [4,5,6]. Une ambas en una nueva lista y muéstrala.\n",
    "lista1 = [1,2,3] \n",
    "lista2 = [4,5,6]\n",
    "lista_final_1 = lista1 + lista2 \n",
    "print(lista_final_1)\n",
    "\n"
   ]
  },
  {
   "cell_type": "code",
   "execution_count": 13,
   "metadata": {},
   "outputs": [
    {
     "name": "stdout",
     "output_type": "stream",
     "text": [
      "Lista de letras\n",
      "['a', 'b', 'c', 'd', 'e'] \n",
      "Invirtiendo lista de letras\n",
      "['e', 'd', 'c', 'b', 'a']\n"
     ]
    }
   ],
   "source": [
    "# 6. Invertir lista\n",
    "# Dada la lista letras = [\"a\",\"b\",\"c\",\"d\",\"e\"],\n",
    "# muéstrala invertida sin modificar la original\n",
    "letras = [\"a\",\"b\",\"c\",\"d\",\"e\"]\n",
    "invirtiendo_letras = letras[::-1]\n",
    "print(f'Lista de letras\\n{letras} \\nInvirtiendo lista de letras\\n{invirtiendo_letras}')\n"
   ]
  },
  {
   "cell_type": "code",
   "execution_count": null,
   "id": "cd6e339c",
   "metadata": {},
   "outputs": [
    {
     "name": "stdout",
     "output_type": "stream",
     "text": [
      "La suma de los valores de la lista es: 75\n"
     ]
    }
   ],
   "source": [
    "#7. Suma de elementos\n",
    "#Con la lista valores = [5,10,15,20,25], calcula la suma total usando sum()\n",
    "valores = [5,10,15,20,25]\n",
    "suma_de_valores =sum(valores)\n",
    "print(f'La suma de los valores de la lista es: {suma_de_valores}')\n",
    "\n"
   ]
  },
  {
   "cell_type": "code",
   "execution_count": 16,
   "metadata": {},
   "outputs": [
    {
     "name": "stdout",
     "output_type": "stream",
     "text": [
      "[1, 4, 9, 16, 25, 36, 49, 64, 81, 100]\n"
     ]
    }
   ],
   "source": [
    "# 8. Lista por comprensión\n",
    "# Crea una lista con los cuadrados de los números del 1 al 10 usando list comprehension\n",
    "cuadrados = [x**2 for x in range(1,11)] \n",
    "print(cuadrados)"
   ]
  },
  {
   "cell_type": "code",
   "execution_count": 22,
   "metadata": {},
   "outputs": [],
   "source": [
    "#9. Desafío 1: Números primos Genera una lista con los números del 1 al 50. Después, crea otra lista que contenga sólo los números primos\n",
    "\n",
    "\n"
   ]
  },
  {
   "cell_type": "markdown",
   "id": "5b063e7d",
   "metadata": {},
   "source": [
    "# Resumen rápido\n",
    "\n",
    "- Las listas son colecciones ordenadas y mutables.\n",
    "\n",
    "- Acceso por índice, slicing para sublistas.\n",
    "\n",
    "- Métodos (append, pop, remove, sort, ...) facilitan manipulación.\n",
    "\n",
    "- for y comprensiones son las formas más habituales para generar/recorrer listas.\n",
    "\n",
    "- Las comprehensions son sintaxis compacta y potente para transformar datos."
   ]
  }
 ],
 "metadata": {
  "kernelspec": {
   "display_name": "Python 3",
   "language": "python",
   "name": "python3"
  },
  "language_info": {
   "codemirror_mode": {
    "name": "ipython",
    "version": 3
   },
   "file_extension": ".py",
   "mimetype": "text/x-python",
   "name": "python",
   "nbconvert_exporter": "python",
   "pygments_lexer": "ipython3",
   "version": "3.13.7"
  }
 },
 "nbformat": 4,
 "nbformat_minor": 5
}
