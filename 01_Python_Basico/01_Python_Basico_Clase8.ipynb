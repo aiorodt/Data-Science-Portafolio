{
 "cells": [
  {
   "cell_type": "markdown",
   "id": "f2f484b0",
   "metadata": {},
   "source": [
    "# Clase 8: Listas en Python\n",
    "\n",
    "## Objetivos\n",
    "- Entender qué es una lista y cuándo usarla.  \n",
    "- Aprender a acceder, modificar, recorrer y manipular listas.  \n",
    "- Conocer slicing, listas anidadas y comprehensions.  \n",
    "- Practicar con ejercicios de dificultad creciente.\n",
    "\n",
    "---\n",
    "\n",
    "### 1.Crear listas\n",
    "**Qué es / para qué sirve**  \n",
    "Una **lista** es una colección ordenada y **mutable** (puedes cambiar sus elementos). Se define con corchetes `[]` y puede contener distintos tipos de datos.\n",
    "\n",
    "**Ejemplo**\n",
    "```python\n",
    "numeros = [1, 2, 3, 4, 5]\n",
    "mixta = [1, \"hola\", True, 3.14]\n"
   ]
  },
  {
   "cell_type": "code",
   "execution_count": 18,
   "id": "ce085741",
   "metadata": {},
   "outputs": [
    {
     "name": "stdout",
     "output_type": "stream",
     "text": [
      "['azul', 'negro', 'blanco', 'amarillo']\n"
     ]
    }
   ],
   "source": [
    "# Ejercicio corto\n",
    "# Crea una lista llamada colores con 4 colores distintos\n",
    "colores = ['azul','negro','blanco','amarillo']\n",
    "print(colores)"
   ]
  },
  {
   "cell_type": "markdown",
   "id": "6ede67a2",
   "metadata": {},
   "source": [
    "### 2.Acceder a elementos\n",
    "\n",
    "Qué es / para qué sirve\n",
    "Los elementos se acceden por índice empezando en 0. Los índices negativos cuentan desde el final (-1 último elemento).\n",
    "\n",
    "Ejemplo"
   ]
  },
  {
   "cell_type": "code",
   "execution_count": 22,
   "id": "6d2b30d7",
   "metadata": {},
   "outputs": [
    {
     "name": "stdout",
     "output_type": "stream",
     "text": [
      "Lista de nombres: ['Ana', 'Luis', 'Marta']\n",
      "El primer elemento de la lista es: Ana\n",
      "El ultimo elemento de la lista es Marta\n"
     ]
    }
   ],
   "source": [
    "nombres = [\"Ana\", \"Luis\", \"Marta\"]\n",
    "primer = nombres[0]    # \"Ana\"\n",
    "ultimo = nombres[-1]   # \"Marta\"\n",
    "print(f'Lista de nombres: {nombres}')\n",
    "print(f'El primer elemento de la lista es: {primer}')\n",
    "print(f'El ultimo elemento de la lista es {ultimo}')\n"
   ]
  },
  {
   "cell_type": "code",
   "execution_count": 24,
   "id": "fb9dae6c",
   "metadata": {},
   "outputs": [
    {
     "name": "stdout",
     "output_type": "stream",
     "text": [
      "El segundo color de la lista es: negro\n",
      "El penultimo color de lalista es blanco\n"
     ]
    }
   ],
   "source": [
    "# Ejercicio corto\n",
    "# Imprime el segundo y el penúltimo elemento de tu lista colores.\n",
    "colores = ['azul','negro','blanco','amarillo']\n",
    "\n",
    "segundo_color = colores[1]\n",
    "print(f'El segundo color de la lista es: {segundo_color}')\n",
    "\n",
    "penultimo_color = colores[-2]\n",
    "print(f'El penultimo color de lalista es {penultimo_color}')"
   ]
  },
  {
   "cell_type": "markdown",
   "id": "02fa804c",
   "metadata": {},
   "source": [
    "### 3.Modificar elementos\n",
    "\n",
    "Qué es / para qué sirve\n",
    "Las listas son mutables: asignando por índice puedes reemplazar valores o añadir/elimnar en posiciones concretas.\n",
    "\n",
    "Ejemplo"
   ]
  },
  {
   "cell_type": "code",
   "execution_count": 26,
   "id": "92ccef63",
   "metadata": {},
   "outputs": [
    {
     "name": "stdout",
     "output_type": "stream",
     "text": [
      "Lista original ['manzana', 'pera', 'uva']\n",
      "Lista con elemento modificado \n",
      "['manzana', 'banana', 'uva']\n"
     ]
    }
   ],
   "source": [
    "frutas = [\"manzana\", \"pera\", \"uva\"]\n",
    "print(f'Lista original {frutas}')\n",
    "\n",
    "frutas[1] = \"banana\"   # ahora [\"manzana\",\"banana\",\"uva\"]\n",
    "\n",
    "print(f'Lista con elemento modificado \\n{frutas}')"
   ]
  },
  {
   "cell_type": "code",
   "execution_count": 27,
   "id": "48f9ddcc",
   "metadata": {},
   "outputs": [
    {
     "name": "stdout",
     "output_type": "stream",
     "text": [
      "['morado', 'negro', 'blanco', 'amarillo']\n"
     ]
    }
   ],
   "source": [
    "# Ejercicio corto\n",
    "# Cambia el primer color de colores por otro y muéstralo.\n",
    "colores = ['azul','negro','blanco','amarillo']\n",
    "\n",
    "colores[0]='morado' # color azul modificado por morado\n",
    "print(colores)"
   ]
  },
  {
   "cell_type": "markdown",
   "id": "68ecc00a",
   "metadata": {},
   "source": [
    "### 4. Recorrer listas con for\n",
    "\n",
    "Qué es / para qué sirve\n",
    "Con for iteras cada elemento de la lista de forma directa; útil para procesar o mostrar todos los elementos.\n",
    "\n",
    "Ejemplo"
   ]
  },
  {
   "cell_type": "code",
   "execution_count": 28,
   "id": "f60e9c01",
   "metadata": {},
   "outputs": [
    {
     "name": "stdout",
     "output_type": "stream",
     "text": [
      "manzana\n",
      "pera\n",
      "uva\n"
     ]
    }
   ],
   "source": [
    "for fruta in [\"manzana\",\"pera\",\"uva\"]:\n",
    "    print(fruta)\n",
    "#"
   ]
  },
  {
   "cell_type": "code",
   "execution_count": 31,
   "id": "7f72c5ef",
   "metadata": {},
   "outputs": [
    {
     "name": "stdout",
     "output_type": "stream",
     "text": [
      "Azul\n",
      "Negro\n",
      "Blanco\n",
      "Amarillo\n"
     ]
    }
   ],
   "source": [
    "# Ejercicio corto\n",
    "# Recorre colores e imprime cada color en mayúsculas.\n",
    "colores = ['azul','negro','blanco','amarillo']\n",
    "\n",
    "for color in colores: \n",
    "    print(color.title())  # Revisar"
   ]
  },
  {
   "cell_type": "markdown",
   "id": "0f3d75f9",
   "metadata": {},
   "source": [
    "### 5. Verificar existencia con in\n",
    "\n",
    "Qué es / para qué sirve\n",
    "El operador in verifica si un valor está en la lista y devuelve True/False. Muy usado en condicionales.\n",
    "\n",
    "Ejemplo"
   ]
  },
  {
   "cell_type": "code",
   "execution_count": 32,
   "id": "071bba58",
   "metadata": {},
   "outputs": [
    {
     "data": {
      "text/plain": [
       "True"
      ]
     },
     "execution_count": 32,
     "metadata": {},
     "output_type": "execute_result"
    }
   ],
   "source": [
    "\"manzana\" in [\"manzana\",\"pera\"]  # True"
   ]
  },
  {
   "cell_type": "code",
   "execution_count": 35,
   "id": "fed731b5",
   "metadata": {},
   "outputs": [
    {
     "name": "stdout",
     "output_type": "stream",
     "text": [
      "El color azul se encuentra en la lista de colores\n"
     ]
    }
   ],
   "source": [
    "# Ejercicio corto\n",
    "# Comprueba si \"azul\" está en colores y muestra un mensaje según el resultado.\n",
    "colores = ['azul','negro','blanco','amarillo']\n",
    "\n",
    "# condiciones para imprimir mensaje\n",
    "if ('azul' in colores)== True:\n",
    "    print(f'El color azul se encuentra en la lista de colores')\n",
    "\n",
    "else:\n",
    "    print('El color azul no se encuentra en la lista de colores ')\n"
   ]
  },
  {
   "cell_type": "markdown",
   "id": "0da82710",
   "metadata": {},
   "source": [
    "### 6.Operaciones comunes y funciones útiles\n",
    "\n",
    "Qué es / para qué sirve\n",
    "Funciones y operaciones frecuentes: len() (longitud), min(), max(), sum() (si son numéricas), concatenar +, repetir *\n",
    "\n",
    "Ejemplo"
   ]
  },
  {
   "cell_type": "code",
   "execution_count": 38,
   "id": "2c4a334e",
   "metadata": {},
   "outputs": [
    {
     "name": "stdout",
     "output_type": "stream",
     "text": [
      "3\n",
      "[1, 2, 3, 4, 5]\n",
      "[1, 2, 3, 1, 2, 3]\n"
     ]
    }
   ],
   "source": [
    "a = [1,2,3]; b = [4,5]\n",
    "len(a)        # 3     longitud de la lista\n",
    "a + b         # [1,2,3,4,5]      concatenar lista \n",
    "a * 2         # [1,2,3,1,2,3]    multiplicando la lista\n",
    "\n",
    "print(len(a))\n",
    "print(a+b)\n",
    "print(a*2)"
   ]
  },
  {
   "cell_type": "code",
   "execution_count": 39,
   "id": "afafb964",
   "metadata": {},
   "outputs": [
    {
     "name": "stdout",
     "output_type": "stream",
     "text": [
      "7\n",
      "72\n",
      "[2, 4, 6, 8, 10, 12, 30, 2, 4, 6, 8, 10, 12, 30]\n"
     ]
    }
   ],
   "source": [
    "#Ejercicio corto\n",
    "# Crea nums = [2,4,6,8] y muestra su longitud, suma y el doble de la lista (repetida).\n",
    "numeros = [2,4,6,8,10,12,30] # lista\n",
    "\n",
    "longitud =len(numeros) # longitud de la lista\n",
    "print(longitud)\n",
    "\n",
    "suma = sum(numeros)  # sumando elementos de la lista\n",
    "print(suma)\n",
    "\n",
    "doble_lista = numeros*2 # duplicando la lista\n",
    "print(doble_lista)\n",
    "\n"
   ]
  },
  {
   "cell_type": "markdown",
   "id": "03b13d0a",
   "metadata": {},
   "source": [
    "### 7.Métodos de listas\n",
    "\n",
    "Qué es / para qué sirve\n",
    "Métodos que modifican o consultan listas:\n",
    "- append(x)\n",
    "- insert(i,x) \n",
    "- remove(x) \n",
    "- pop(i) \n",
    "- sort() \n",
    "- reverse() \n",
    "- index(x) \n",
    "- count(x) \n",
    "- copy()"
   ]
  },
  {
   "cell_type": "code",
   "execution_count": 92,
   "id": "2bb9b8b6",
   "metadata": {},
   "outputs": [
    {
     "name": "stdout",
     "output_type": "stream",
     "text": [
      "Original: [3, 1, 4, 2]\n",
      ".append(5): [3, 1, 4, 2, 5]\n",
      ".insert(2, 99): [3, 1, 99, 4, 2, 5]\n",
      ".remove(99): [3, 1, 4, 2, 5]\n",
      ".pop(): 5 -> [3, 1, 4, 2]\n",
      ".sort(): [1, 2, 3, 4]\n",
      ".reverse(): [4, 3, 2, 1]\n",
      ".index(1): 3\n",
      ".count(3): 1\n",
      ".copy: [4, 3, 2, 1]\n"
     ]
    }
   ],
   "source": [
    "numeros = [3, 1, 4, 2]\n",
    "print(\"Original:\", numeros)\n",
    "\n",
    "numeros.append(5)              # agregando el numero 5 al final de la lista\n",
    "print(\".append(5):\", numeros)\n",
    "\n",
    "numeros.insert(2, 99)          # agregando en el indice 2 el numero 99\n",
    "print(\".insert(2, 99):\", numeros)\n",
    "\n",
    "numeros.remove(99)             # removemos el numero 99 de la lista\n",
    "print(\".remove(99):\", numeros)\n",
    "\n",
    "ultimo = numeros.pop()         # eliminamos el ultimo indice de la lista... Se puede guardar el numero elminado en una variable\n",
    "print(\".pop():\", ultimo, \"->\", numeros)\n",
    "\n",
    "numeros.sort()                 # ordenda la lista \n",
    "print(\".sort():\", numeros)\n",
    "\n",
    "numeros.reverse()             # invierte la lista\n",
    "print(\".reverse():\", numeros)\n",
    "\n",
    "\n",
    "n_index = numeros.index(1)\n",
    "print(\".index(1):\", n_index)    # muestra el valor del indice 1 \n",
    "\n",
    "h_count = numeros.count(3)      # muestra la cantidad de elementos que existen en la lista con el numero 3  en este caso 1\n",
    "print(\".count(3):\", h_count)\n",
    "\n",
    "copia_numeros = numeros.copy()   # copia la lista\n",
    "print(\".copy:\", copia_numeros)"
   ]
  },
  {
   "cell_type": "code",
   "execution_count": 98,
   "id": "0378c877",
   "metadata": {},
   "outputs": [
    {
     "name": "stdout",
     "output_type": "stream",
     "text": [
      "Verificacion del color agregado:\n",
      "['azul', 'negro', 'blanco', 'amarillo', 'verde']\n",
      "\n",
      "Nuevo orden de los colores:\n",
      "['amarillo', 'azul', 'blanco', 'negro', 'verde']\n",
      "\n",
      "Eliminacion del ultimo termino despues de ordenarlo:\n",
      "['amarillo', 'azul', 'blanco', 'negro']\n"
     ]
    }
   ],
   "source": [
    "#Ejercicio corto\n",
    "# Añade un elemento a colores, ordénalos (si son strings) y elimina el último con pop().\n",
    "colores = ['azul','negro','blanco','amarillo']\n",
    "\n",
    "# Agrego el color verde\n",
    "colores.append('verde')\n",
    "print(f'Verificacion del color agregado:\\n{colores}')\n",
    "\n",
    "# agregamos los colores con sorf\n",
    "colores.sort()\n",
    "print(f'\\nNuevo orden de los colores:\\n{colores}')\n",
    "\n",
    "# eliminamos el ultimo elemento con pop \n",
    "colores.pop()\n",
    "print(f'\\nEliminacion del ultimo termino despues de ordenarlo:\\n{colores}')"
   ]
  },
  {
   "cell_type": "markdown",
   "id": "a549ebb9",
   "metadata": {},
   "source": [
    "### 8.List slicing (sublistas)\n",
    "\n",
    "Qué es / para qué sirve\n",
    "El slicing extrae sublistas: lista[inicio:fin:paso]. inicio incluido, fin excluido. paso opcional.\n",
    "\n",
    "Ejemplo"
   ]
  },
  {
   "cell_type": "code",
   "execution_count": 101,
   "id": "bf8cb494",
   "metadata": {},
   "outputs": [
    {
     "name": "stdout",
     "output_type": "stream",
     "text": [
      "Elementos del 2 al 4: [20, 30, 40]\n",
      "Primeros 3 elementos: [10, 20, 30]\n",
      "Desde el tercero hasta el final: [30, 40, 50]\n"
     ]
    }
   ],
   "source": [
    "L = [10,20,30,40,50]\n",
    "\n",
    "print(\"Elementos del 2 al 4:\", L[1:4])  \n",
    "print(\"Primeros 3 elementos:\", L[:3])   \n",
    "print(\"Desde el tercero hasta el final:\", L[2:]) \n"
   ]
  },
  {
   "cell_type": "code",
   "execution_count": 108,
   "id": "1d2ed50a",
   "metadata": {},
   "outputs": [
    {
     "name": "stdout",
     "output_type": "stream",
     "text": [
      "Lista de elementos pares es:\n",
      "[2, 4, 6, 8, 10]\n"
     ]
    }
   ],
   "source": [
    "#Ejercicio corto\n",
    "# De nums = list(range(1,11)) extrae los números pares con slicing y muéstralos.\n",
    "\n",
    "nums = list(range(1,11))\n",
    "\n",
    "print(f'Lista de elementos pares es:\\n{nums[1::2]}') "
   ]
  },
  {
   "cell_type": "markdown",
   "id": "a85a3a20",
   "metadata": {},
   "source": [
    "### 9.Listas anidadas\n",
    "\n",
    "Qué es / para qué sirve\n",
    "Una lista puede contener otras listas — se usan para matrices o tablas. Acceso con lista[fila][col].\n",
    "\n",
    "Ejemplo"
   ]
  },
  {
   "cell_type": "code",
   "execution_count": 109,
   "id": "d64d0fcb",
   "metadata": {},
   "outputs": [
    {
     "data": {
      "text/plain": [
       "6"
      ]
     },
     "execution_count": 109,
     "metadata": {},
     "output_type": "execute_result"
    }
   ],
   "source": [
    "matriz = [[1,2,3],[4,5,6],[7,8,9]]\n",
    "matriz[1][2]   # 6        matriz[indice][sub indice]    \n"
   ]
  },
  {
   "cell_type": "code",
   "execution_count": null,
   "id": "d748981e",
   "metadata": {},
   "outputs": [],
   "source": [
    "# Ejercicio corto\n",
    "# Crea una matriz 2x3 y muestra el elemento de la fila 2, columna 1 (índices empezando en 0)."
   ]
  },
  {
   "cell_type": "markdown",
   "id": "0f541702",
   "metadata": {},
   "source": [
    "### 10.List comprehensions\n",
    "\n",
    "Qué es / para qué sirve\n",
    "Constructo compacto para generar listas a partir de iterables y opcionales filtros:\n",
    "[expresion for x in iterable if condicion]. Aumenta legibilidad y rendimiento en muchos casos.\n",
    "\n",
    "Ejemplo"
   ]
  },
  {
   "cell_type": "code",
   "execution_count": 111,
   "id": "9663cfe1",
   "metadata": {},
   "outputs": [
    {
     "name": "stdout",
     "output_type": "stream",
     "text": [
      "Numeros pares de la lista \n",
      "[2, 4, 6, 8, 10]\n"
     ]
    }
   ],
   "source": [
    "cuadrados = [x**2 for x in range(1,6)]      # [1,4,9,16,25]\n",
    "pares = [x for x in range(1,11) if x%2==0]  # [2,4,6,8,10]\n",
    "\n",
    "print(f'Numeros pares de la lista \\n{pares}')"
   ]
  },
  {
   "cell_type": "markdown",
   "id": "0b7a4c5b",
   "metadata": {},
   "source": [
    "### Ejercicios finales (completos)\n",
    "\n",
    "1. Crea lista1 con 5 números: muestra el primero y el último; cambia el segundo y vuelve a mostrar.\n",
    "\n",
    "2. Con pares = [2,4,6,8,10] extrae con slicing [4,6,8].\n",
    "\n",
    "3. Llena una lista vacía con los números 1–10 usando for.\n",
    "\n",
    "4. Ordena alfabéticamente [\"Sofía\",\"Ana\",\"Luis\",\"Pedro\"].\n",
    "\n",
    "5. Reto: genera 10 números aleatorios (1–100), crea una lista con ellos y:\n",
    "\n",
    "6. usa list comprehension para obtener sólo los pares,\n",
    "\n",
    "7. muestra el máximo y mínimo,\n",
    "\n",
    "8. muestra la lista ordenada sin alterar la original (sorted())."
   ]
  },
  {
   "cell_type": "markdown",
   "id": "5b063e7d",
   "metadata": {},
   "source": [
    "# Resumen rápido\n",
    "\n",
    "- Las listas son colecciones ordenadas y mutables.\n",
    "\n",
    "- Acceso por índice, slicing para sublistas.\n",
    "\n",
    "- Métodos (append, pop, remove, sort, ...) facilitan manipulación.\n",
    "\n",
    "- for y comprensiones son las formas más habituales para generar/recorrer listas.\n",
    "\n",
    "- Las comprehensions son sintaxis compacta y potente para transformar datos."
   ]
  }
 ],
 "metadata": {
  "kernelspec": {
   "display_name": "Python 3",
   "language": "python",
   "name": "python3"
  },
  "language_info": {
   "codemirror_mode": {
    "name": "ipython",
    "version": 3
   },
   "file_extension": ".py",
   "mimetype": "text/x-python",
   "name": "python",
   "nbconvert_exporter": "python",
   "pygments_lexer": "ipython3",
   "version": "3.13.7"
  }
 },
 "nbformat": 4,
 "nbformat_minor": 5
}
