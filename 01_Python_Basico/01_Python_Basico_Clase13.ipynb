{
 "cells": [
  {
   "cell_type": "markdown",
   "id": "0b0f0c83",
   "metadata": {},
   "source": [
    "# Clase 13: Diccionarios Avanzados en Python\n",
    "## 🎯 Introducción\n",
    "\n",
    "En la clase anterior vimos los diccionarios básicos: cómo crearlos, acceder, modificar y recorrerlos.\n",
    "Ahora aprenderemos funcionalidades avanzadas y super-avanzadas que hacen de los diccionarios una herramienta aún más poderosa en Python."
   ]
  },
  {
   "cell_type": "markdown",
   "id": "487624b6",
   "metadata": {},
   "source": [
    "### 1. Diccionarios por comprensión (dict comprehensions)\n",
    "\n",
    "Al igual que las listas, podemos generar diccionarios en una sola línea."
   ]
  },
  {
   "cell_type": "code",
   "execution_count": 1,
   "id": "87367ba4",
   "metadata": {},
   "outputs": [
    {
     "name": "stdout",
     "output_type": "stream",
     "text": [
      "{1: 1, 2: 4, 3: 9, 4: 16, 5: 25}\n"
     ]
    }
   ],
   "source": [
    "# Crear un diccionario con números y su cuadrado\n",
    "cuadrados = {x: x**2 for x in range(1, 6)}\n",
    "print(cuadrados)\n",
    "# {1: 1, 2: 4, 3: 9, 4: 16, 5: 25}\n",
    "\n",
    "# 🔹 Muy útil para transformar o filtrar datos rápidamente"
   ]
  },
  {
   "cell_type": "markdown",
   "id": "d33d567a",
   "metadata": {},
   "source": [
    "### 2. Uso de zip() para crear diccionarios\n",
    "\n",
    "Podemos unir dos listas y formar un diccionario."
   ]
  },
  {
   "cell_type": "code",
   "execution_count": 2,
   "id": "64570d8a",
   "metadata": {},
   "outputs": [
    {
     "name": "stdout",
     "output_type": "stream",
     "text": [
      "{'nombre': 'Ana', 'edad': 25, 'ciudad': 'Madrid'}\n"
     ]
    }
   ],
   "source": [
    "claves = [\"nombre\", \"edad\", \"ciudad\"]\n",
    "valores = [\"Ana\", 25, \"Madrid\"]\n",
    "\n",
    "persona = dict(zip(claves, valores))\n",
    "print(persona)\n",
    "# {'nombre': 'Ana', 'edad': 25, 'ciudad': 'Madrid'}\n"
   ]
  },
  {
   "cell_type": "markdown",
   "id": "40b53667",
   "metadata": {},
   "source": [
    "### 3. Diccionarios ordenados con sorted()\n",
    "\n",
    "Aunque en Python 3.7+ los diccionarios mantienen el orden de inserción, a veces necesitamos ordenarlos."
   ]
  },
  {
   "cell_type": "code",
   "execution_count": 3,
   "id": "9c3aa51a",
   "metadata": {},
   "outputs": [
    {
     "name": "stdout",
     "output_type": "stream",
     "text": [
      "{'Ana': 22, 'Luis': 20, 'Pedro': 19}\n",
      "{'Pedro': 19, 'Luis': 20, 'Ana': 22}\n"
     ]
    }
   ],
   "source": [
    "edades = {\"Luis\": 20, \"Ana\": 22, \"Pedro\": 19}\n",
    "\n",
    "# Ordenar por clave\n",
    "print(dict(sorted(edades.items())))\n",
    "# {'Ana': 22, 'Luis': 20, 'Pedro': 19}\n",
    "\n",
    "# Ordenar por valor\n",
    "print(dict(sorted(edades.items(), key=lambda x: x[1])))\n",
    "# {'Pedro': 19, 'Luis': 20, 'Ana': 22}\n"
   ]
  },
  {
   "cell_type": "markdown",
   "id": "5bf70619",
   "metadata": {},
   "source": [
    "### 4. setdefault() → Evitar errores al acceder\n",
    "\n",
    "Permite acceder o asignar un valor por defecto si la clave no existe."
   ]
  },
  {
   "cell_type": "code",
   "execution_count": 4,
   "id": "30a5b25f",
   "metadata": {},
   "outputs": [
    {
     "name": "stdout",
     "output_type": "stream",
     "text": [
      "18\n",
      "{'nombre': 'Carlos', 'edad': 18}\n"
     ]
    }
   ],
   "source": [
    "alumno = {\"nombre\": \"Carlos\"}\n",
    "print(alumno.setdefault(\"edad\", 18))  \n",
    "print(alumno)\n",
    "# {'nombre': 'Carlos', 'edad': 18}\n"
   ]
  },
  {
   "cell_type": "markdown",
   "id": "3fbc7b21",
   "metadata": {},
   "source": [
    "### 5. Diccionarios anidados y estructuras complejas\n",
    "\n",
    "Podemos representar datos como JSON con diccionarios anidados."
   ]
  },
  {
   "cell_type": "code",
   "execution_count": 5,
   "id": "a317e14e",
   "metadata": {},
   "outputs": [
    {
     "name": "stdout",
     "output_type": "stream",
     "text": [
      "6\n"
     ]
    }
   ],
   "source": [
    "alumnos = {\n",
    "    \"A1\": {\"nombre\": \"Ana\", \"notas\": [8, 9, 10]},\n",
    "    \"A2\": {\"nombre\": \"Luis\", \"notas\": [7, 6, 9]}\n",
    "}\n",
    "print(alumnos[\"A2\"][\"notas\"][1])  # 6\n"
   ]
  },
  {
   "cell_type": "markdown",
   "id": "3998cbc9",
   "metadata": {},
   "source": [
    "### 6. defaultdict (de collections)\n",
    "\n",
    "Un diccionario especial que crea valores por defecto automáticamente."
   ]
  },
  {
   "cell_type": "code",
   "execution_count": 6,
   "id": "faae2518",
   "metadata": {},
   "outputs": [
    {
     "name": "stdout",
     "output_type": "stream",
     "text": [
      "defaultdict(<class 'int'>, {'manzana': 1, 'pera': 3})\n"
     ]
    }
   ],
   "source": [
    "from collections import defaultdict\n",
    "\n",
    "frutas = defaultdict(int)\n",
    "frutas[\"manzana\"] += 1\n",
    "frutas[\"pera\"] += 3\n",
    "\n",
    "print(frutas)\n",
    "# defaultdict(<class 'int'>, {'manzana': 1, 'pera': 3})\n"
   ]
  },
  {
   "cell_type": "markdown",
   "id": "30fe2d71",
   "metadata": {},
   "source": [
    "### 7. Counter (de collections)\n",
    "\n",
    "Sirve para contar elementos fácilmente."
   ]
  },
  {
   "cell_type": "code",
   "execution_count": 13,
   "id": "31af14d0",
   "metadata": {},
   "outputs": [
    {
     "name": "stdout",
     "output_type": "stream",
     "text": [
      "Counter({'rojo': 3, 'azul': 1, 'verde': 1, 'amarillo': 1})\n",
      "[('rojo', 3)]\n"
     ]
    }
   ],
   "source": [
    "from collections import Counter\n",
    "\n",
    "colores = [\"rojo\", \"azul\", \"rojo\", \"verde\", \"rojo\", \"amarillo\"]\n",
    "conteo = Counter(colores)\n",
    "\n",
    "print(conteo)\n",
    "# Counter({'rojo': 3, 'azul': 1, 'verde': 1, 'amarillo': 1})\n",
    "\n",
    "print(conteo.most_common(1))  # [('rojo', 3)] \n"
   ]
  },
  {
   "cell_type": "markdown",
   "id": "1a62fd48",
   "metadata": {},
   "source": [
    "### 8. OrderedDict (de collections)\n",
    "\n",
    "En versiones antiguas de Python se usaba para diccionarios ordenados.\n",
    "Hoy, los diccionarios normales ya mantienen el orden, pero aún puede ser útil."
   ]
  },
  {
   "cell_type": "code",
   "execution_count": 14,
   "id": "af98ad64",
   "metadata": {},
   "outputs": [
    {
     "name": "stdout",
     "output_type": "stream",
     "text": [
      "OrderedDict({'a': 1, 'b': 2})\n"
     ]
    }
   ],
   "source": [
    "from collections import OrderedDict\n",
    "\n",
    "od = OrderedDict()\n",
    "od[\"a\"] = 1\n",
    "od[\"b\"] = 2\n",
    "print(od)\n"
   ]
  },
  {
   "cell_type": "markdown",
   "id": "ce77ef05",
   "metadata": {},
   "source": [
    "### 9. ChainMap (combinar varios diccionarios)\n",
    "\n",
    "Permite trabajar con múltiples diccionarios como si fueran uno solo."
   ]
  },
  {
   "cell_type": "code",
   "execution_count": 16,
   "id": "60a724e3",
   "metadata": {},
   "outputs": [
    {
     "name": "stdout",
     "output_type": "stream",
     "text": [
      "3\n",
      "ChainMap({'a': 1, 'b': 2}, {'c': 3, 'd': 4})\n"
     ]
    }
   ],
   "source": [
    "from collections import ChainMap\n",
    "\n",
    "dict1 = {\"a\": 1, \"b\": 2}\n",
    "dict2 = {\"c\": 3, \"d\": 4}\n",
    "\n",
    "union = ChainMap(dict1, dict2)\n",
    "print(union[\"c\"])  # 3\n",
    "print(union)"
   ]
  },
  {
   "cell_type": "markdown",
   "id": "031ded27",
   "metadata": {},
   "source": [
    "### 10. Uso real avanzado: Agrupar datos\n",
    "\n",
    "Ejemplo: contar cuántos estudiantes aprobaron y reprobaron."
   ]
  },
  {
   "cell_type": "code",
   "execution_count": 17,
   "id": "49c08574",
   "metadata": {},
   "outputs": [
    {
     "name": "stdout",
     "output_type": "stream",
     "text": [
      "{'aprobados': ['Ana', 'Pedro'], 'reprobados': ['Luis', 'Marta']}\n"
     ]
    }
   ],
   "source": [
    "notas = {\"Ana\": 8, \"Luis\": 5, \"Pedro\": 9, \"Marta\": 4}\n",
    "\n",
    "resultado = {\"aprobados\": [], \"reprobados\": []}\n",
    "\n",
    "for nombre, nota in notas.items():\n",
    "    if nota >= 6:\n",
    "        resultado[\"aprobados\"].append(nombre)\n",
    "    else:\n",
    "        resultado[\"reprobados\"].append(nombre)\n",
    "\n",
    "print(resultado)\n",
    "# {'aprobados': ['Ana', 'Pedro'], 'reprobados': ['Luis', 'Marta']}\n"
   ]
  },
  {
   "cell_type": "markdown",
   "id": "f7528f01",
   "metadata": {},
   "source": [
    "### 📝 Ejercicio Final\n",
    "\n",
    "1. Crea un diccionario con los nombres de 5 productos y sus precios.\n",
    "\n",
    "2. Ordena los productos por precio (ascendente y descendente).\n",
    "\n",
    "3. Usa dict comprehension para subir un 10% a todos los precios.\n",
    "\n",
    "4. Convierte dos listas en un diccionario usando zip().\n",
    "\n",
    "5. Usa Counter para contar las letras de una palabra ingresada por el usuario."
   ]
  },
  {
   "cell_type": "code",
   "execution_count": 18,
   "id": "a51743a1",
   "metadata": {},
   "outputs": [],
   "source": [
    "# 1. Crea un diccionario con los nombres de 5 productos y sus precios.\n",
    "producto_precio = {\n",
    "    'Arroz':1.2,\n",
    "    'Sala':0.9,\n",
    "    'Mermelada':3.2,\n",
    "    'Atun':2.7,\n",
    "    'Pan':1.23,\n",
    "    'Sardina':1.2\n",
    "}"
   ]
  },
  {
   "cell_type": "code",
   "execution_count": 29,
   "id": "79bfa4c4",
   "metadata": {},
   "outputs": [
    {
     "name": "stdout",
     "output_type": "stream",
     "text": [
      "Producto ordenado de forma ascendente\n",
      "[('Sala', 0.9), ('Arroz', 1.2), ('Sardina', 1.2), ('Pan', 1.23), ('Atun', 2.7), ('Mermelada', 3.2)]\n",
      "\n",
      "Producto ordenado de forma descendente\n",
      "[('Mermelada', 3.2), ('Atun', 2.7), ('Pan', 1.23), ('Arroz', 1.2), ('Sardina', 1.2), ('Sala', 0.9)]\n"
     ]
    }
   ],
   "source": [
    "# 2. Ordena los productos por precio (ascendente y descendente).\n",
    "orden_ascendente_precio = sorted(producto_precio.items(),key=lambda x:x[1])\n",
    "print(f'Producto ordenado de forma ascendente\\n{orden_ascendente_precio}')\n",
    "\n",
    "orden_descendente_precio = sorted(producto_precio.items(),key=lambda x:x[1],reverse=True)\n",
    "print(f'\\nProducto ordenado de forma descendente\\n{orden_descendente_precio}')"
   ]
  },
  {
   "cell_type": "code",
   "execution_count": 33,
   "id": "5ce536ec",
   "metadata": {},
   "outputs": [
    {
     "name": "stdout",
     "output_type": "stream",
     "text": [
      "\n",
      "--- Precios con Aumento del 10% ---\n",
      "{'Arroz': 1.32, 'Sala': 0.9900000000000001, 'Mermelada': 3.5200000000000005, 'Atun': 2.9700000000000006, 'Pan': 1.353, 'Sardina': 1.32}\n"
     ]
    }
   ],
   "source": [
    "# 3. Usa dict comprehension para subir un 10% a todos los precios.\n",
    "# La sintaxis es: {clave: valor * 1.10 for clave, valor in diccionario.items()}\n",
    "productos_precio_aumento = {\n",
    "    producto: precio * 1.10\n",
    "    for producto, precio in producto_precio.items()\n",
    "    \n",
    "}\n",
    "print('\\n--- Precios con Aumento del 10% ---')\n",
    "print(productos_precio_aumento)"
   ]
  },
  {
   "cell_type": "code",
   "execution_count": 37,
   "id": "c380e501",
   "metadata": {},
   "outputs": [
    {
     "name": "stdout",
     "output_type": "stream",
     "text": [
      "{'maria': 10, 'pedro': 20, 'luis': 15, 'orlegabin': 17, 'oliver': 18}\n"
     ]
    }
   ],
   "source": [
    "# 4. Convierte dos listas en un diccionario usando zip().\n",
    "estudiante = ['maria','pedro','luis','orlegabin','oliver']\n",
    "notas = [10,20,15,17,18]\n",
    "\n",
    "diccionario = dict(zip(estudiante,notas))\n",
    "print(diccionario)"
   ]
  },
  {
   "cell_type": "code",
   "execution_count": 43,
   "id": "93e79825",
   "metadata": {},
   "outputs": [
    {
     "name": "stdout",
     "output_type": "stream",
     "text": [
      "Counter({'a': 2, 'm': 1, 'r': 1, 'i': 1})\n"
     ]
    }
   ],
   "source": [
    "# # 5. Usa Counter para contar las letras de una palabra ingresada por el usuario.\n",
    "\n",
    "lista_estudiante = []\n",
    "\n",
    "from collections import Counter\n",
    "for estudiantes,notas in diccionario.items():\n",
    "    lista_estudiante.append(estudiantes)\n",
    "conteo = Counter(lista_estudiante[0])\n",
    "print(conteo)"
   ]
  },
  {
   "cell_type": "markdown",
   "id": "b5ad0284",
   "metadata": {},
   "source": [
    "### 📌 Conclusión\n",
    "\n",
    "En esta clase aprendimos:\n",
    "\n",
    "- Dict comprehensions para crear diccionarios en una línea.\n",
    "\n",
    "- Métodos avanzados como setdefault() y update().\n",
    "\n",
    "- Estructuras de collections: defaultdict, Counter, ChainMap.\n",
    "\n",
    "- Aplicaciones prácticas con datos reales.\n",
    "\n",
    "Con estos conocimientos, ya puedes manejar diccionarios en Python como un profesional. 🚀"
   ]
  }
 ],
 "metadata": {
  "kernelspec": {
   "display_name": "Python 3",
   "language": "python",
   "name": "python3"
  },
  "language_info": {
   "codemirror_mode": {
    "name": "ipython",
    "version": 3
   },
   "file_extension": ".py",
   "mimetype": "text/x-python",
   "name": "python",
   "nbconvert_exporter": "python",
   "pygments_lexer": "ipython3",
   "version": "3.13.7"
  }
 },
 "nbformat": 4,
 "nbformat_minor": 5
}
