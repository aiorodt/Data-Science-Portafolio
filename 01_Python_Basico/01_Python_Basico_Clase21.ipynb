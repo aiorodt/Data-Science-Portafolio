{
 "cells": [
  {
   "cell_type": "markdown",
   "id": "d126f5c2",
   "metadata": {},
   "source": [
    "# 🗂️ Clase 21: Manejo de Archivos en Python\n",
    "## 🎯 Objetivos de la clase\n",
    "\n",
    "- Comprender cómo abrir, leer, escribir y cerrar archivos.\n",
    "\n",
    "- Aprender a usar los modos de apertura (r, w, a, x).\n",
    "\n",
    "- Manejar archivos de texto (.txt) y archivos CSV (.csv).\n",
    "\n",
    "- Aplicar buenas prácticas con el manejo de archivos (bloques with, codificación, excepciones)."
   ]
  },
  {
   "cell_type": "markdown",
   "id": "2f0b6fc6",
   "metadata": {},
   "source": [
    "### 🧠 1. Concepto general\n",
    "\n",
    "Un archivo es un conjunto de datos almacenado en el disco.\n",
    "Python permite leer y escribir en archivos usando funciones integradas.\n",
    "Esto es fundamental para guardar información de manera persistente."
   ]
  },
  {
   "cell_type": "markdown",
   "id": "26bf034d",
   "metadata": {},
   "source": [
    "### ⚙️ 2. Apertura y cierre de archivos\n",
    "Sintaxis básica:"
   ]
  },
  {
   "cell_type": "code",
   "execution_count": null,
   "id": "3aa667c3",
   "metadata": {},
   "outputs": [],
   "source": [
    "archivo = open(\"datos.txt\", \"modo\")\n",
    "# operaciones...\n",
    "archivo.close()"
   ]
  },
  {
   "cell_type": "markdown",
   "id": "48c1407e",
   "metadata": {},
   "source": [
    "### Modos comunes:\n",
    "Modo\t      Significado\t            Acción\n",
    "\n",
    "'r'\tRead\tLee el archivo        (error si no existe).\n",
    "\n",
    "'w'\tWrite\t    Escribe         (sobrescribe el contenido).\n",
    "\n",
    "'a'\tAppend\t    Agrega          contenido al final del archivo.\n",
    "\n",
    "'x'\tCreate\t     Crea          un nuevo archivo (error si existe)"
   ]
  },
  {
   "cell_type": "markdown",
   "id": "a61884db",
   "metadata": {},
   "source": [
    "## 🧩 3. Leer archivos .txt\n",
    "Ejemplo: Leer todo el contenido"
   ]
  },
  {
   "cell_type": "code",
   "execution_count": null,
   "id": "9bb2e8a3",
   "metadata": {},
   "outputs": [],
   "source": [
    "with open(\"notas.txt\", \"r\") as archivo:\n",
    "    contenido = archivo.read()\n",
    "    print(contenido)"
   ]
  },
  {
   "cell_type": "markdown",
   "id": "d3874591",
   "metadata": {},
   "source": [
    "Leer línea por línea:"
   ]
  },
  {
   "cell_type": "code",
   "execution_count": null,
   "id": "d165238d",
   "metadata": {},
   "outputs": [],
   "source": [
    "with open(\"notas.txt\", \"r\") as archivo:\n",
    "    for linea in archivo:\n",
    "        print(linea.strip())  # elimina salto de línea"
   ]
  },
  {
   "cell_type": "markdown",
   "id": "258d1d64",
   "metadata": {},
   "source": [
    "Leer todas las líneas en una lista:"
   ]
  },
  {
   "cell_type": "code",
   "execution_count": null,
   "id": "c665f77b",
   "metadata": {},
   "outputs": [],
   "source": [
    "with open(\"notas.txt\", \"r\") as archivo:\n",
    "    lineas = archivo.readlines()\n",
    "print(lineas)\n"
   ]
  },
  {
   "cell_type": "markdown",
   "id": "4b914e40",
   "metadata": {},
   "source": [
    "### ✏️ 4. Escribir en archivos\n",
    "Sobrescribir contenido:"
   ]
  },
  {
   "cell_type": "code",
   "execution_count": null,
   "id": "59d8861c",
   "metadata": {},
   "outputs": [],
   "source": [
    "with open(\"notas.txt\", \"w\") as archivo:\n",
    "    archivo.write(\"Primera línea\\n\")\n",
    "    archivo.write(\"Segunda línea\\n\")"
   ]
  },
  {
   "cell_type": "markdown",
   "id": "b5fb6699",
   "metadata": {},
   "source": [
    "Agregar contenido sin borrar lo anterior:"
   ]
  },
  {
   "cell_type": "code",
   "execution_count": null,
   "id": "3e755e44",
   "metadata": {},
   "outputs": [],
   "source": [
    "with open(\"notas.txt\", \"a\") as archivo:\n",
    "    archivo.write(\"Nueva línea agregada\\n\")\n"
   ]
  },
  {
   "cell_type": "markdown",
   "id": "048ee180",
   "metadata": {},
   "source": [
    "### 🧱 5. Buenas prácticas\n",
    "\n",
    "- Siempre usa with open(): cierra automáticamente el archivo.\n",
    "\n",
    "- Usa rutas relativas o absolutas con os.path.\n",
    "\n",
    "- Maneja errores con try/except para archivos inexistentes o permisos."
   ]
  },
  {
   "cell_type": "code",
   "execution_count": null,
   "id": "11a6f9b1",
   "metadata": {},
   "outputs": [],
   "source": [
    "try:\n",
    "    with open(\"archivo.txt\", \"r\") as archivo:\n",
    "        datos = archivo.read()\n",
    "except FileNotFoundError:\n",
    "    print(\"⚠️ El archivo no existe.\")\n"
   ]
  },
  {
   "cell_type": "markdown",
   "id": "e6c6fd83",
   "metadata": {},
   "source": [
    "### 📄 6. Archivos CSV\n",
    "\n",
    "Los archivos CSV (Comma-Separated Values) son muy comunes para datos tabulares.\n",
    "Cada fila representa un registro, y los valores están separados por comas.\n",
    "\n",
    "Ejemplo:\n",
    "\n",
    "nombre,edad,ciudad\n",
    "\n",
    "Ana,25,Bogotá\n",
    "\n",
    "Luis,30,México\n"
   ]
  },
  {
   "cell_type": "markdown",
   "id": "d629e8fb",
   "metadata": {},
   "source": [
    "### Leer CSV:"
   ]
  },
  {
   "cell_type": "code",
   "execution_count": null,
   "id": "bc429055",
   "metadata": {},
   "outputs": [],
   "source": [
    "import csv\n",
    "\n",
    "with open(\"datos.csv\", \"r\") as archivo:\n",
    "    lector = csv.reader(archivo)\n",
    "    for fila in lector:\n",
    "        print(fila)\n"
   ]
  },
  {
   "cell_type": "markdown",
   "id": "7efb54bd",
   "metadata": {},
   "source": [
    "### Escribir CSV:"
   ]
  },
  {
   "cell_type": "code",
   "execution_count": null,
   "id": "caf90f85",
   "metadata": {},
   "outputs": [],
   "source": [
    "import csv\n",
    "\n",
    "with open(\"datos.csv\", \"w\", newline=\"\") as archivo:\n",
    "    escritor = csv.writer(archivo)\n",
    "    escritor.writerow([\"nombre\", \"edad\", \"ciudad\"])\n",
    "    escritor.writerow([\"Carlos\", 22, \"Quito\"])"
   ]
  },
  {
   "cell_type": "markdown",
   "id": "6303d493",
   "metadata": {},
   "source": [
    "### 🧩 7. Ejercicio guiado\n",
    "\n",
    "1. Crea un archivo estudiantes.txt.\n",
    "\n",
    "2. Escribe en él los nombres de 3 estudiantes.\n",
    "\n",
    "3. Lée el archivo y muestra los nombres en mayúsculas.\n",
    "\n",
    "4. Agrega un cuarto nombre sin borrar los anteriores"
   ]
  },
  {
   "cell_type": "code",
   "execution_count": 10,
   "id": "1e8bcb7e",
   "metadata": {},
   "outputs": [
    {
     "name": "stdout",
     "output_type": "stream",
     "text": [
      "NOMBRE: ALEJANDRO GEROME\n",
      "NOMBRE: PAOLA BOGADO\n",
      "NOMBRE: CRISTIAN VICENTE\n",
      "\n",
      "Nueva Lectura\n",
      "NOMBRE: ALEJANDRO GEROME\n",
      "NOMBRE: PAOLA BOGADO\n",
      "NOMBRE: CRISTIAN VICENTE\n",
      "NOMBRE: ENETVI PAREDES\n"
     ]
    }
   ],
   "source": [
    "# 1 Creando un Archivo de Texto\n",
    "with open('Estudiantes.txt','w') as archivo:\n",
    "\n",
    "    # 2 Creo los nombre de los Archivos\n",
    "    archivo.write('Nombre: Alejandro Gerome')\n",
    "    archivo.write('\\nNombre: Paola Bogado')\n",
    "    archivo.write('\\nNombre: Cristian Vicente')\n",
    "\n",
    "# 3 Leo el archivo \n",
    "try:\n",
    "    with open('Estudiantes.txt','r') as archivo:\n",
    "        lectura = archivo.read()\n",
    "        print(lectura.upper())\n",
    "except FileNotFoundError:\n",
    "    print(\"⚠️ El archivo no existe.\")\n",
    "\n",
    "# 4 Agrego nombre\n",
    "with open('Estudiantes.txt','a') as archivo:\n",
    "    archivo.write('\\nNombre: Enetvi Paredes')\n",
    "\n",
    "#--Lectura del Articulo Nuevamente para visualizar modificacion\n",
    "print('\\nNueva Lectura')\n",
    "try:\n",
    "    with open('Estudiantes.txt','r') as archivo:\n",
    "        lectura = archivo.read()\n",
    "        print(lectura.upper())\n",
    "except FileNotFoundError:\n",
    "    print(\"⚠️ El archivo no existe.\")"
   ]
  },
  {
   "cell_type": "markdown",
   "id": "f4cf8846",
   "metadata": {},
   "source": [
    "### 🧭 8. Cierre de la clase\n",
    "\n",
    "#### Hoy aprendiste:\n",
    "\n",
    "✅ Qué es un archivo y sus modos de apertura.\n",
    "\n",
    "✅ Cómo leer y escribir archivos de texto.\n",
    "\n",
    "✅ Cómo manejar archivos CSV.\n",
    "\n",
    "✅ Buenas prácticas y uso de with open()"
   ]
  }
 ],
 "metadata": {
  "kernelspec": {
   "display_name": "Python 3",
   "language": "python",
   "name": "python3"
  },
  "language_info": {
   "codemirror_mode": {
    "name": "ipython",
    "version": 3
   },
   "file_extension": ".py",
   "mimetype": "text/x-python",
   "name": "python",
   "nbconvert_exporter": "python",
   "pygments_lexer": "ipython3",
   "version": "3.13.8"
  }
 },
 "nbformat": 4,
 "nbformat_minor": 5
}
