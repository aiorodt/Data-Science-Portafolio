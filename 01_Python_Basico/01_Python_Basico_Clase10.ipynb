{
 "cells": [
  {
   "cell_type": "markdown",
   "id": "3b4da118",
   "metadata": {},
   "source": [
    "# 📘 Clase 10: Tuplas en Python\n",
    "\n",
    "## 🎯 Objetivo de la clase\n",
    "En esta clase aprenderás qué son las **tuplas**, cómo crearlas, sus características principales y qué operaciones podemos hacer con ellas.  \n",
    "Al final sabrás cuándo conviene usar **tuplas en vez de listas** y manejarás sus métodos más comunes.\n",
    "\n",
    "---\n",
    "\n",
    "## 🔑 1. ¿Qué es una tupla?\n",
    "- Una **tupla** es una colección ordenada de elementos, similar a una lista.  \n",
    "- **La diferencia principal con las listas es que las tuplas son inmutables** → una vez creadas, no se pueden modificar.  \n",
    "- Se usan con paréntesis `()` en lugar de corchetes `[]`.\n",
    "\n",
    "```python\n",
    "tupla = (1, 2, 3, \"hola\", True)\n",
    "print(tupla)\n",
    "print(type(tupla))\n"
   ]
  },
  {
   "cell_type": "markdown",
   "id": "35bc5edb",
   "metadata": {},
   "source": [
    "### 🔑 2. Crear tuplas\n",
    "\n",
    "Se pueden crear de varias formas:"
   ]
  },
  {
   "cell_type": "code",
   "execution_count": 2,
   "id": "d9f91016",
   "metadata": {},
   "outputs": [
    {
     "name": "stdout",
     "output_type": "stream",
     "text": [
      "Tupla normal: (10, 20, 30)\n",
      "Tupla con diferentes tipos: (1, 'texto', 3.5, False)\n",
      "Tupla de un solo elemento: (5,)\n",
      "Tupla sin parentesis: ('rojo', 'verde', 'azul')\n"
     ]
    }
   ],
   "source": [
    "# Tupla normal\n",
    "numeros = (10, 20, 30)\n",
    "\n",
    "# Tupla con diferentes tipos\n",
    "mixta = (1, \"texto\", 3.5, False)\n",
    "\n",
    "# Tupla de un solo elemento (¡importante la coma!)\n",
    "una = (5,)\n",
    "\n",
    "# Sin paréntesis (Python la reconoce igual)\n",
    "colores = \"rojo\", \"verde\", \"azul\"\n",
    "\n",
    "print(f'Tupla normal: {numeros}\\nTupla con diferentes tipos: {mixta}\\nTupla de un solo elemento: {una}\\nTupla sin parentesis: {colores}')"
   ]
  },
  {
   "cell_type": "markdown",
   "id": "b51806e7",
   "metadata": {},
   "source": [
    "### 🔑 3. Acceso a elementos\n",
    "\n",
    "Al igual que en listas, usamos índices:"
   ]
  },
  {
   "cell_type": "code",
   "execution_count": 3,
   "id": "fb3ab239",
   "metadata": {},
   "outputs": [
    {
     "name": "stdout",
     "output_type": "stream",
     "text": [
      "manzana\n",
      "mango\n"
     ]
    }
   ],
   "source": [
    "frutas = (\"manzana\", \"pera\", \"uva\", \"mango\")\n",
    "print(frutas[0])   # Primer elemento\n",
    "print(frutas[-1])  # Último elemento"
   ]
  },
  {
   "cell_type": "markdown",
   "id": "a90884d1",
   "metadata": {},
   "source": [
    "### 🔑 4. Slicing\n",
    "\n",
    "Podemos obtener sub-tuplas con cortes."
   ]
  },
  {
   "cell_type": "code",
   "execution_count": 4,
   "id": "c52cf896",
   "metadata": {},
   "outputs": [
    {
     "name": "stdout",
     "output_type": "stream",
     "text": [
      "(2, 3, 4)\n",
      "(1, 2, 3)\n",
      "(1, 3, 5)\n"
     ]
    }
   ],
   "source": [
    "numeros = (1,2,3,4,5,6)\n",
    "print(numeros[1:4])   # (2,3,4)\n",
    "print(numeros[:3])    # (1,2,3)\n",
    "print(numeros[::2])   # (1,3,5)"
   ]
  },
  {
   "cell_type": "markdown",
   "id": "968be4de",
   "metadata": {},
   "source": [
    "### 🔑 5. Inmutabilidad\n",
    "\n",
    "No se pueden modificar ni eliminar elementos directamente."
   ]
  },
  {
   "cell_type": "code",
   "execution_count": 5,
   "id": "31186e50",
   "metadata": {},
   "outputs": [],
   "source": [
    "tupla = (1,2,3)\n",
    "# tupla[0] = 10  ❌ Error: TypeError"
   ]
  },
  {
   "cell_type": "markdown",
   "id": "ac5fb5be",
   "metadata": {},
   "source": [
    "👉 Pero sí podemos convertirla en lista, modificar y volver a tupla:"
   ]
  },
  {
   "cell_type": "code",
   "execution_count": null,
   "id": "ce6e65db",
   "metadata": {},
   "outputs": [
    {
     "name": "stdout",
     "output_type": "stream",
     "text": [
      "(10, 2, 3)\n"
     ]
    }
   ],
   "source": [
    "lista = list(tupla) \n",
    "lista[0] = 10     # cuando se convierte en lista podemos modificar los elementos de la tupla\n",
    "tupla = tuple(lista) # Convertimos nuevamente en tupla para que este nuevamente inmutable\n",
    "print(tupla)\n"
   ]
  },
  {
   "cell_type": "markdown",
   "id": "a447add4",
   "metadata": {},
   "source": [
    "### 🔑 6. Operaciones con tuplas\n",
    "\n",
    "Las operaciones básicas que podemos hacer son:"
   ]
  },
  {
   "cell_type": "code",
   "execution_count": 7,
   "id": "c5cd8631",
   "metadata": {},
   "outputs": [
    {
     "name": "stdout",
     "output_type": "stream",
     "text": [
      "(1, 2, 3, 4)\n",
      "(1, 2, 1, 2, 1, 2)\n",
      "True\n",
      "True\n"
     ]
    }
   ],
   "source": [
    "# Concatenación\n",
    "t1 = (1,2)\n",
    "t2 = (3,4)\n",
    "print(t1 + t2)   # (1,2,3,4)\n",
    "\n",
    "# Repetición\n",
    "print(t1 * 3)    # (1,2,1,2,1,2)\n",
    "\n",
    "# Pertenencia\n",
    "print(2 in t1)   # True\n",
    "print(5 not in t1) # True\n"
   ]
  },
  {
   "cell_type": "markdown",
   "id": "6acd771f",
   "metadata": {},
   "source": [
    "### 🔑 7. Métodos útiles de tuplas\n",
    "\n",
    "Aunque limitadas, tienen algunos métodos importantes:"
   ]
  },
  {
   "cell_type": "code",
   "execution_count": 8,
   "id": "c851f586",
   "metadata": {},
   "outputs": [
    {
     "name": "stdout",
     "output_type": "stream",
     "text": [
      "3\n",
      "3\n"
     ]
    }
   ],
   "source": [
    "numeros = (1,2,2,3,4,2)\n",
    "\n",
    "print(numeros.count(2))   # Cuenta cuántas veces aparece → 3\n",
    "print(numeros.index(3))   # Devuelve el índice de la primera aparición de 3 → 3\n"
   ]
  },
  {
   "cell_type": "markdown",
   "id": "deb7cd2e",
   "metadata": {},
   "source": [
    "### 🔑 8. Desempaquetado de tuplas\n",
    "\n",
    "Podemos asignar los valores de una tupla a variables directamente."
   ]
  },
  {
   "cell_type": "code",
   "execution_count": null,
   "id": "8e02118d",
   "metadata": {},
   "outputs": [
    {
     "name": "stdout",
     "output_type": "stream",
     "text": [
      "Ana\n",
      "25\n",
      "México\n"
     ]
    }
   ],
   "source": [
    "persona = (\"Ana\", 25, \"México\")\n",
    "nombre, edad, pais = persona\n",
    "print(nombre)\n",
    "print(edad)\n",
    "print(pais)"
   ]
  },
  {
   "cell_type": "markdown",
   "id": "ca917fb2",
   "metadata": {},
   "source": [
    "### 🔑 9. Tuplas anidadas\n",
    "\n",
    "Una tupla puede contener otras tuplas (estructura tipo matriz)."
   ]
  },
  {
   "cell_type": "code",
   "execution_count": 10,
   "id": "d6d49c71",
   "metadata": {},
   "outputs": [
    {
     "name": "stdout",
     "output_type": "stream",
     "text": [
      "6\n"
     ]
    }
   ],
   "source": [
    "matriz = ((1,2,3), (4,5,6), (7,8,9))\n",
    "print(matriz[1][2])  # 6"
   ]
  },
  {
   "cell_type": "markdown",
   "id": "90b5f572",
   "metadata": {},
   "source": [
    "### 🔑 10. Usos comunes de las tuplas\n",
    "\n",
    "- Como claves en diccionarios (ya que son inmutables).\n",
    "\n",
    "- Para devolver múltiples valores desde una función.\n",
    "\n",
    "- Para representar datos que no deben cambiar."
   ]
  },
  {
   "cell_type": "code",
   "execution_count": 11,
   "id": "d4e13287",
   "metadata": {},
   "outputs": [
    {
     "name": "stdout",
     "output_type": "stream",
     "text": [
      "x=10.5, y=20.3\n"
     ]
    }
   ],
   "source": [
    "def coordenadas():\n",
    "    return (10.5, 20.3)\n",
    "\n",
    "x, y = coordenadas()\n",
    "print(f\"x={x}, y={y}\")\n"
   ]
  },
  {
   "cell_type": "markdown",
   "id": "52ad2d36",
   "metadata": {},
   "source": [
    "### ✍️ Ejercicios prácticos\n",
    "\n",
    "1. Crea una tupla con los días de la semana e imprime el 3er día.\n",
    "\n",
    "2. Haz slicing para obtener del 2do al 4to elemento de la tupla (10,20,30,40,50).\n",
    "\n",
    "3. Usa concatenación para unir (1,2,3) y (4,5,6).\n",
    "\n",
    "4. Cuenta cuántas veces aparece \"rojo\" en la tupla (\"rojo\",\"azul\",\"rojo\",\"verde\").\n",
    "\n",
    "5. Desempaqueta la tupla (\"Carlos\", 30, \"Chile\") en tres variables y muéstralas.\n",
    "\n",
    "6. Convierte la tupla (5,10,15) en lista, cambia el segundo valor a 99 y vuelve a convertirla en tupla.\n",
    "\n",
    "7. Reto 🚀: Dada una tupla anidada que representa una matriz 2x2: ((1,2),(3,4)), accede al valor 4.\n",
    "\n",
    "8. Reto de la vida real 🌍: Supón que tienes una función que devuelve las coordenadas GPS de un punto como tupla (latitud, longitud). Llama a la función y muestra las coordenadas formateadas en pantalla."
   ]
  },
  {
   "cell_type": "code",
   "execution_count": null,
   "id": "26ab448b",
   "metadata": {},
   "outputs": [
    {
     "name": "stdout",
     "output_type": "stream",
     "text": [
      "El tercer dia de la semana es: Miercoles\n"
     ]
    }
   ],
   "source": [
    "# 1. Crea una tupla con los días de la semana e imprime el 3er día.\n",
    "# Respuesta\n",
    "dias_semanas = ('lunes','martes','miercoles','jueves','viernes','sabado','domingo')\n",
    "print(f'El tercer dia de la semana es: {dias_semanas[2].capitalize()}')"
   ]
  },
  {
   "cell_type": "code",
   "execution_count": null,
   "id": "11f34767",
   "metadata": {},
   "outputs": [
    {
     "name": "stdout",
     "output_type": "stream",
     "text": [
      "(20, 30, 40)\n"
     ]
    }
   ],
   "source": [
    "# 2. Haz slicing para obtener del 2do al 4to elemento de la tupla (10,20,30,40,50).\n",
    "# Respuesta\n",
    "tupla = (10,20,30,40,50)\n",
    "segundo_cuarto = tupla[1:4]\n",
    "print(segundo_cuarto)"
   ]
  },
  {
   "cell_type": "code",
   "execution_count": null,
   "id": "4c157db0",
   "metadata": {},
   "outputs": [
    {
     "name": "stdout",
     "output_type": "stream",
     "text": [
      "(1, 2, 3, 4, 5, 6)\n"
     ]
    }
   ],
   "source": [
    "# 3 Usa concatenación para unir (1,2,3) y (4,5,6).\n",
    "# Respuesta\n",
    "u = (1,2,3)\n",
    "v = (4,5,6)\n",
    "union_u_v = u + v\n",
    "print(union_u_v)"
   ]
  },
  {
   "cell_type": "code",
   "execution_count": null,
   "id": "fac09e6e",
   "metadata": {},
   "outputs": [
    {
     "name": "stdout",
     "output_type": "stream",
     "text": [
      "El numero de veces que aparece el color rojo es: 2 veces\n"
     ]
    }
   ],
   "source": [
    "# 4. Cuenta cuántas veces aparece \"rojo\" en la tupla (\"rojo\",\"azul\",\"rojo\",\"verde\").\n",
    "# Respuesta\n",
    "tupla_colores = ('rojo','azul','rojo','verde')\n",
    "print(f'El numero de veces que aparece el color rojo es: {tupla_colores.count('rojo')} veces')"
   ]
  },
  {
   "cell_type": "code",
   "execution_count": null,
   "id": "4ee48014",
   "metadata": {},
   "outputs": [
    {
     "name": "stdout",
     "output_type": "stream",
     "text": [
      "Datos personales:\n",
      "Nombre: Carlos\n",
      "Edad: 30 anos\n",
      "Pais: Chile\n"
     ]
    }
   ],
   "source": [
    "# 5. Desempaqueta la tupla (\"Carlos\", 30, \"Chile\") en tres variables y muéstralas. \n",
    "# Respuesta\n",
    "datos = (\"Carlos\", 30, \"Chile\")\n",
    "nombre,edad,pais = datos\n",
    "print(f'Datos personales:\\nNombre: {nombre}\\nEdad: {edad} anos\\nPais: {pais}')"
   ]
  },
  {
   "cell_type": "code",
   "execution_count": 20,
   "id": "a4e70488",
   "metadata": {},
   "outputs": [
    {
     "name": "stdout",
     "output_type": "stream",
     "text": [
      "(5, 99, 15)\n"
     ]
    }
   ],
   "source": [
    "# 6. Convierte la tupla (5,10,15) en lista, cambia el segundo valor a 99 y vuelve a convertirla en tupla.\n",
    "# Respuesta\n",
    "elementos = (5,10,15)\n",
    "\n",
    "# tranformando  a Lsita para modifica elemento\n",
    "lista_elementos = list(elementos)\n",
    "lista_elementos[1] = 99\n",
    "\n",
    "# volviendo lista a tuppla\n",
    "elementos = tuple(lista_elementos)\n",
    "\n",
    "print(elementos)\n"
   ]
  },
  {
   "cell_type": "code",
   "execution_count": 21,
   "id": "bc5371ad",
   "metadata": {},
   "outputs": [
    {
     "name": "stdout",
     "output_type": "stream",
     "text": [
      "4\n"
     ]
    }
   ],
   "source": [
    "# 7. Reto 🚀: Dada una tupla anidada que representa una matriz 2x2: ((1,2),(3,4)), accede al valor 4.\n",
    "# Respuesta \n",
    "matriz_2x2 = ((1,2),(3,4))\n",
    "cuarto_elemento = matriz_2x2[1][1]\n",
    "print(cuarto_elemento)"
   ]
  },
  {
   "cell_type": "code",
   "execution_count": 36,
   "id": "b40cdee1",
   "metadata": {},
   "outputs": [
    {
     "name": "stdout",
     "output_type": "stream",
     "text": [
      "La longitud: 89\n",
      "La latitud: 76\n"
     ]
    }
   ],
   "source": [
    "# 8. Reto de la vida real 🌍: Supón que tienes una función que devuelve las coordenadas GPS de un punto como tupla (latitud, longitud).\n",
    "#  Llama a la función y muestra las coordenadas formateadas en pantalla.\n",
    "import sys\n",
    "\n",
    "def gps(latitud,longitud):\n",
    "    coordenadas = (latitud,longitud) #coordenadas\n",
    "    return  coordenadas\n",
    "\n",
    "coordenadas_del_punto  =gps(76,89)\n",
    "lat,lon =coordenadas_del_punto\n",
    "\n",
    "print(f'La longitud: {lon}\\nLa latitud: {lat}')\n",
    "    "
   ]
  },
  {
   "cell_type": "markdown",
   "id": "3c093883",
   "metadata": {},
   "source": [
    "### 📌 Resumen de la clase\n",
    "\n",
    "- Las tuplas son colecciones ordenadas e inmutables.\n",
    "\n",
    "- Se crean con paréntesis () o sin ellos.\n",
    "\n",
    "- Se accede a sus elementos por índices y slicing.\n",
    "\n",
    "- Son inmutables, pero se pueden convertir a listas para modificarlas.\n",
    "\n",
    "- Métodos principales: .count() y .index().\n",
    "\n",
    "- Soportan operaciones de concatenación, repetición y pertenencia.\n",
    "\n",
    "- Se usan para desempaquetado, funciones que retornan múltiples valores y claves de diccionarios.\n",
    "\n",
    "👉 Con esto dominas las tuplas en Python, una estructura simple pero muy poderosa."
   ]
  }
 ],
 "metadata": {
  "kernelspec": {
   "display_name": "Python 3",
   "language": "python",
   "name": "python3"
  },
  "language_info": {
   "codemirror_mode": {
    "name": "ipython",
    "version": 3
   },
   "file_extension": ".py",
   "mimetype": "text/x-python",
   "name": "python",
   "nbconvert_exporter": "python",
   "pygments_lexer": "ipython3",
   "version": "3.13.7"
  }
 },
 "nbformat": 4,
 "nbformat_minor": 5
}
