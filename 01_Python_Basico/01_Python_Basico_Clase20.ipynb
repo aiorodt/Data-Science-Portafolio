{
 "cells": [
  {
   "cell_type": "markdown",
   "id": "5fee03fd",
   "metadata": {},
   "source": [
    "# 🧠 Clase 20: Programación Funcional en Python\n",
    "\n",
    "## 🎯 Introducción\n",
    "La **programación funcional** es un paradigma que trata las funciones como *ciudadanos de primera clase* — es decir, pueden asignarse a variables, pasarse como argumentos, y devolverse desde otras funciones.\n",
    "\n",
    "Python no es 100% funcional, pero **soporta poderosas características funcionales** que te permiten escribir código más claro, reutilizable y sin efectos secundarios.\n",
    "\n",
    "---\n",
    "\n",
    "## 🧩 1. ¿Qué es la Programación Funcional?\n",
    "\n",
    "Es un estilo de programación basado en tres principios clave:\n",
    "\n",
    "1. **Funciones puras:** siempre devuelven el mismo resultado para los mismos argumentos y no modifican el estado externo.\n",
    "2. **Inmutabilidad:** los datos no se alteran; se crean nuevos valores.\n",
    "3. **Funciones de orden superior:** reciben o devuelven otras funciones.\n",
    "\n",
    "### 🔹 Ejemplo:\n",
    "```python\n",
    "def cuadrado(x):\n",
    "    return x ** 2  # No modifica nada, solo devuelve un nuevo valor\n",
    "\n",
    "print(cuadrado(4))  # 16\n"
   ]
  },
  {
   "cell_type": "markdown",
   "id": "9cdaacb9",
   "metadata": {},
   "source": [
    "## 🧩 2. Funciones puras vs. impuras\n",
    "🔹 Función pura:"
   ]
  },
  {
   "cell_type": "code",
   "execution_count": 3,
   "id": "31cc2475",
   "metadata": {},
   "outputs": [
    {
     "name": "stdout",
     "output_type": "stream",
     "text": [
      "-5\n"
     ]
    }
   ],
   "source": [
    "def sumar(a, b):\n",
    "    return a + b\n",
    "print(sumar(-6,1))"
   ]
  },
  {
   "cell_type": "markdown",
   "id": "f082cb34",
   "metadata": {},
   "source": [
    "🔹 Función impura (tiene efectos secundarios):"
   ]
  },
  {
   "cell_type": "code",
   "execution_count": 5,
   "id": "b453a36f",
   "metadata": {},
   "outputs": [
    {
     "name": "stdout",
     "output_type": "stream",
     "text": [
      "3\n"
     ]
    }
   ],
   "source": [
    "resultado = 0\n",
    "\n",
    "def sumar_impura(a):\n",
    "    global resultado\n",
    "    resultado += a\n",
    "\n",
    "sumar_impura(3)\n",
    "print(resultado)"
   ]
  },
  {
   "cell_type": "markdown",
   "id": "e520da91",
   "metadata": {},
   "source": [
    "🧠 Idea: evita modificar variables fuera de la función.\n",
    "Esto hace que tu código sea predecible y fácil de probar."
   ]
  },
  {
   "cell_type": "markdown",
   "id": "13f27fed",
   "metadata": {},
   "source": [
    "## 🧩 3. Inmutabilidad\n",
    "\n",
    "En lugar de modificar listas u objetos, se crean nuevas versiones."
   ]
  },
  {
   "cell_type": "code",
   "execution_count": 17,
   "id": "d806b0d1",
   "metadata": {},
   "outputs": [
    {
     "name": "stdout",
     "output_type": "stream",
     "text": [
      "[1, 2, 3]\n",
      "[2, 4, 6]\n"
     ]
    }
   ],
   "source": [
    "numeros = [1, 2, 3]\n",
    "nueva_lista = [x * 2 for x in numeros]\n",
    "\n",
    "print(numeros)      # [1, 2, 3]\n",
    "print(nueva_lista)  # [2, 4, 6]\n"
   ]
  },
  {
   "cell_type": "markdown",
   "id": "55e0f6e8",
   "metadata": {},
   "source": [
    "⚠️ En programación funcional, cambiar los datos originales se considera un “efecto secundario”."
   ]
  },
  {
   "cell_type": "markdown",
   "id": "2834c842",
   "metadata": {},
   "source": [
    "## 🧩 4. Funciones de orden superior\n",
    "\n",
    "Son funciones que reciben otras funciones o devuelven funciones.\n",
    "\n",
    "🔹 Ejemplo:"
   ]
  },
  {
   "cell_type": "code",
   "execution_count": 7,
   "id": "c32ab165",
   "metadata": {},
   "outputs": [
    {
     "name": "stdout",
     "output_type": "stream",
     "text": [
      "[1, 4, 9, 16]\n"
     ]
    }
   ],
   "source": [
    "def aplicar_operacion(funcion, lista):\n",
    "    return [funcion(x) for x in lista]\n",
    "\n",
    "resultado = aplicar_operacion(lambda x: x**2, [1, 2, 3, 4])\n",
    "print(resultado)  # [1, 4, 9, 16]\n"
   ]
  },
  {
   "cell_type": "markdown",
   "id": "c24280d5",
   "metadata": {},
   "source": [
    "## 🧩 5. Decoradores — funciones que modifican funciones\n",
    "\n",
    "Un decorador permite extender el comportamiento de una función sin modificar su código original.\n",
    "\n",
    "🔹 Sintaxis básica:"
   ]
  },
  {
   "cell_type": "code",
   "execution_count": 8,
   "id": "8f580d2e",
   "metadata": {},
   "outputs": [
    {
     "name": "stdout",
     "output_type": "stream",
     "text": [
      "Antes de ejecutar la función\n",
      "Hola mundo\n",
      "Después de ejecutar la función\n"
     ]
    }
   ],
   "source": [
    "def decorador(func):\n",
    "    def nueva_funcion():\n",
    "        print(\"Antes de ejecutar la función\")\n",
    "        func()\n",
    "        print(\"Después de ejecutar la función\")\n",
    "    return nueva_funcion\n",
    "\n",
    "@decorador\n",
    "def saludar():\n",
    "    print(\"Hola mundo\")\n",
    "\n",
    "saludar()\n"
   ]
  },
  {
   "cell_type": "markdown",
   "id": "8dffad94",
   "metadata": {},
   "source": [
    "## 🧩 6. map(), filter(), reduce() y zip() en estilo funcional\n",
    "\n",
    "Estos métodos permiten procesar colecciones de datos sin usar bucles explícitos.\n",
    "\n",
    "🔹 map() → aplica una función"
   ]
  },
  {
   "cell_type": "code",
   "execution_count": 9,
   "id": "6f6a7b8a",
   "metadata": {},
   "outputs": [
    {
     "name": "stdout",
     "output_type": "stream",
     "text": [
      "[2, 4, 6, 8]\n"
     ]
    }
   ],
   "source": [
    "numeros = [1, 2, 3, 4]\n",
    "dobles = list(map(lambda x: x * 2, numeros))\n",
    "print(dobles)  # [2, 4, 6, 8]"
   ]
  },
  {
   "cell_type": "markdown",
   "id": "f1a82cfb",
   "metadata": {},
   "source": [
    "🔹 filter() → filtra elementos"
   ]
  },
  {
   "cell_type": "code",
   "execution_count": 10,
   "id": "de1c5155",
   "metadata": {},
   "outputs": [
    {
     "name": "stdout",
     "output_type": "stream",
     "text": [
      "[2, 4]\n"
     ]
    }
   ],
   "source": [
    "pares = list(filter(lambda x: x % 2 == 0, numeros))\n",
    "print(pares)  # [2, 4]"
   ]
  },
  {
   "cell_type": "markdown",
   "id": "73d199cb",
   "metadata": {},
   "source": [
    "🔹 reduce() → combina elementos"
   ]
  },
  {
   "cell_type": "code",
   "execution_count": 11,
   "id": "86f20706",
   "metadata": {},
   "outputs": [
    {
     "name": "stdout",
     "output_type": "stream",
     "text": [
      "10\n"
     ]
    }
   ],
   "source": [
    "from functools import reduce\n",
    "suma = reduce(lambda x, y: x + y, numeros)\n",
    "print(suma)  # 10\n"
   ]
  },
  {
   "cell_type": "markdown",
   "id": "9cf30fd3",
   "metadata": {},
   "source": [
    "🔹 zip() → combina listas en pares"
   ]
  },
  {
   "cell_type": "code",
   "execution_count": 12,
   "id": "ea17dfbb",
   "metadata": {},
   "outputs": [
    {
     "name": "stdout",
     "output_type": "stream",
     "text": [
      "[('Ana', 25), ('Luis', 30), ('María', 28)]\n"
     ]
    }
   ],
   "source": [
    "nombres = [\"Ana\", \"Luis\", \"María\"]\n",
    "edades = [25, 30, 28]\n",
    "\n",
    "combinado = list(zip(nombres, edades))\n",
    "print(combinado)  # [('Ana', 25), ('Luis', 30), ('María', 28)]\n"
   ]
  },
  {
   "cell_type": "markdown",
   "id": "f5c4bf15",
   "metadata": {},
   "source": [
    "## 🧩 7. Funciones parciales (functools.partial)\n",
    "\n",
    "Permite fijar algunos argumentos de una función para crear una nueva versión"
   ]
  },
  {
   "cell_type": "code",
   "execution_count": 13,
   "id": "1e542572",
   "metadata": {},
   "outputs": [
    {
     "name": "stdout",
     "output_type": "stream",
     "text": [
      "25\n"
     ]
    }
   ],
   "source": [
    "from functools import partial\n",
    "\n",
    "def potencia(base, exponente):\n",
    "    return base ** exponente\n",
    "\n",
    "cuadrado = partial(potencia, exponente=2)\n",
    "print(cuadrado(5))  # 25\n"
   ]
  },
  {
   "cell_type": "markdown",
   "id": "9d8fc1ff",
   "metadata": {},
   "source": [
    "## 🧩 8. Composición de funciones\n",
    "\n",
    "Puedes combinar varias funciones para crear flujos de transformación."
   ]
  },
  {
   "cell_type": "code",
   "execution_count": 14,
   "id": "55daa8b5",
   "metadata": {},
   "outputs": [
    {
     "name": "stdout",
     "output_type": "stream",
     "text": [
      "13\n"
     ]
    }
   ],
   "source": [
    "def doble(x): return x * 2\n",
    "def sumar_tres(x): return x + 3\n",
    "\n",
    "def componer(f, g):\n",
    "    return lambda x: f(g(x))\n",
    "\n",
    "doble_mas_tres = componer(sumar_tres, doble)\n",
    "print(doble_mas_tres(5))  # 13\n"
   ]
  },
  {
   "cell_type": "markdown",
   "id": "d61230ea",
   "metadata": {},
   "source": [
    "## 🧩 9. Expresiones Lambda + Funcionalidad avanzada\n",
    "\n",
    "Las lambdas pueden combinarse para crear transformaciones complejas:"
   ]
  },
  {
   "cell_type": "code",
   "execution_count": 15,
   "id": "2ebad532",
   "metadata": {},
   "outputs": [
    {
     "name": "stdout",
     "output_type": "stream",
     "text": [
      "[('Pedro', 20), ('Ana', 25), ('Luis', 30)]\n"
     ]
    }
   ],
   "source": [
    "datos = [(\"Ana\", 25), (\"Luis\", 30), (\"Pedro\", 20)]\n",
    "ordenados = sorted(datos, key=lambda x: x[1])\n",
    "print(ordenados)  # [('Pedro', 20), ('Ana', 25), ('Luis', 30)]\n"
   ]
  },
  {
   "cell_type": "markdown",
   "id": "7d897f0e",
   "metadata": {},
   "source": [
    "## 💻 Ejercicios Prácticos\n",
    "\n"
   ]
  },
  {
   "cell_type": "markdown",
   "id": "73ba3f30",
   "metadata": {},
   "source": [
    "### 🧩 Ejercicio 1:\n",
    "\n",
    "Crea un decorador que mida el tiempo de ejecución de una función."
   ]
  },
  {
   "cell_type": "code",
   "execution_count": 20,
   "id": "e36f8846",
   "metadata": {},
   "outputs": [
    {
     "name": "stdout",
     "output_type": "stream",
     "text": [
      "⏳ Iniciando Medición de Tiempo de Ejecución...\n",
      "   [Ejecutando la función...] \n",
      "✅ La función terminó en 1.5703 segundos.\n"
     ]
    }
   ],
   "source": [
    "import time\n",
    "\n",
    "# Crea un decorador que mida el tiempo de ejecución de una función.\n",
    "def decorador(funcion):\n",
    "\n",
    "    def mensaje():\n",
    "        print('⏳ Iniciando Medición de Tiempo de Ejecución...')\n",
    "        \n",
    "        # 1. Capturar el tiempo de inicio\n",
    "        inicio = time.time()\n",
    "\n",
    "        # 2. Llamar y ejecutar la función decorada\n",
    "        funcion()\n",
    "\n",
    "        # 3. Capturar el tiempo de finalización\n",
    "        fin = time.time()\n",
    "        \n",
    "        # 4. Calcular la duración\n",
    "        duracion = fin - inicio\n",
    "\n",
    "        print(f'✅ La función terminó en {duracion:.4f} segundos.')\n",
    "    return mensaje\n",
    "    \n",
    "\n",
    "# -------------------------------------------------------------------\n",
    "# EJEMPLO DE USO DEL DECORADOR\n",
    "# -------------------------------------------------------------------\n",
    "\n",
    "@decorador\n",
    "def mi_funcion_lenta():\n",
    "    \"\"\"Simula una tarea que toma tiempo, como cargar un archivo.\"\"\"\n",
    "    print(\"   [Ejecutando la función...] \")\n",
    "    time.sleep(1.57) # Pausa el programa por 1.5 segundos\n",
    "\n",
    "# Al llamar a mi_funcion_lenta, realmente se ejecuta la función 'mensaje' decorada\n",
    "mi_funcion_lenta()\n"
   ]
  },
  {
   "cell_type": "markdown",
   "id": "d0e039ad",
   "metadata": {},
   "source": [
    "### 🧩 Ejercicio 2:\n",
    "\n",
    "Usa map() y filter() para:\n",
    "\n",
    "- Elevar al cuadrado una lista de números.\n",
    "\n",
    "- Luego, filtrar solo los resultados mayores que 50."
   ]
  },
  {
   "cell_type": "code",
   "execution_count": null,
   "id": "6baf6b8c",
   "metadata": {},
   "outputs": [],
   "source": []
  },
  {
   "cell_type": "markdown",
   "id": "d6e07f06",
   "metadata": {},
   "source": [
    "### 🧩 Ejercicio 3:\n",
    "\n",
    "Implementa una función recursiva que calcule el n-ésimo número de Fibonacci."
   ]
  },
  {
   "cell_type": "code",
   "execution_count": null,
   "id": "d7f32336",
   "metadata": {},
   "outputs": [],
   "source": []
  },
  {
   "cell_type": "markdown",
   "id": "9aad5d40",
   "metadata": {},
   "source": [
    "### 🧩 Ejercicio 4 (Vida real):\n",
    "\n",
    "Tienes una lista de transacciones con montos en diferentes monedas:"
   ]
  },
  {
   "cell_type": "code",
   "execution_count": null,
   "id": "87a9afb0",
   "metadata": {},
   "outputs": [],
   "source": [
    "transacciones = [\n",
    "    {\"monto\": 100, \"moneda\": \"USD\"},\n",
    "    {\"monto\": 200, \"moneda\": \"EUR\"},\n",
    "    {\"monto\": 150, \"moneda\": \"USD\"},\n",
    "]"
   ]
  },
  {
   "cell_type": "markdown",
   "id": "9d568d83",
   "metadata": {},
   "source": [
    "Usa map() y filter() para convertir todas las transacciones a euros usando una tasa de cambio, y luego sumar el total."
   ]
  },
  {
   "cell_type": "code",
   "execution_count": null,
   "id": "1c0fb777",
   "metadata": {},
   "outputs": [],
   "source": []
  },
  {
   "cell_type": "markdown",
   "id": "f940cb5d",
   "metadata": {},
   "source": [
    "## 🧠 Conclusión\n",
    "\n",
    "- La programación funcional te ayuda a escribir código más claro y menos propenso a errores.\n",
    "\n",
    "- Los decoradores, funciones puras, y funciones de orden superior son herramientas clave.\n",
    "\n",
    "- Evita modificar datos directamente: prefiere la inmutabilidad."
   ]
  },
  {
   "cell_type": "markdown",
   "id": "33cf31e0",
   "metadata": {},
   "source": [
    "## ⚠️ Errores comunes\n",
    "\n",
    "- ❌ Olvidar devolver la función interna en un decorador.\n",
    "\n",
    "- ❌ Modificar estructuras mutables dentro de funciones puras.\n",
    "\n",
    "- ❌ Confundir el orden de funciones en una composición."
   ]
  }
 ],
 "metadata": {
  "kernelspec": {
   "display_name": "Python 3",
   "language": "python",
   "name": "python3"
  },
  "language_info": {
   "codemirror_mode": {
    "name": "ipython",
    "version": 3
   },
   "file_extension": ".py",
   "mimetype": "text/x-python",
   "name": "python",
   "nbconvert_exporter": "python",
   "pygments_lexer": "ipython3",
   "version": "3.13.8"
  }
 },
 "nbformat": 4,
 "nbformat_minor": 5
}
