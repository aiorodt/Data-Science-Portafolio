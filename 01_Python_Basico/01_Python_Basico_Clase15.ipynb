{
 "cells": [
  {
   "cell_type": "markdown",
   "id": "eae3173d",
   "metadata": {},
   "source": [
    "## Clase 15: Conjuntos Avanzados en Python (Sets Avanzados y Súper Avanzados)\n",
    "### 🎯 Introducción\n",
    "\n",
    "En la clase anterior conocimos los conjuntos (sets), estructuras que permiten almacenar elementos únicos y realizar operaciones matemáticas como unión, intersección y diferencia.\n",
    "Ahora daremos un paso más y veremos operaciones avanzadas y súper avanzadas que nos permiten aplicar conjuntos en casos más complejos como comparaciones, optimización de búsquedas, y manipulación eficiente de datos."
   ]
  },
  {
   "cell_type": "markdown",
   "id": "6d1cc186",
   "metadata": {},
   "source": [
    "### 📌 1. Repaso rápido: ¿Qué es un conjunto?\n",
    "\n",
    "Un set es una colección no ordenada de elementos únicos en Python."
   ]
  },
  {
   "cell_type": "code",
   "execution_count": 1,
   "id": "ccb86993",
   "metadata": {},
   "outputs": [
    {
     "name": "stdout",
     "output_type": "stream",
     "text": [
      "{'pera', 'uva', 'manzana'}\n"
     ]
    }
   ],
   "source": [
    "frutas = {\"manzana\", \"pera\", \"uva\", \"manzana\"}\n",
    "print(frutas)  # {'manzana', 'pera', 'uva'} → no repite valores"
   ]
  },
  {
   "cell_type": "markdown",
   "id": "d39ffa3b",
   "metadata": {},
   "source": [
    "### 📌 2. Métodos avanzados de conjuntos\n",
    "🔹 isdisjoint()\n",
    "\n",
    "Comprueba si dos conjuntos no tienen elementos en común."
   ]
  },
  {
   "cell_type": "code",
   "execution_count": 2,
   "id": "eb06f02a",
   "metadata": {},
   "outputs": [
    {
     "name": "stdout",
     "output_type": "stream",
     "text": [
      "True\n"
     ]
    }
   ],
   "source": [
    "a = {1, 2, 3}\n",
    "b = {4, 5, 6}\n",
    "print(a.isdisjoint(b))  # True"
   ]
  },
  {
   "cell_type": "markdown",
   "id": "66620136",
   "metadata": {},
   "source": [
    " 🔹issubset() y issuperset()\n",
    "\n",
    "- issubset() → Comprueba si un conjunto está contenido en otro.\n",
    "\n",
    "- issuperset() → Comprueba si un conjunto contiene a otro."
   ]
  },
  {
   "cell_type": "code",
   "execution_count": 3,
   "id": "2a6bb1e4",
   "metadata": {},
   "outputs": [
    {
     "name": "stdout",
     "output_type": "stream",
     "text": [
      "True\n",
      "True\n"
     ]
    }
   ],
   "source": [
    "a = {1, 2}\n",
    "b = {1, 2, 3, 4}\n",
    "\n",
    "print(a.issubset(b))   # True\n",
    "print(b.issuperset(a)) # True\n"
   ]
  },
  {
   "cell_type": "markdown",
   "id": "5b5fa05a",
   "metadata": {},
   "source": [
    "🔹 symmetric_difference() y symmetric_difference_update()\n",
    "\n",
    "Devuelve los elementos que están en un conjunto o en el otro, pero no en ambos"
   ]
  },
  {
   "cell_type": "code",
   "execution_count": 6,
   "id": "773395d7",
   "metadata": {},
   "outputs": [
    {
     "name": "stdout",
     "output_type": "stream",
     "text": [
      "{1, 2, 4, 5}\n"
     ]
    }
   ],
   "source": [
    "a = {1, 2, 3}\n",
    "b = {3, 4, 5}\n",
    "\n",
    "print(a.symmetric_difference(b))  # {1, 2, 4, 5}"
   ]
  },
  {
   "cell_type": "markdown",
   "id": "50dde7e1",
   "metadata": {},
   "source": [
    "Con update() modifica el conjunto original:"
   ]
  },
  {
   "cell_type": "code",
   "execution_count": 7,
   "id": "706fb945",
   "metadata": {},
   "outputs": [
    {
     "name": "stdout",
     "output_type": "stream",
     "text": [
      "{1, 2, 4, 5}\n"
     ]
    }
   ],
   "source": [
    "a.symmetric_difference_update(b)\n",
    "print(a)  # {1, 2, 4, 5}"
   ]
  },
  {
   "cell_type": "markdown",
   "id": "62863246",
   "metadata": {},
   "source": [
    "🔹 frozenset\n",
    "\n",
    "Un conjunto inmutable: no se puede modificar después de creado. Muy útil como claves en diccionarios."
   ]
  },
  {
   "cell_type": "code",
   "execution_count": 8,
   "id": "065f92db",
   "metadata": {},
   "outputs": [
    {
     "name": "stdout",
     "output_type": "stream",
     "text": [
      "frozenset({1, 2, 3, 4})\n"
     ]
    }
   ],
   "source": [
    "fs = frozenset([1, 2, 3, 4])\n",
    "print(fs)  # frozenset({1, 2, 3, 4})"
   ]
  },
  {
   "cell_type": "markdown",
   "id": "f9845df6",
   "metadata": {},
   "source": [
    "### 📌 3. Operaciones avanzadas con conjuntos\n",
    "🔹 Eliminando duplicados de una lista\n",
    "\n",
    "Los sets son perfectos para filtrar duplicados rápidamente."
   ]
  },
  {
   "cell_type": "code",
   "execution_count": 9,
   "id": "33ce6ca5",
   "metadata": {},
   "outputs": [
    {
     "name": "stdout",
     "output_type": "stream",
     "text": [
      "['Pedro', 'Ana', 'Luis']\n"
     ]
    }
   ],
   "source": [
    "nombres = [\"Ana\", \"Luis\", \"Ana\", \"Pedro\", \"Luis\"]\n",
    "sin_duplicados = list(set(nombres))\n",
    "print(sin_duplicados)  # ['Pedro', 'Ana', 'Luis']"
   ]
  },
  {
   "cell_type": "markdown",
   "id": "2842bc35",
   "metadata": {},
   "source": [
    "🔹 Intersección múltiple con *\n",
    "\n",
    "Podemos usar set.intersection(*sets) para encontrar elementos comunes en varios conjuntos."
   ]
  },
  {
   "cell_type": "code",
   "execution_count": 10,
   "id": "968ae29a",
   "metadata": {},
   "outputs": [
    {
     "name": "stdout",
     "output_type": "stream",
     "text": [
      "{2, 3}\n"
     ]
    }
   ],
   "source": [
    "a = {1, 2, 3, 4}\n",
    "b = {2, 3, 5}\n",
    "c = {2, 3, 6}\n",
    "\n",
    "comun = set.intersection(a, b, c)\n",
    "print(comun)  # {2, 3}"
   ]
  },
  {
   "cell_type": "markdown",
   "id": "39f5eb54",
   "metadata": {},
   "source": [
    "🔹 Comparación de conjuntos\n",
    "\n",
    "Podemos comparar directamente conjuntos con operadores:"
   ]
  },
  {
   "cell_type": "code",
   "execution_count": 11,
   "id": "7cc8c393",
   "metadata": {},
   "outputs": [
    {
     "name": "stdout",
     "output_type": "stream",
     "text": [
      "True\n",
      "True\n"
     ]
    }
   ],
   "source": [
    "a = {1, 2, 3}\n",
    "b = {1, 2, 3, 4}\n",
    "\n",
    "print(a < b)   # True (a es subconjunto de b)\n",
    "print(b > a)   # True (b es superconjunto de a)\n"
   ]
  },
  {
   "cell_type": "markdown",
   "id": "09a81b60",
   "metadata": {},
   "source": [
    "### 📌 4. Ejemplos prácticos de uso\n",
    "✅ Ejemplo 1: Palabras únicas en un texto"
   ]
  },
  {
   "cell_type": "code",
   "execution_count": 12,
   "id": "bfa84470",
   "metadata": {},
   "outputs": [
    {
     "name": "stdout",
     "output_type": "stream",
     "text": [
      "{'python', 'es', 'divertido', 'y', 'poderoso'}\n"
     ]
    }
   ],
   "source": [
    "texto = \"python es divertido y python es poderoso\"\n",
    "palabras = set(texto.split())\n",
    "print(palabras)  \n",
    "# {'y', 'divertido', 'python', 'poderoso', 'es'}"
   ]
  },
  {
   "cell_type": "markdown",
   "id": "55f08832",
   "metadata": {},
   "source": [
    "✅ Ejemplo 2: Detectar elementos comunes en listas"
   ]
  },
  {
   "cell_type": "code",
   "execution_count": 13,
   "id": "b3b7e912",
   "metadata": {},
   "outputs": [
    {
     "name": "stdout",
     "output_type": "stream",
     "text": [
      "{4, 5}\n"
     ]
    }
   ],
   "source": [
    "lista1 = [1, 2, 3, 4, 5]\n",
    "lista2 = [4, 5, 6, 7]\n",
    "\n",
    "comunes = set(lista1) & set(lista2)\n",
    "print(comunes)  # {4, 5}"
   ]
  },
  {
   "cell_type": "markdown",
   "id": "bd42fe2c",
   "metadata": {},
   "source": [
    "✅ Ejemplo 3: Diferencia de registros (qué elementos le faltan a un conjunto)"
   ]
  },
  {
   "cell_type": "code",
   "execution_count": 14,
   "id": "ad421774",
   "metadata": {},
   "outputs": [
    {
     "name": "stdout",
     "output_type": "stream",
     "text": [
      "{'Luis', 'Maria'}\n"
     ]
    }
   ],
   "source": [
    "usuarios_registrados = {\"Ana\", \"Luis\", \"Pedro\", \"Maria\"}\n",
    "usuarios_conectados = {\"Ana\", \"Pedro\"}\n",
    "\n",
    "faltantes = usuarios_registrados - usuarios_conectados\n",
    "print(faltantes)  # {'Luis', 'Maria'}\n"
   ]
  },
  {
   "cell_type": "markdown",
   "id": "5345f3eb",
   "metadata": {},
   "source": [
    "### 📌 5. Ejercicios propuestos\n",
    "\n",
    "1. Usa isdisjoint() para comprobar si dos listas no tienen elementos en común.\n",
    "\n",
    "2. Convierte una lista con duplicados en un conjunto y luego en una lista otra vez.\n",
    "\n",
    "3. Crea un programa que compare dos conjuntos y diga si uno es subconjunto del otro.\n",
    "\n",
    "4. Escribe una función que reciba varias listas y devuelva los elementos comunes en todas ellas."
   ]
  },
  {
   "cell_type": "code",
   "execution_count": 9,
   "id": "b8a9b69e",
   "metadata": {},
   "outputs": [
    {
     "name": "stdout",
     "output_type": "stream",
     "text": [
      "¿Los conjuntos son disjuntos (sin elementos comunes)? False\n"
     ]
    }
   ],
   "source": [
    "# 1. Usa isdisjoint() para comprobar si dos listas no tienen elementos en común.\n",
    "a = {1,2,3,4,5,6}\n",
    "b = {1,6,3,2,0,9}\n",
    "lista_no_comun = a.isdisjoint(b)\n",
    "print(f'¿Los conjuntos son disjuntos (sin elementos comunes)? {lista_no_comun}')\n"
   ]
  },
  {
   "cell_type": "code",
   "execution_count": 6,
   "id": "5c061be8",
   "metadata": {},
   "outputs": [
    {
     "name": "stdout",
     "output_type": "stream",
     "text": [
      "Lista Original ['patilla', 'almendra', 'naranja', 'mandarina', 'mora', 'uva', 'naranja']\n",
      "Lista tranformada en Conjunto {'mandarina', 'mora', 'almendra', 'patilla', 'naranja', 'uva'}\n",
      "Transformacion del conjunto a Una lista Final\n",
      "['mandarina', 'mora', 'almendra', 'patilla', 'naranja', 'uva']\n"
     ]
    }
   ],
   "source": [
    "# 2. Convierte una lista con duplicados en un conjunto y luego en una lista otra vez.\n",
    "lista_frutas = ['patilla','almendra','naranja','mandarina','mora','uva','naranja']\n",
    "\n",
    "# transformo a conjunto\n",
    "conjuto_frutas =set(lista_frutas)\n",
    "\n",
    "# transfromo a lista\n",
    "lista_2_fruta = list(conjuto_frutas)\n",
    "\n",
    "print(f'Lista Original {lista_frutas}')\n",
    "print(f'Lista tranformada en Conjunto {conjuto_frutas}')\n",
    "print(f'Transformacion del conjunto a Una lista Final\\n{lista_2_fruta}')"
   ]
  },
  {
   "cell_type": "code",
   "execution_count": null,
   "id": "ef98bb00",
   "metadata": {},
   "outputs": [
    {
     "name": "stdout",
     "output_type": "stream",
     "text": [
      "El conjunto no es subconjunto del otro\n"
     ]
    }
   ],
   "source": [
    "# 3. Crea un programa que compare dos conjuntos y diga si uno es subconjunto del otro.\n",
    "\n",
    "conjunto_a = {1,2,3,4,5,6,7,8}\n",
    "conjunto_b = {1,'b','c',4,9,8,'i','y'}\n",
    "\n",
    "if conjunto_a.issubset(conjunto_b) ==True:\n",
    "    print('El conjunto A  es un subconjunto de B.')\n",
    "else:\n",
    "    print('El conjunto A no es subconjunto de B')"
   ]
  },
  {
   "cell_type": "code",
   "execution_count": 6,
   "id": "da862837",
   "metadata": {},
   "outputs": [
    {
     "name": "stdout",
     "output_type": "stream",
     "text": [
      "--- Elementos Comunes en Múltiples Listas ---\n",
      "Lista A: [1, 5, 10, 20, 'coche', 'python']\n",
      "Lista B: [1, 2, 5, 8, 10, 'coche', 'java']\n",
      "Lista C: [1, 5, 9, 10, 15, 'coche', 'go']\n",
      "\n",
      "Elementos comunes a A, B y C: {1, 10, 'coche', 5}\n"
     ]
    }
   ],
   "source": [
    "# 4. Escribe una función que reciba varias listas y devuelva los elementos comunes en todas ellas.\n",
    "\n",
    "def elementos_comunes_en_listas(*listas):\n",
    "# Si la Lista es vacia \n",
    "    if not listas:\n",
    "        return set()\n",
    "    #primera lista en conjunto\n",
    "    resultado_comun = set(listas[0])\n",
    "    for lista_actual in listas[1:]:\n",
    "        resultado_comun = resultado_comun.intersection(set(lista_actual))\n",
    "        if not resultado_comun:\n",
    "            break\n",
    "    return resultado_comun\n",
    "# Ejemplos de prueba:\n",
    "listado_a = [1, 5, 10, 20, 'coche', 'python']\n",
    "listado_b = [1, 2, 5, 8, 10, 'coche', 'java']\n",
    "listado_c = [1, 5, 9, 10, 15, 'coche', 'go']\n",
    "comunes_tres_listas = elementos_comunes_en_listas(listado_a, listado_b, listado_c)\n",
    "print(\"--- Elementos Comunes en Múltiples Listas ---\")\n",
    "print(f\"Lista A: {listado_a}\")\n",
    "print(f\"Lista B: {listado_b}\")\n",
    "print(f\"Lista C: {listado_c}\")\n",
    "print(f\"\\nElementos comunes a A, B y C: {comunes_tres_listas}\") \n",
    "\n"
   ]
  },
  {
   "cell_type": "markdown",
   "id": "23b756d8",
   "metadata": {},
   "source": [
    "### 📌 6. Conclusión\n",
    "\n",
    "Los conjuntos avanzados en Python son una herramienta poderosa para manejar colecciones únicas, comparaciones eficientes y operaciones matemáticas entre conjuntos.\n",
    "Dominar estas técnicas permite resolver problemas de optimización, búsqueda y análisis de datos de manera sencilla y rápida.\n",
    "\n",
    "👉 Con esto cerramos Clase 15: Conjuntos Avanzados en Python."
   ]
  }
 ],
 "metadata": {
  "kernelspec": {
   "display_name": "Python 3",
   "language": "python",
   "name": "python3"
  },
  "language_info": {
   "codemirror_mode": {
    "name": "ipython",
    "version": 3
   },
   "file_extension": ".py",
   "mimetype": "text/x-python",
   "name": "python",
   "nbconvert_exporter": "python",
   "pygments_lexer": "ipython3",
   "version": "3.13.7"
  }
 },
 "nbformat": 4,
 "nbformat_minor": 5
}
