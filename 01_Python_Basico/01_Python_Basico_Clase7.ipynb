{
 "cells": [
  {
   "cell_type": "markdown",
   "id": "9411a105",
   "metadata": {},
   "source": [
    "# Clase 7: Ciclos en Python 🔄\n",
    "\n",
    "Hasta ahora hemos visto cómo tomar **decisiones** con `if`, `elif`, `else`.  \n",
    "Pero muchas veces necesitamos que una tarea se repita varias veces sin escribir el mismo código.  \n",
    "Para eso usamos los **ciclos o bucles**.\n",
    "\n",
    "---\n",
    "\n",
    "## 1. Ciclo `while` ⏳\n",
    "\n",
    "El ciclo `while` repite un bloque de código **mientras una condición sea verdadera**.\n",
    "\n",
    "### Sintaxis:\n",
    "```python\n",
    "while condición:\n",
    "    # Código que se repite\n"
   ]
  },
  {
   "cell_type": "markdown",
   "id": "6b3bfce4",
   "metadata": {},
   "source": [
    "# Ejemplo:"
   ]
  },
  {
   "cell_type": "code",
   "execution_count": 1,
   "id": "fc7a8800",
   "metadata": {},
   "outputs": [
    {
     "name": "stdout",
     "output_type": "stream",
     "text": [
      "Hola número 1\n",
      "Hola número 2\n",
      "Hola número 3\n",
      "Hola número 4\n",
      "Hola número 5\n"
     ]
    }
   ],
   "source": [
    "contador = 1\n",
    "while contador <= 5:\n",
    "    print(\"Hola número\", contador)\n",
    "    contador += 1  # importante: incrementar para evitar un bucle infinito\n"
   ]
  },
  {
   "cell_type": "markdown",
   "id": "ff0b7b53",
   "metadata": {},
   "source": [
    "# 2. Ciclo for 🔁\n",
    "\n",
    "El ciclo for se usa para recorrer secuencias (listas, cadenas, rangos de números…).\n",
    "\n",
    "# Sintaxis:"
   ]
  },
  {
   "cell_type": "code",
   "execution_count": 3,
   "id": "d32cbf48",
   "metadata": {},
   "outputs": [
    {
     "name": "stdout",
     "output_type": "stream",
     "text": [
      "1\n",
      "2\n",
      "g\n",
      "6\n",
      "7\n"
     ]
    }
   ],
   "source": [
    "secuencia= [1,2,'g',6,7]\n",
    "for variable in secuencia:\n",
    "    print(variable)\n",
    "    # Código que se repite\n"
   ]
  },
  {
   "cell_type": "markdown",
   "id": "16f33265",
   "metadata": {},
   "source": [
    "# Ejemplo con range():"
   ]
  },
  {
   "cell_type": "code",
   "execution_count": null,
   "id": "8098d670",
   "metadata": {},
   "outputs": [],
   "source": [
    "for numero in range(1, 6):\n",
    "    print(\"Número:\", numero)"
   ]
  },
  {
   "cell_type": "markdown",
   "id": "865f2e28",
   "metadata": {},
   "source": [
    "🔎 Este código también imprime los números del 1 al 5."
   ]
  },
  {
   "cell_type": "markdown",
   "id": "b6440583",
   "metadata": {},
   "source": [
    "# 3. Diferencias entre while y for ⚖️\n",
    "\n",
    "- Usa while cuando no sabes cuántas veces se repetirá, solo sabes la condición.\n",
    "\n",
    "- Usa for cuando ya conoces el rango o la secuencia que quieres recorrer."
   ]
  },
  {
   "cell_type": "markdown",
   "id": "a2d52268",
   "metadata": {},
   "source": [
    "# 4. Ejemplos prácticos 🛠️\n",
    "Ejemplo 1: Contar hasta 10 con while"
   ]
  },
  {
   "cell_type": "code",
   "execution_count": 4,
   "id": "596d5d30",
   "metadata": {},
   "outputs": [
    {
     "name": "stdout",
     "output_type": "stream",
     "text": [
      "1\n",
      "2\n",
      "3\n",
      "4\n",
      "5\n",
      "6\n",
      "7\n",
      "8\n",
      "9\n",
      "10\n"
     ]
    }
   ],
   "source": [
    "i = 1\n",
    "while i <= 10:\n",
    "    print(i)\n",
    "    i += 1"
   ]
  },
  {
   "cell_type": "markdown",
   "id": "720b150f",
   "metadata": {},
   "source": [
    "# Ejemplo 2: Recorrer una lista de nombres con for"
   ]
  },
  {
   "cell_type": "code",
   "execution_count": null,
   "id": "c36e1bf2",
   "metadata": {},
   "outputs": [
    {
     "name": "stdout",
     "output_type": "stream",
     "text": [
      "Hola Ana\n",
      "Hola Luis\n",
      "Hola Pedro\n",
      "Hola María\n"
     ]
    }
   ],
   "source": [
    "nombres = [\"Ana\", \"Luis\", \"Pedro\", \"María\"]\n",
    "for nombre in nombres:\n",
    "    print(\"Hola\", nombre)"
   ]
  },
  {
   "cell_type": "markdown",
   "id": "69fe9655",
   "metadata": {},
   "source": [
    "# Ejemplo 3: Tabla de multiplicar"
   ]
  },
  {
   "cell_type": "code",
   "execution_count": 6,
   "id": "a0029215",
   "metadata": {},
   "outputs": [
    {
     "name": "stdout",
     "output_type": "stream",
     "text": [
      "6 x 1 = 6\n",
      "6 x 2 = 12\n",
      "6 x 3 = 18\n",
      "6 x 4 = 24\n",
      "6 x 5 = 30\n",
      "6 x 6 = 36\n",
      "6 x 7 = 42\n",
      "6 x 8 = 48\n",
      "6 x 9 = 54\n",
      "6 x 10 = 60\n"
     ]
    }
   ],
   "source": [
    "numero = int(input(\"Ingrese un número: \"))\n",
    "for i in range(1, 11):\n",
    "    print(f\"{numero} x {i} = {numero * i}\")\n"
   ]
  },
  {
   "cell_type": "markdown",
   "id": "62b2644c",
   "metadata": {},
   "source": [
    "# 5. Ejercicios propuestos ✍️\n",
    "\n",
    "- Usando while, imprime los números del 1 al 20.\n",
    "\n",
    "- Con for, imprime los números pares del 2 al 50.\n",
    "\n",
    "- Pide un número al usuario e imprime su tabla de multiplicar (del 1 al 10).\n",
    "\n",
    "- Haz un programa que pida al usuario una palabra y la repita letra por letra con un for.\n",
    "\n",
    "- Usa un while para pedir al usuario una contraseña hasta que sea correcta (ejemplo: \"python123\")."
   ]
  },
  {
   "cell_type": "markdown",
   "id": "6d773ec9",
   "metadata": {},
   "source": [
    "## ✅ Resumen de la clase\n",
    "\n",
    "- while: repite mientras la condición sea verdadera.\n",
    "\n",
    "- for: recorre secuencias o rangos de números.\n",
    "\n",
    "- Cuidado con los bucles infinitos en while.\n",
    "\n",
    "- Los ciclos nos evitan escribir código repetitivo."
   ]
  }
 ],
 "metadata": {
  "kernelspec": {
   "display_name": "Python 3",
   "language": "python",
   "name": "python3"
  },
  "language_info": {
   "codemirror_mode": {
    "name": "ipython",
    "version": 3
   },
   "file_extension": ".py",
   "mimetype": "text/x-python",
   "name": "python",
   "nbconvert_exporter": "python",
   "pygments_lexer": "ipython3",
   "version": "3.13.7"
  }
 },
 "nbformat": 4,
 "nbformat_minor": 5
}
