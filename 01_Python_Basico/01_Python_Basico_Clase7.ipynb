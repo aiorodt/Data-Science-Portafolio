{
 "cells": [
  {
   "cell_type": "markdown",
   "id": "9411a105",
   "metadata": {},
   "source": [
    "# Clase 7: Ciclos en Python 🔄\n",
    "\n",
    "Hasta ahora hemos visto cómo tomar **decisiones** con `if`, `elif`, `else`.  \n",
    "Pero muchas veces necesitamos que una tarea se repita varias veces sin escribir el mismo código.  \n",
    "Para eso usamos los **ciclos o bucles**.\n",
    "\n",
    "---\n",
    "\n",
    "## 1. Ciclo `while` ⏳\n",
    "\n",
    "El ciclo `while` repite un bloque de código **mientras una condición sea verdadera**.\n",
    "\n",
    "### Sintaxis:\n",
    "```python\n",
    "while condición:\n",
    "    # Código que se repite\n"
   ]
  },
  {
   "cell_type": "markdown",
   "id": "6b3bfce4",
   "metadata": {},
   "source": [
    "# Ejemplo:"
   ]
  },
  {
   "cell_type": "code",
   "execution_count": 1,
   "id": "fc7a8800",
   "metadata": {},
   "outputs": [
    {
     "name": "stdout",
     "output_type": "stream",
     "text": [
      "Hola número 1\n",
      "Hola número 2\n",
      "Hola número 3\n",
      "Hola número 4\n",
      "Hola número 5\n"
     ]
    }
   ],
   "source": [
    "contador = 1\n",
    "while contador <= 5:\n",
    "    print(\"Hola número\", contador)\n",
    "    contador += 1  # importante: incrementar para evitar un bucle infinito\n"
   ]
  },
  {
   "cell_type": "markdown",
   "id": "8191487f",
   "metadata": {},
   "source": [
    "# 📌 Bucles Infinitos en Python\n",
    "\n",
    "Un **bucle infinito** es aquel que nunca termina de ejecutarse por sí solo, a menos que se use una instrucción como `break` para detenerlo.\n",
    "\n",
    "---\n",
    "\n",
    "## 🔄 ¿Cómo se crea?\n",
    "Se usa un `while` con una condición que **siempre es verdadera**.\n",
    "\n",
    "Ejemplo clásico:\n",
    "```python\n",
    "while True:\n",
    "    print(\"Esto se repetirá para siempre...\")"
   ]
  },
  {
   "cell_type": "markdown",
   "id": "37630c24",
   "metadata": {},
   "source": [
    "# 🚪 Cómo salir de un bucle infinito\n",
    "\n",
    "Para no quedarnos atrapados, usamos:\n",
    "\n",
    "- break → rompe el bucle y termina su ejecución.\n",
    "\n",
    "- return (dentro de funciones) → termina la función completa.\n",
    "\n",
    "# Ejemplo:"
   ]
  },
  {
   "cell_type": "code",
   "execution_count": 1,
   "id": "a7d0534f",
   "metadata": {},
   "outputs": [
    {
     "name": "stdout",
     "output_type": "stream",
     "text": [
      "✅ Acceso permitido\n"
     ]
    }
   ],
   "source": [
    "while True:\n",
    "    contraseña = input(\"Ingrese su contraseña: \")\n",
    "    if contraseña == \"python123\":\n",
    "        print(\"✅ Acceso permitido\")\n",
    "        break\n",
    "    else:\n",
    "        print(\"❌ Contraseña incorrecta\")\n"
   ]
  },
  {
   "cell_type": "markdown",
   "id": "ae305142",
   "metadata": {},
   "source": [
    "# 📚 Casos comunes de uso\n",
    "\n",
    "1. Solicitar datos hasta que sean correctos\n",
    "(contraseña, número válido, etc.)\n",
    "\n",
    "2. Menús interactivos"
   ]
  },
  {
   "cell_type": "code",
   "execution_count": 2,
   "id": "63a08920",
   "metadata": {},
   "outputs": [
    {
     "name": "stdout",
     "output_type": "stream",
     "text": [
      "\n",
      "--- Menú ---\n",
      "1. Saludar\n",
      "2. Salir\n",
      "Saliendo del programa...\n"
     ]
    }
   ],
   "source": [
    "while True:\n",
    "    print(\"\\n--- Menú ---\")\n",
    "    print(\"1. Saludar\")\n",
    "    print(\"2. Salir\")\n",
    "    \n",
    "    opcion = input(\"Elige una opción: \")\n",
    "    \n",
    "    if opcion == \"1\":\n",
    "        print(\"👋 Hola, bienvenido\")\n",
    "    elif opcion == \"2\":\n",
    "        print(\"Saliendo del programa...\")\n",
    "        break\n",
    "    else:\n",
    "        print(\"⚠️ Opción no válida\")\n"
   ]
  },
  {
   "cell_type": "markdown",
   "id": "8c5c6078",
   "metadata": {},
   "source": [
    "3. Programas que deben correr “siempre”\n",
    "(ejemplo: servidores, videojuegos, etc.)"
   ]
  },
  {
   "cell_type": "markdown",
   "id": "9857c417",
   "metadata": {},
   "source": [
    "# ⚠️ Precaución\n",
    "\n",
    "Un bucle infinito sin break ni condición de salida hará que tu programa se congele.\n",
    "Ejemplo problemático:"
   ]
  },
  {
   "cell_type": "code",
   "execution_count": null,
   "id": "720aa239",
   "metadata": {},
   "outputs": [],
   "source": [
    "while True:\n",
    "    print(\"Nunca voy a terminar...\")"
   ]
  },
  {
   "cell_type": "markdown",
   "id": "89e46221",
   "metadata": {},
   "source": [
    "# ✅ Regla de oro:\n",
    "Siempre piensa cuándo y cómo quieres romper el bucle antes de usar while True."
   ]
  },
  {
   "cell_type": "markdown",
   "id": "645634a8",
   "metadata": {},
   "source": [
    "# 🔹 Problema propuesto:\n",
    "\n",
    "Crea un programa que:\n",
    "\n",
    "1. Use un bucle infinito (while True) para pedir un número al usuario.\n",
    "\n",
    "2. Si el usuario escribe 0, el programa debe terminar (usando break).\n",
    "\n",
    "3. Mientras tanto, debe imprimir el doble del número ingresado."
   ]
  },
  {
   "cell_type": "code",
   "execution_count": null,
   "id": "9c253bb5",
   "metadata": {},
   "outputs": [
    {
     "name": "stdout",
     "output_type": "stream",
     "text": [
      "❌❌ Error: Debe ingresar unicamente un numero entero\n",
      "❌❌ Error: Debe ingresar unicamente un numero entero\n",
      "❌❌ Error: Debe ingresar unicamente un numero entero\n",
      "❌❌ Error: Debe ingresar unicamente un numero entero\n",
      "❌❌ Error: Debe ingresar unicamente un numero entero\n",
      "Fin del programa\n"
     ]
    }
   ],
   "source": [
    "\n",
    "#Crea un programa que:\n",
    "\n",
    "# 1. Use un bucle infinito (while True) para pedir un número al usuario.\n",
    "\n",
    "# 2. Si el usuario escribe 0, el programa debe terminar (usando break).\n",
    "\n",
    "# 3. Mientras tanto, debe imprimir el doble del número ingresado.\n",
    "\n",
    "# Creando un bucle infinito con True\n",
    "while True:\n",
    "    # Creando solicitud de numero (variable numero) y manejo de errores\n",
    "\n",
    "    try:\n",
    "        numero = int(input('Ingrese un numero entero'))\n",
    "    except ValueError:\n",
    "        print('❌❌ Error: Debe ingresar unicamente un numero entero')\n",
    "        continue\n",
    "    \n",
    "    if numero == 0: # condicion de salida del bucle por que el usuario eligio el numero cero\n",
    "        print('Fin del programa')\n",
    "        break # corta el buclek\n",
    "    else:\n",
    "        valor_doble = numero * 2\n",
    "        print(valor_doble)"
   ]
  },
  {
   "cell_type": "markdown",
   "id": "cad49aeb",
   "metadata": {},
   "source": [
    "# 🔄 La sentencia continue en Python\n",
    "\n",
    "La palabra clave continue se utiliza dentro de los bucles for o while para saltar la iteración actual y continuar directamente con la siguiente vuelta del ciclo.\n",
    "\n",
    "Es muy útil cuando quieres ignorar ciertos casos sin detener todo el bucle."
   ]
  },
  {
   "cell_type": "markdown",
   "id": "68ceaa6b",
   "metadata": {},
   "source": [
    "# ✅ Sintaxis básica"
   ]
  },
  {
   "cell_type": "code",
   "execution_count": null,
   "id": "22cd9e2c",
   "metadata": {},
   "outputs": [],
   "source": [
    "for variable in iterable:\n",
    "    if condicion:\n",
    "        continue\n",
    "    # código que se ejecuta solo si la condición es falsa\n"
   ]
  },
  {
   "cell_type": "markdown",
   "id": "55dc3efd",
   "metadata": {},
   "source": [
    "# 📌 Ejemplo 1: Saltar un número específico"
   ]
  },
  {
   "cell_type": "code",
   "execution_count": 3,
   "id": "e16ad8de",
   "metadata": {},
   "outputs": [
    {
     "name": "stdout",
     "output_type": "stream",
     "text": [
      "1\n",
      "2\n",
      "4\n",
      "5\n"
     ]
    }
   ],
   "source": [
    "for n in range(1, 6):\n",
    "    if n == 3:\n",
    "        continue  # cuando n es 3, se salta\n",
    "    print(n)\n"
   ]
  },
  {
   "cell_type": "markdown",
   "id": "67273ef2",
   "metadata": {},
   "source": [
    "# 📌 Ejemplo 2: Ignorar números pares"
   ]
  },
  {
   "cell_type": "code",
   "execution_count": 4,
   "id": "dd67bdff",
   "metadata": {},
   "outputs": [
    {
     "name": "stdout",
     "output_type": "stream",
     "text": [
      "1\n",
      "3\n",
      "5\n",
      "7\n",
      "9\n"
     ]
    }
   ],
   "source": [
    "for n in range(1, 10):\n",
    "    if n % 2 == 0:\n",
    "        continue  # saltamos los pares\n",
    "    print(n)\n"
   ]
  },
  {
   "cell_type": "markdown",
   "id": "8219803c",
   "metadata": {},
   "source": [
    "# 📝 Problema propuesto\n",
    "\n",
    "Escribe un programa que muestre los números del 1 al 20,\n",
    "pero que se salte todos los múltiplos de 4 usando continue."
   ]
  },
  {
   "cell_type": "code",
   "execution_count": null,
   "id": "aa64b201",
   "metadata": {},
   "outputs": [
    {
     "name": "stdout",
     "output_type": "stream",
     "text": [
      "1\n",
      "2\n",
      "3\n",
      "5\n",
      "6\n",
      "7\n",
      "9\n",
      "10\n",
      "11\n",
      "13\n",
      "14\n",
      "15\n",
      "17\n",
      "18\n",
      "19\n"
     ]
    }
   ],
   "source": [
    "#Escribe un programa que muestre los números del 1 al 20,pero que se salte todos los múltiplos de 4 usando continue.\n",
    "\n",
    "# creacion de un bucle for \n",
    "for n in range(1,21):\n",
    "    if n % 4 == 0:\n",
    "        continue\n",
    "    print(n)"
   ]
  },
  {
   "cell_type": "markdown",
   "id": "ff0b7b53",
   "metadata": {},
   "source": [
    "# 2. Ciclo for 🔁\n",
    "\n",
    "El ciclo for se usa para recorrer secuencias (listas, cadenas, rangos de números…).\n",
    "\n",
    "# Sintaxis:"
   ]
  },
  {
   "cell_type": "code",
   "execution_count": 3,
   "id": "d32cbf48",
   "metadata": {},
   "outputs": [
    {
     "name": "stdout",
     "output_type": "stream",
     "text": [
      "1\n",
      "2\n",
      "g\n",
      "6\n",
      "7\n"
     ]
    }
   ],
   "source": [
    "secuencia= [1,2,'g',6,7]\n",
    "for variable in secuencia:\n",
    "    print(variable)\n",
    "    # Código que se repite\n"
   ]
  },
  {
   "cell_type": "markdown",
   "id": "16f33265",
   "metadata": {},
   "source": [
    "# Ejemplo con range():"
   ]
  },
  {
   "cell_type": "code",
   "execution_count": 2,
   "id": "8098d670",
   "metadata": {},
   "outputs": [
    {
     "name": "stdout",
     "output_type": "stream",
     "text": [
      "Número: 1\n",
      "Número: 2\n",
      "Número: 3\n",
      "Número: 4\n",
      "Número: 5\n"
     ]
    }
   ],
   "source": [
    "for numero in range(1, 6):\n",
    "    print(\"Número:\", numero)"
   ]
  },
  {
   "cell_type": "markdown",
   "id": "865f2e28",
   "metadata": {},
   "source": [
    "🔎 Este código también imprime los números del 1 al 5."
   ]
  },
  {
   "cell_type": "markdown",
   "id": "b6440583",
   "metadata": {},
   "source": [
    "# 3. Diferencias entre while y for ⚖️\n",
    "\n",
    "- Usa while cuando no sabes cuántas veces se repetirá, solo sabes la condición.\n",
    "\n",
    "- Usa for cuando ya conoces el rango o la secuencia que quieres recorrer."
   ]
  },
  {
   "cell_type": "markdown",
   "id": "a2d52268",
   "metadata": {},
   "source": [
    "# 4. Ejemplos prácticos 🛠️\n",
    "Ejemplo 1: Contar hasta 10 con while"
   ]
  },
  {
   "cell_type": "code",
   "execution_count": 5,
   "id": "596d5d30",
   "metadata": {},
   "outputs": [
    {
     "name": "stdout",
     "output_type": "stream",
     "text": [
      "1\n",
      "2\n",
      "3\n",
      "4\n",
      "5\n",
      "6\n",
      "7\n",
      "8\n",
      "9\n",
      "10\n"
     ]
    }
   ],
   "source": [
    "i = 1\n",
    "while i <= 10:\n",
    "    print(i)\n",
    "    i += 1"
   ]
  },
  {
   "cell_type": "markdown",
   "id": "720b150f",
   "metadata": {},
   "source": [
    "# Ejemplo 2: Recorrer una lista de nombres con for"
   ]
  },
  {
   "cell_type": "code",
   "execution_count": 6,
   "id": "c36e1bf2",
   "metadata": {},
   "outputs": [
    {
     "name": "stdout",
     "output_type": "stream",
     "text": [
      "Hola Ana\n",
      "Hola Luis\n",
      "Hola Pedro\n",
      "Hola María\n"
     ]
    }
   ],
   "source": [
    "nombres = [\"Ana\", \"Luis\", \"Pedro\", \"María\"]\n",
    "for nombre in nombres:\n",
    "    print(\"Hola\", nombre)"
   ]
  },
  {
   "cell_type": "markdown",
   "id": "69fe9655",
   "metadata": {},
   "source": [
    "# Ejemplo 3: Tabla de multiplicar"
   ]
  },
  {
   "cell_type": "code",
   "execution_count": 6,
   "id": "a0029215",
   "metadata": {},
   "outputs": [
    {
     "name": "stdout",
     "output_type": "stream",
     "text": [
      "6 x 1 = 6\n",
      "6 x 2 = 12\n",
      "6 x 3 = 18\n",
      "6 x 4 = 24\n",
      "6 x 5 = 30\n",
      "6 x 6 = 36\n",
      "6 x 7 = 42\n",
      "6 x 8 = 48\n",
      "6 x 9 = 54\n",
      "6 x 10 = 60\n"
     ]
    }
   ],
   "source": [
    "numero = int(input(\"Ingrese un número: \"))\n",
    "for i in range(1, 11):\n",
    "    print(f\"{numero} x {i} = {numero * i}\")\n"
   ]
  },
  {
   "cell_type": "markdown",
   "id": "62b2644c",
   "metadata": {},
   "source": [
    "# 5. Ejercicios propuestos ✍️\n",
    "\n",
    "- Usando while, imprime los números del 1 al 20.\n",
    "\n",
    "- Con for, imprime los números pares del 2 al 50.\n",
    "\n",
    "- Pide un número al usuario e imprime su tabla de multiplicar (del 1 al 10).\n",
    "\n",
    "- Haz un programa que pida al usuario una palabra y la repita letra por letra con un for.\n",
    "\n",
    "- Usa un while para pedir al usuario una contraseña hasta que sea correcta (ejemplo: \"python123\")."
   ]
  },
  {
   "cell_type": "code",
   "execution_count": 9,
   "id": "1d57e685",
   "metadata": {},
   "outputs": [
    {
     "name": "stdout",
     "output_type": "stream",
     "text": [
      "1\n",
      "2\n",
      "3\n",
      "4\n",
      "5\n",
      "6\n",
      "7\n",
      "8\n",
      "9\n",
      "10\n",
      "11\n",
      "12\n",
      "13\n",
      "14\n",
      "15\n",
      "16\n",
      "17\n",
      "18\n",
      "19\n",
      "20\n"
     ]
    }
   ],
   "source": [
    "# Respuesta a ejercicios propuesto\n",
    "\n",
    "# 1.Usando while, imprime los números del 1 al 20.\n",
    "\n",
    "# creanto contador n \n",
    "\n",
    "n = 1\n",
    "while n <= 20:\n",
    "    print(n)\n",
    "    n +=1\n",
    "   \n",
    "    \n"
   ]
  },
  {
   "cell_type": "code",
   "execution_count": null,
   "id": "e07d6fb8",
   "metadata": {},
   "outputs": [
    {
     "name": "stdout",
     "output_type": "stream",
     "text": [
      "los numero pares son 2\n",
      "los numero pares son 4\n",
      "los numero pares son 6\n",
      "los numero pares son 8\n",
      "los numero pares son 10\n",
      "los numero pares son 12\n",
      "los numero pares son 14\n",
      "los numero pares son 16\n",
      "los numero pares son 18\n",
      "los numero pares son 20\n",
      "los numero pares son 22\n",
      "los numero pares son 24\n",
      "los numero pares son 26\n",
      "los numero pares son 28\n",
      "los numero pares son 30\n",
      "los numero pares son 32\n",
      "los numero pares son 34\n",
      "los numero pares son 36\n",
      "los numero pares son 38\n",
      "los numero pares son 40\n",
      "los numero pares son 42\n",
      "los numero pares son 44\n",
      "los numero pares son 46\n",
      "los numero pares son 48\n",
      "los numero pares son 50\n"
     ]
    }
   ],
   "source": [
    "# 2.Con for, imprime los números pares del 2 al 50\n",
    "\n",
    "for n in range(2,51):                           # tambien se puede usar range(2,51,2)\n",
    "    if n % 2 == 0:                              #print(f'los numero pares son {n}')\n",
    "        print(f'los numero pares son {n}')      \n",
    "\n",
    "    "
   ]
  },
  {
   "cell_type": "code",
   "execution_count": 14,
   "id": "a5bd9eaf",
   "metadata": {},
   "outputs": [
    {
     "name": "stdout",
     "output_type": "stream",
     "text": [
      "La tabla de multiplciacion del numero 10 es:\n",
      "10 x 1 = 10\n",
      "10 x 2 = 20\n",
      "10 x 3 = 30\n",
      "10 x 4 = 40\n",
      "10 x 5 = 50\n",
      "10 x 6 = 60\n",
      "10 x 7 = 70\n",
      "10 x 8 = 80\n",
      "10 x 9 = 90\n",
      "10 x 10 = 100\n"
     ]
    }
   ],
   "source": [
    "# 3. Pide un número al usuario e imprime su tabla de multiplicar (del 1 al 10)\n",
    "import sys\n",
    "\n",
    "# solicitud de numero y manejo de errores\n",
    "try:\n",
    "    numero = int(input('Ingrese un numero  de l uno al 10 '))\n",
    "except ValueError:\n",
    "    print('❌❌Error: Debe Ingresar un numero entero')\n",
    "    sys.exit()\n",
    "\n",
    "print(f'La tabla de multiplciacion del numero {numero} es:')\n",
    "# condicion numerica \n",
    "if 1 <= numero <= 10:\n",
    "\n",
    "    # Creacion de grupo for para crear la tabla de multiplicacion \n",
    "    for nr in range(1,11):\n",
    "        print(f'{numero} x {nr} = {numero * nr}')\n",
    "\n",
    "else:\n",
    "    print('❌ Error: Debe ingresar unicamente valores del 1 al 10')"
   ]
  },
  {
   "cell_type": "code",
   "execution_count": 16,
   "id": "46d0afa7",
   "metadata": {},
   "outputs": [
    {
     "name": "stdout",
     "output_type": "stream",
     "text": [
      "Deletreando la palabra: Alundra\n",
      "A\n",
      "l\n",
      "u\n",
      "n\n",
      "d\n",
      "r\n",
      "a\n"
     ]
    }
   ],
   "source": [
    "# 4. Haz un programa que pida al usuario una palabra y la repita letra por letra con un for\n",
    "\n",
    "# solicitando al usuario una palabra \n",
    "palabra = str(input('ingrese una palabra'))\n",
    "\n",
    "# creacion de bucle for para repetir letra por letra\n",
    "print(f'Deletreando la palabra: {palabra}')\n",
    "for letra in palabra:\n",
    "    print(letra)\n",
    "\n"
   ]
  },
  {
   "cell_type": "code",
   "execution_count": 18,
   "id": "3336fd7f",
   "metadata": {},
   "outputs": [
    {
     "name": "stdout",
     "output_type": "stream",
     "text": [
      "❌ contraseña incorreta\n",
      "❌ contraseña incorreta\n",
      "❌ contraseña incorreta\n",
      "🔒Cuenta bloqueada exceso de intento🔒\n",
      " Consulte con el agente encargado para desbloquear su cuenta\n"
     ]
    }
   ],
   "source": [
    "# 5.Usa un while para pedir al usuario una contraseña hasta que sea correcta (ejemplo: \"python123\").\n",
    "\n",
    "# creacion de contraseña correcta \n",
    "contraseña = 'Marelibeth1996'\n",
    "\n",
    "# Numero Maximo de intento \n",
    "max_intento = 3\n",
    "intentos = 0\n",
    "\n",
    "while True:\n",
    "    if contraseña == input('Ingrese contrasena'):\n",
    "\n",
    "        print('Bienvenido Acesso Permitido 😀')\n",
    "        break\n",
    "    else:\n",
    "        print('❌ contraseña incorreta')\n",
    "        intentos +=1\n",
    "        intento_restante = max_intento - intentos\n",
    "        \n",
    "        if intento_restante == 0:\n",
    "            print('🔒Cuenta bloqueada exceso de intento🔒\\n Consulte con el agente encargado para desbloquear su cuenta')\n",
    "            break\n"
   ]
  },
  {
   "cell_type": "markdown",
   "id": "8ed8b2cf",
   "metadata": {},
   "source": [
    "\n",
    "- Usa un while para pedir al usuario una contraseña hasta que sea correcta (ejemplo: \"python123\")."
   ]
  },
  {
   "cell_type": "markdown",
   "id": "f3c5bd92",
   "metadata": {},
   "source": [
    "\n",
    "# 🎯 Desafío propuesto\n",
    "👉 Crear un programa que muestre los números del 1 al 100 pero que:\n",
    "\n",
    "Se detenga si encuentra un múltiplo de 13 (break).\n",
    "\n",
    "Se salte los múltiplos de 7 (continue).\n",
    "\n"
   ]
  },
  {
   "cell_type": "code",
   "execution_count": 1,
   "id": "9e943699",
   "metadata": {},
   "outputs": [
    {
     "name": "stdout",
     "output_type": "stream",
     "text": [
      "1\n",
      "2\n",
      "3\n",
      "4\n",
      "5\n",
      "6\n",
      "8\n",
      "9\n",
      "10\n",
      "11\n",
      "12\n"
     ]
    }
   ],
   "source": [
    "# 👉 Crear un programa que muestre los números del 1 al 100 pero que:\n",
    "\n",
    "# Se detenga si encuentra un múltiplo de 13 (break).\n",
    "# Se salte los múltiplos de 7 (continue).\n",
    "\n",
    "# creacion de un bucle for\n",
    "\n",
    "for numeros in range( 1, 100): # creacion de variable numero \n",
    "    if numeros % 13 == 0:\n",
    "        break\n",
    "    elif numeros % 7 == 0:\n",
    "        continue\n",
    "    print(numeros)"
   ]
  },
  {
   "cell_type": "markdown",
   "id": "6d773ec9",
   "metadata": {},
   "source": [
    "## ✅ Resumen de la clase\n",
    "\n",
    "- El bucle for es ideal cuando sabemos las repeticiones exactas.\n",
    "\n",
    "- El bucle while es útil cuando la condición depende del usuario o de un cálculo.\n",
    "\n",
    "- break y continue nos dan control adicional sobre la ejecución.\n",
    "\n",
    "- Los bucles infinitos son poderosos, pero debemos controlar su salida para evitar que el programa se quede colgado."
   ]
  }
 ],
 "metadata": {
  "kernelspec": {
   "display_name": "Python 3",
   "language": "python",
   "name": "python3"
  },
  "language_info": {
   "codemirror_mode": {
    "name": "ipython",
    "version": 3
   },
   "file_extension": ".py",
   "mimetype": "text/x-python",
   "name": "python",
   "nbconvert_exporter": "python",
   "pygments_lexer": "ipython3",
   "version": "3.13.7"
  }
 },
 "nbformat": 4,
 "nbformat_minor": 5
}
