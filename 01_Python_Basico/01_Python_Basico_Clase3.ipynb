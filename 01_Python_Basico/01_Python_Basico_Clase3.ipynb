{
 "cells": [
  {
   "cell_type": "markdown",
   "id": "90178e24",
   "metadata": {},
   "source": [
    "# Clase 3 - Operadores aritméticos y lógicos ➕🔍\n",
    "\n",
    "En esta clase aprenderemos a trabajar con operaciones matemáticas y comparaciones en Python.\n",
    "\n",
    "---\n",
    "\n",
    "## 1. Operadores Aritméticos\n",
    "- `+` suma  \n",
    "- `-` resta  \n",
    "- `*` multiplicación  \n",
    "- `/` división  \n",
    "- `//` división entera  \n",
    "- `%` módulo (residuo)  \n",
    "- `**` exponente  \n",
    "\n",
    "👉 Ejemplo:\n",
    "```python\n",
    "a = 10\n",
    "b = 3\n",
    "print(a + b)   # 13\n",
    "print(a / b)   # 3.333...\n",
    "print(a // b)  # 3\n",
    "print(a % b)   # 1\n",
    "print(a ** b)  # 1000\n"
   ]
  },
  {
   "cell_type": "code",
   "execution_count": 1,
   "id": "f7b3e035",
   "metadata": {},
   "outputs": [
    {
     "name": "stdout",
     "output_type": "stream",
     "text": [
      "False\n",
      "True\n",
      "True\n"
     ]
    }
   ],
   "source": [
    "x = 5\n",
    "y = 8\n",
    "print(x == y)   # False\n",
    "print(x < y)    # True\n",
    "print(x != y)   # True\n"
   ]
  },
  {
   "cell_type": "code",
   "execution_count": 2,
   "id": "8d0ce600",
   "metadata": {},
   "outputs": [
    {
     "name": "stdout",
     "output_type": "stream",
     "text": [
      "True\n",
      "False\n",
      "True\n"
     ]
    }
   ],
   "source": [
    "edad = 20\n",
    "print(edad > 18 and edad < 30)  # True\n",
    "print(edad < 18 or edad > 60)   # False\n",
    "print(not(edad < 18))           # True\n"
   ]
  },
  {
   "cell_type": "code",
   "execution_count": 13,
   "id": "51f17cb1",
   "metadata": {},
   "outputs": [
    {
     "name": "stdout",
     "output_type": "stream",
     "text": [
      "La Suma de n1 y n2 es: 16 \n",
      "La resta de n1 y n2 es: 24\n",
      "La multiplicacion de n1 y n2 es: -80\n",
      "La division de n1 con respecyo a n2 es: -5.0\n",
      "La division entera de n1 con respecto a n2 es: -5\n",
      "El Residuo de la division de n1 y n2 es: 0\n",
      "El exponente de n1 elevado a la n2 es: 6.25e-06\n",
      "----------------------------------------------------------------------\n",
      "El numero n1 es un numero par ?: True\n",
      "El numero n2 es un numero par ?: True\n",
      "----------------------------------------------------------------------\n",
      "Alejandro eres mayor de edad: True\n"
     ]
    }
   ],
   "source": [
    "# 📝 Ejercicios\n",
    "# 1.Declara dos números y realiza todas las operaciones aritméticas.\n",
    "n1 = 20\n",
    "n2 = -4\n",
    "\n",
    "# suma\n",
    "suma = n1 + n2\n",
    "print(f'La Suma de n1 y n2 es: {suma} ')\n",
    "\n",
    "# resta\n",
    "resta = n1 - n2\n",
    "print(f'La resta de n1 y n2 es: {resta}')\n",
    "\n",
    "# multiplicacion \n",
    "multiplicacion = n1 * n2\n",
    "print(f'La multiplicacion de n1 y n2 es: {multiplicacion}')\n",
    "\n",
    "# division \n",
    "division = n1 / n2 \n",
    "print(f'La division de n1 con respecto a n2 es: {division}')\n",
    "\n",
    "# division entera \n",
    "division_entera = n1 // n2\n",
    "print(f'La division entera de n1 con respecto a n2 es: {division_entera}')\n",
    "\n",
    "# modulo o residuo con %\n",
    "residuo = n1 % n2\n",
    "print(f'El Residuo de la division de n1 y n2 es: {residuo}')\n",
    "\n",
    "# exponente \n",
    "exponente = n1 ** n2\n",
    "print(f'El exponente de n1 elevado a la n2 es: {exponente}')\n",
    "\n",
    "# 2.Verifica si un número es par usando el operador %\n",
    "print( \"--\" * 35)\n",
    "print('El numero n1 es un numero par ?:' , n1%2 == 0 )\n",
    "print('El numero n2 es un numero par ?:', n2%2 == 0 )\n",
    "\n",
    "# 3.Comprueba si tu edad está entre 18 y 40 usando and\n",
    "print( \"--\" * 35)\n",
    "edad = 39 #anos\n",
    "print(f'Alejandro eres mayor de edad: {edad > 18 and edad < 40}')\n"
   ]
  },
  {
   "cell_type": "markdown",
   "id": "f9c6096f",
   "metadata": {},
   "source": [
    "# 📌 Resumen – Clase 3: Operadores aritméticos y lógicos\n",
    "\n",
    "- **Operadores aritméticos**:  \n",
    "  - `+` suma  \n",
    "  - `-` resta  \n",
    "  - `*` multiplicación  \n",
    "  - `/` división  \n",
    "  - `//` división entera  \n",
    "  - `%` residuo o módulo  \n",
    "  - `**` exponente  \n",
    "\n",
    "- **Operadores lógicos**:  \n",
    "  - `and`: ambas condiciones deben ser verdaderas.  \n",
    "  - `or`: al menos una condición debe ser verdadera.  \n",
    "  - `not`: invierte el valor lógico.  \n",
    "\n",
    "✅ Ahora sé usar Python para realizar cálculos matemáticos y evaluar condiciones lógicas en mis programas.\n"
   ]
  }
 ],
 "metadata": {
  "kernelspec": {
   "display_name": "Python 3",
   "language": "python",
   "name": "python3"
  },
  "language_info": {
   "codemirror_mode": {
    "name": "ipython",
    "version": 3
   },
   "file_extension": ".py",
   "mimetype": "text/x-python",
   "name": "python",
   "nbconvert_exporter": "python",
   "pygments_lexer": "ipython3",
   "version": "3.13.7"
  }
 },
 "nbformat": 4,
 "nbformat_minor": 5
}
