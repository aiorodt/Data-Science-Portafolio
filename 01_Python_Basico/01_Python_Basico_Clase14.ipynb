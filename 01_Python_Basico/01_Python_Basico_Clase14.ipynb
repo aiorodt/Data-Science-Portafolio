{
 "cells": [
  {
   "cell_type": "markdown",
   "id": "d80fff26",
   "metadata": {},
   "source": [
    "## Clase 14: Conjuntos (Sets) en Python\n",
    "### 🎯 Introducción\n",
    "\n",
    "En Python, los conjuntos (set) son colecciones desordenadas de elementos únicos, es decir, no permiten duplicados.\n",
    "Son muy útiles cuando queremos trabajar con operaciones matemáticas de teoría de conjuntos como unión, intersección o diferencia"
   ]
  },
  {
   "cell_type": "markdown",
   "id": "79403ddd",
   "metadata": {},
   "source": [
    "### 1. Creación de conjuntos\n",
    "\n",
    "Podemos crear un conjunto con llaves {} o con la función set()."
   ]
  },
  {
   "cell_type": "code",
   "execution_count": null,
   "id": "387af007",
   "metadata": {},
   "outputs": [
    {
     "name": "stdout",
     "output_type": "stream",
     "text": [
      "{'verde', 'rojo', 'azul'}\n",
      "{1, 2, 3}\n"
     ]
    }
   ],
   "source": [
    "# Con llaves\n",
    "colores = {\"rojo\", \"azul\", \"verde\"}\n",
    "print(colores)\n",
    "\n",
    "# Con set()\n",
    "numeros = set([1, 2, 3, 3, 2])\n",
    "print(numeros)  # {1, 2, 3} → elimina duplicados"
   ]
  },
  {
   "cell_type": "markdown",
   "id": "e607c7b1",
   "metadata": {},
   "source": [
    "### 2. Propiedades de los conjuntos\n",
    "\n",
    "- No tienen orden.\n",
    "\n",
    "- No permiten elementos duplicados.\n",
    "\n",
    "- Son mutables (se pueden modificar)."
   ]
  },
  {
   "cell_type": "code",
   "execution_count": null,
   "id": "6fe289be",
   "metadata": {},
   "outputs": [
    {
     "name": "stdout",
     "output_type": "stream",
     "text": [
      "{1, 2, 3}\n"
     ]
    }
   ],
   "source": [
    "conjunto = {1, 2, 3, 3, 2}\n",
    "print(conjunto)  # {1, 2, 3}"
   ]
  },
  {
   "cell_type": "markdown",
   "id": "9b5cc32f",
   "metadata": {},
   "source": [
    "### 3. Operaciones básicas\n",
    "### 3.1 Añadir y eliminar elementos"
   ]
  },
  {
   "cell_type": "code",
   "execution_count": 40,
   "id": "42424262",
   "metadata": {},
   "outputs": [
    {
     "name": "stdout",
     "output_type": "stream",
     "text": [
      "{'manzana', 'pera', 'uva'}\n",
      "{'manzana', 'uva'}\n",
      "manzana\n"
     ]
    }
   ],
   "source": [
    "frutas = {\"manzana\", \"pera\"}\n",
    "\n",
    "# Añadir\n",
    "frutas.add(\"uva\")\n",
    "print(frutas)\n",
    "\n",
    "# Eliminar\n",
    "frutas.remove(\"pera\")   # error si no existe\n",
    "frutas.discard(\"mango\") # no da error si no existe\n",
    "print(frutas)\n",
    "\n",
    "# Eliminar y devolver un elemento aleatorio\n",
    "print(frutas.pop())\n"
   ]
  },
  {
   "cell_type": "markdown",
   "id": "eeec76ce",
   "metadata": {},
   "source": [
    "### 3.2 Unión de conjuntos (| o .union())"
   ]
  },
  {
   "cell_type": "code",
   "execution_count": null,
   "id": "463df37b",
   "metadata": {},
   "outputs": [
    {
     "name": "stdout",
     "output_type": "stream",
     "text": [
      "{1, 2, 3, 4, 5}\n",
      "{1, 2, 3, 4, 5}\n"
     ]
    }
   ],
   "source": [
    "a = {1, 2, 3}\n",
    "b = {3, 4, 5}\n",
    "\n",
    "print(a | b)               # {1, 2, 3, 4, 5}\n",
    "print(a.union(b))          # igual"
   ]
  },
  {
   "cell_type": "markdown",
   "id": "fb4f3904",
   "metadata": {},
   "source": [
    "### 3.3 Intersección (& o .intersection())"
   ]
  },
  {
   "cell_type": "code",
   "execution_count": null,
   "id": "6c896ba0",
   "metadata": {},
   "outputs": [
    {
     "name": "stdout",
     "output_type": "stream",
     "text": [
      "{3}\n",
      "{3}\n"
     ]
    }
   ],
   "source": [
    "print(a & b)               # {3}\n",
    "print(a.intersection(b))   # igual"
   ]
  },
  {
   "cell_type": "markdown",
   "id": "14808404",
   "metadata": {},
   "source": [
    "### 3.4 Diferencia (- o .difference())"
   ]
  },
  {
   "cell_type": "code",
   "execution_count": 5,
   "id": "232efec2",
   "metadata": {},
   "outputs": [
    {
     "name": "stdout",
     "output_type": "stream",
     "text": [
      "{1, 2}\n",
      "{1, 2}\n"
     ]
    }
   ],
   "source": [
    "print(a - b)               # {1, 2}\n",
    "print(a.difference(b))     # igual"
   ]
  },
  {
   "cell_type": "markdown",
   "id": "60dff401",
   "metadata": {},
   "source": [
    "### 3.5 Diferencia simétrica (^ o .symmetric_difference())\n",
    "\n",
    "Elementos que están en un conjunto o en otro, pero no en ambos."
   ]
  },
  {
   "cell_type": "code",
   "execution_count": 6,
   "id": "dd278cbc",
   "metadata": {},
   "outputs": [
    {
     "name": "stdout",
     "output_type": "stream",
     "text": [
      "{1, 2, 4, 5}\n",
      "{1, 2, 4, 5}\n"
     ]
    }
   ],
   "source": [
    "print(a ^ b)                        # {1, 2, 4, 5}\n",
    "print(a.symmetric_difference(b))    # igual\n"
   ]
  },
  {
   "cell_type": "markdown",
   "id": "7740d33c",
   "metadata": {},
   "source": [
    "### 4. Métodos útiles de conjuntos"
   ]
  },
  {
   "cell_type": "code",
   "execution_count": null,
   "id": "da3a4b8c",
   "metadata": {},
   "outputs": [
    {
     "name": "stdout",
     "output_type": "stream",
     "text": [
      "5\n",
      "True\n",
      "True\n",
      "set()\n"
     ]
    }
   ],
   "source": [
    "numeros = {1, 2, 3, 4, 5}\n",
    "\n",
    "print(len(numeros))        # tamaño del conjunto\n",
    "print(3 in numeros)        # True → verificación de pertenencia\n",
    "print(10 not in numeros)   # True\n",
    "\n",
    "numeros.clear()            # vaciar conjunto\n",
    "print(numeros)             # set()"
   ]
  },
  {
   "cell_type": "markdown",
   "id": "b3b61e8c",
   "metadata": {},
   "source": [
    "### 5. Conjuntos inmutables: frozenset\n",
    "\n",
    "Si queremos un conjunto que no se pueda modificar, usamos frozenset."
   ]
  },
  {
   "cell_type": "code",
   "execution_count": 8,
   "id": "1aee7920",
   "metadata": {},
   "outputs": [
    {
     "name": "stdout",
     "output_type": "stream",
     "text": [
      "frozenset({1, 2, 3})\n"
     ]
    }
   ],
   "source": [
    "fs = frozenset([1, 2, 3])\n",
    "# fs.add(4) → Error: no se puede modificar\n",
    "print(fs)"
   ]
  },
  {
   "cell_type": "markdown",
   "id": "a63f58f4",
   "metadata": {},
   "source": [
    "### 6. Uso práctico en la vida real\n",
    "Eliminar duplicados de una lista"
   ]
  },
  {
   "cell_type": "code",
   "execution_count": 9,
   "id": "f7404a37",
   "metadata": {},
   "outputs": [
    {
     "name": "stdout",
     "output_type": "stream",
     "text": [
      "['Pedro', 'Luis', 'Ana']\n"
     ]
    }
   ],
   "source": [
    "nombres = [\"Ana\", \"Luis\", \"Ana\", \"Pedro\", \"Luis\"]\n",
    "sin_duplicados = list(set(nombres))\n",
    "print(sin_duplicados)  "
   ]
  },
  {
   "cell_type": "markdown",
   "id": "47322260",
   "metadata": {},
   "source": [
    "Filtrar palabras únicas en un texto"
   ]
  },
  {
   "cell_type": "code",
   "execution_count": 10,
   "id": "c3674f0a",
   "metadata": {},
   "outputs": [
    {
     "name": "stdout",
     "output_type": "stream",
     "text": [
      "{'python', 'es', 'y', 'poderoso', 'divertido'}\n"
     ]
    }
   ],
   "source": [
    "texto = \"python es divertido y python es poderoso\"\n",
    "palabras_unicas = set(texto.split())\n",
    "print(palabras_unicas)"
   ]
  },
  {
   "cell_type": "markdown",
   "id": "5dc7d9ab",
   "metadata": {},
   "source": [
    "### 📝 Ejercicios\n",
    "\n",
    "1. Crea un conjunto con los números del 1 al 5 y agrega el número 6.\n",
    "\n",
    "2. Une dos conjuntos: {1,2,3} y {3,4,5}.\n",
    "\n",
    "3. Calcula la intersección entre {10,20,30} y {20,40,60}.\n",
    "\n",
    "4. Obtén la diferencia entre {100,200,300} y {200,400}.\n",
    "\n",
    "5. Crea un conjunto con las vocales de una palabra ingresada por el usuario.\n",
    "\n",
    "6. Convierte la lista [1,2,2,3,4,4,5] en un conjunto para eliminar duplicados.\n",
    "\n",
    "7. Comprueba si {1,2} es subconjunto de {1,2,3,4} usando .issubset().\n",
    "\n",
    "8. Comprueba si {1,2,3,4} es superconjunto de {2,3} con .issuperset().\n",
    "\n",
    "9. Usa frozenset para crear un conjunto inmutable y demuestra que no se puede modificar.\n",
    "\n",
    "10. Desafío: dado un texto largo, muestra cuántas palabras únicas tiene y cuáles son."
   ]
  },
  {
   "cell_type": "code",
   "execution_count": null,
   "id": "8d149c96",
   "metadata": {},
   "outputs": [
    {
     "name": "stdout",
     "output_type": "stream",
     "text": [
      "{1, 2, 3, 4, 5, 6}\n"
     ]
    }
   ],
   "source": [
    "# 1. Crea un conjunto con los números del 1 al 5 y agrega el número 6.\n",
    "\n",
    "numero ={1,2,3,4,5}\n",
    "numero.add(6)\n",
    "print(numero)"
   ]
  },
  {
   "cell_type": "code",
   "execution_count": 14,
   "id": "40115a01",
   "metadata": {},
   "outputs": [
    {
     "name": "stdout",
     "output_type": "stream",
     "text": [
      "La union del conjuna a y b es :{1, 2, 3, 4, 5}\n"
     ]
    }
   ],
   "source": [
    "# 2. Une dos conjuntos: {1,2,3} y {3,4,5}.\n",
    "\n",
    "a = {1,2,3}\n",
    "b = {3,4,5}\n",
    "\n",
    "union = a | b\n",
    "print(f'La union del conjuna a y b es :{union}')"
   ]
  },
  {
   "cell_type": "code",
   "execution_count": 16,
   "id": "2bb1412c",
   "metadata": {},
   "outputs": [
    {
     "name": "stdout",
     "output_type": "stream",
     "text": [
      "La interseccion entre los dos conjuntos a y b es: {20}\n"
     ]
    }
   ],
   "source": [
    "# 3. Calcula la intersección entre {10,20,30} y {20,40,60}.\n",
    "\n",
    "a = {10,20,30}\n",
    "b = {20,40,60}\n",
    "\n",
    "interseccion = a & b\n",
    "print(f'La interseccion entre los dos conjuntos a y b es: {interseccion}')"
   ]
  },
  {
   "cell_type": "code",
   "execution_count": null,
   "id": "0ac4fa9a",
   "metadata": {},
   "outputs": [
    {
     "name": "stdout",
     "output_type": "stream",
     "text": [
      "La diferencia de entre los conjuntos a y b es: {400}\n"
     ]
    }
   ],
   "source": [
    "# 4. Obtén la diferencia entre {100,200,300} y {200,400}.\n",
    "a = {100,200,300}\n",
    "b = {200,400}\n",
    "\n",
    "diferencia = a - b\n",
    "print(f'La diferencia de entre los conjuntos a y b es: {diferencia}')"
   ]
  },
  {
   "cell_type": "code",
   "execution_count": 28,
   "id": "33485cd3",
   "metadata": {},
   "outputs": [
    {
     "name": "stdout",
     "output_type": "stream",
     "text": [
      "{'a', 'o'}\n"
     ]
    }
   ],
   "source": [
    "# 5. Crea un conjunto con las vocales de una palabra ingresada por el usuario.\n",
    "\n",
    "# Conjunto de referencia\n",
    "vocales = {'a', 'e', 'i', 'o', 'u'}\n",
    "vocales_encontradas = set() # Conjunto vacío de resultados\n",
    "palabra_de_prueba = input('Ingrese palabra por favor')\n",
    "\n",
    "for letra in palabra_de_prueba:\n",
    "    \n",
    "    if letra in vocales:\n",
    "        \n",
    "        vocales_encontradas.add(letra)\n",
    "\n",
    "print(vocales_encontradas)"
   ]
  },
  {
   "cell_type": "code",
   "execution_count": 31,
   "id": "1bc40fce",
   "metadata": {},
   "outputs": [
    {
     "name": "stdout",
     "output_type": "stream",
     "text": [
      "{1, 2, 3, 4, 5}\n"
     ]
    }
   ],
   "source": [
    "# 6. Convierte la lista [1,2,2,3,4,4,5] en un conjunto para eliminar duplicados.\n",
    "lista = [1,2,2,3,4,4,5]\n",
    "conjunto = set(lista)\n",
    "print(conjunto)"
   ]
  },
  {
   "cell_type": "code",
   "execution_count": null,
   "id": "078c4cd9",
   "metadata": {},
   "outputs": [
    {
     "name": "stdout",
     "output_type": "stream",
     "text": [
      "EL conjunto a es subconjunto de b True\n"
     ]
    }
   ],
   "source": [
    "# 7. Comprueba si {1,2} es subconjunto de {1,2,3,4} usando .issubset().\n",
    "a = {1,2}\n",
    "b = {1,2,3,4}\n",
    "\n",
    "subconjunto = a.issubset(b)\n",
    "print(f'EL conjunto a es subconjunto de b: {subconjunto}')"
   ]
  },
  {
   "cell_type": "code",
   "execution_count": 34,
   "id": "9308ee22",
   "metadata": {},
   "outputs": [
    {
     "name": "stdout",
     "output_type": "stream",
     "text": [
      "El conjunto a es super conjunto de b: True\n"
     ]
    }
   ],
   "source": [
    "# 8. Comprueba si {1,2,3,4} es superconjunto de {2,3} con .issuperset().\n",
    "a = {1,2,3,4}\n",
    "b = {2,3}\n",
    "superconjunto = a.issuperset(b)\n",
    "print(f'El conjunto a es super conjunto de b: {superconjunto}')"
   ]
  },
  {
   "cell_type": "code",
   "execution_count": null,
   "id": "20ed8b79",
   "metadata": {},
   "outputs": [
    {
     "name": "stdout",
     "output_type": "stream",
     "text": [
      "frozenset({'patilla', 'melon', 'pera', 'cambur'})\n"
     ]
    },
    {
     "ename": "AttributeError",
     "evalue": "'frozenset' object has no attribute 'add'",
     "output_type": "error",
     "traceback": [
      "\u001b[31m---------------------------------------------------------------------------\u001b[39m",
      "\u001b[31mAttributeError\u001b[39m                            Traceback (most recent call last)",
      "\u001b[36mCell\u001b[39m\u001b[36m \u001b[39m\u001b[32mIn[38]\u001b[39m\u001b[32m, line 5\u001b[39m\n\u001b[32m      3\u001b[39m frutas = \u001b[38;5;28mfrozenset\u001b[39m([\u001b[33m'\u001b[39m\u001b[33mpera\u001b[39m\u001b[33m'\u001b[39m,\u001b[33m'\u001b[39m\u001b[33mcambur\u001b[39m\u001b[33m'\u001b[39m,\u001b[33m'\u001b[39m\u001b[33mpatilla\u001b[39m\u001b[33m'\u001b[39m,\u001b[33m'\u001b[39m\u001b[33mmelon\u001b[39m\u001b[33m'\u001b[39m])\n\u001b[32m      4\u001b[39m \u001b[38;5;28mprint\u001b[39m(frutas)\n\u001b[32m----> \u001b[39m\u001b[32m5\u001b[39m \u001b[43mfrutas\u001b[49m\u001b[43m.\u001b[49m\u001b[43madd\u001b[49m(\u001b[33m'\u001b[39m\u001b[33mmora\u001b[39m\u001b[33m'\u001b[39m)\n",
      "\u001b[31mAttributeError\u001b[39m: 'frozenset' object has no attribute 'add'"
     ]
    }
   ],
   "source": [
    "# 9. Usa frozenset para crear un conjunto inmutable y demuestra que no se puede modificar.\n",
    "\n",
    "frutas = frozenset(['pera','cambur','patilla','melon'])\n",
    "print(frutas)\n",
    "frutas.add('mora') # Produce Error porque es inmutable"
   ]
  },
  {
   "cell_type": "code",
   "execution_count": 39,
   "id": "99469070",
   "metadata": {},
   "outputs": [
    {
     "name": "stdout",
     "output_type": "stream",
     "text": [
      "{'gusta', 'Marelibeth', 'es', 'profesora', 'especial,', 'y', 'explicar', 'jugar', 'jovenes', 'los', 'muy', 'un', 'con', 'le'}\n"
     ]
    }
   ],
   "source": [
    "# 10. Desafío: dado un texto largo, muestra cuántas palabras únicas tiene y cuáles son.\n",
    "texto = 'Marelibeth es un profesora muy especial, le gusta explicar y jugar con los jovenes'\n",
    "palabras_unicas = set(texto.split())\n",
    "print(palabras_unicas)"
   ]
  },
  {
   "cell_type": "markdown",
   "id": "b140ad23",
   "metadata": {},
   "source": [
    "### 📌 Conclusión\n",
    "\n",
    "En esta clase aprendimos:\n",
    "\n",
    "- Qué son los conjuntos y sus propiedades.\n",
    "\n",
    "- Cómo agregar, eliminar y verificar elementos.\n",
    "\n",
    "- Operaciones matemáticas de conjuntos: unión, intersección, diferencia, diferencia simétrica.\n",
    "\n",
    "- Métodos útiles (clear, len, in, issubset, issuperset).\n",
    "\n",
    "- Uso de frozenset y ejemplos de la vida real como eliminar duplicados.\n",
    "\n",
    "Con esto, ya dominas los sets en Python y sus aplicaciones prácticas. 🚀"
   ]
  }
 ],
 "metadata": {
  "kernelspec": {
   "display_name": "Python 3",
   "language": "python",
   "name": "python3"
  },
  "language_info": {
   "codemirror_mode": {
    "name": "ipython",
    "version": 3
   },
   "file_extension": ".py",
   "mimetype": "text/x-python",
   "name": "python",
   "nbconvert_exporter": "python",
   "pygments_lexer": "ipython3",
   "version": "3.13.7"
  }
 },
 "nbformat": 4,
 "nbformat_minor": 5
}
