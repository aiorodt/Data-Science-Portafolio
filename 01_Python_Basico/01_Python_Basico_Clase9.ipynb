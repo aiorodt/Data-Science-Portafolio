{
 "cells": [
  {
   "cell_type": "markdown",
   "id": "2e92d274",
   "metadata": {},
   "source": [
    "# 📘 Clase 9: Listas Avanzadas en Python\n",
    "\n",
    "## 🎯 Objetivo de la clase\n",
    "En esta clase aprenderás operaciones más avanzadas con listas en Python. Veremos cómo usar funciones integradas (`map`, `filter`, `zip`, etc.), cómo trabajar con listas anidadas y cómo aprovechar técnicas más “Pythonicas” como comprensiones de listas avanzadas.  \n",
    "\n",
    "Al final de la clase serás capaz de escribir código más limpio, compacto y eficiente para manipular colecciones de datos.\n",
    "\n",
    "---\n",
    "\n",
    "## 🔑 1. copy() y clear()\n",
    "- **`.copy()`** → crea una copia superficial de la lista, sin modificar la original.  \n",
    "- **`.clear()`** → elimina todos los elementos de la lista, dejándola vacía.\n",
    "\n",
    "```python\n",
    "frutas = [\"manzana\", \"pera\", \"uva\"]\n",
    "frutas_copia = frutas.copy()  # Copia\n",
    "print(frutas_copia)  \n",
    "\n",
    "frutas.clear()  # Vacía la lista original\n",
    "print(frutas)  \n"
   ]
  },
  {
   "cell_type": "markdown",
   "id": "2d26c4c8",
   "metadata": {},
   "source": [
    "### 🔑 2. Listas anidadas (matrices con listas)\n",
    "\n",
    "Son listas que contienen otras listas en su interior. Se usan para representar tablas, matrices o estructuras más complejas."
   ]
  },
  {
   "cell_type": "code",
   "execution_count": 1,
   "id": "cab2f690",
   "metadata": {},
   "outputs": [
    {
     "name": "stdout",
     "output_type": "stream",
     "text": [
      "2\n",
      "7\n"
     ]
    }
   ],
   "source": [
    "matriz = [\n",
    "    [1, 2, 3],\n",
    "    [4, 5, 6],\n",
    "    [7, 8, 9]\n",
    "]\n",
    "\n",
    "print(matriz[0][1])  # Elemento fila 1, columna 2 → 2\n",
    "print(matriz[2][0])  # Elemento fila 3, columna 1 → 7\n"
   ]
  },
  {
   "cell_type": "markdown",
   "id": "d638625e",
   "metadata": {},
   "source": [
    "### 🔑 3. List comprehensions avanzadas\n",
    "\n",
    "Son una forma concisa y elegante de crear listas.\n",
    "También permiten usar condiciones y hasta anidar bucles."
   ]
  },
  {
   "cell_type": "code",
   "execution_count": 2,
   "id": "561e1f59",
   "metadata": {},
   "outputs": [
    {
     "name": "stdout",
     "output_type": "stream",
     "text": [
      "[1, 4, 9, 16, 25, 36, 49, 64, 81, 100]\n",
      "[0, 2, 4, 6, 8, 10, 12, 14, 16, 18]\n",
      "[[1, 2, 3], [2, 4, 6], [3, 6, 9]]\n"
     ]
    }
   ],
   "source": [
    "# Crear lista con cuadrados de 1 a 10\n",
    "cuadrados = [x**2 for x in range(1, 11)]\n",
    "print(cuadrados)\n",
    "\n",
    "# Solo pares\n",
    "pares = [x for x in range(20) if x % 2 == 0]\n",
    "print(pares)\n",
    "\n",
    "# Listas anidadas con comprehension (matriz 3x3)\n",
    "matriz = [[i*j for j in range(1, 4)] for i in range(1, 4)]\n",
    "print(matriz)\n"
   ]
  },
  {
   "cell_type": "markdown",
   "id": "3e197a5f",
   "metadata": {},
   "source": [
    "### 🔑 4. map()\n",
    "\n",
    "Aplica una función a cada elemento de una lista, devolviendo un iterador."
   ]
  },
  {
   "cell_type": "code",
   "execution_count": 3,
   "id": "249a51f5",
   "metadata": {},
   "outputs": [
    {
     "name": "stdout",
     "output_type": "stream",
     "text": [
      "[2, 4, 6, 8, 10]\n"
     ]
    }
   ],
   "source": [
    "numeros = [1, 2, 3, 4, 5]\n",
    "dobles = list(map(lambda x: x*2, numeros))\n",
    "print(dobles)\n"
   ]
  },
  {
   "cell_type": "markdown",
   "id": "dbe7da84",
   "metadata": {},
   "source": [
    "### 🔑 5. filter()\n",
    "\n",
    "Filtra elementos de una lista que cumplen una condición."
   ]
  },
  {
   "cell_type": "code",
   "execution_count": 4,
   "id": "1687dc2b",
   "metadata": {},
   "outputs": [
    {
     "name": "stdout",
     "output_type": "stream",
     "text": [
      "[10, 20, 30]\n"
     ]
    }
   ],
   "source": [
    "numeros = [10, 15, 20, 25, 30]\n",
    "pares = list(filter(lambda x: x % 2 == 0, numeros))\n",
    "print(pares)  \n"
   ]
  },
  {
   "cell_type": "markdown",
   "id": "1264cac5",
   "metadata": {},
   "source": [
    "### 🔑 6. zip()\n",
    "\n",
    "Une dos (o más) listas en pares (tuplas)."
   ]
  },
  {
   "cell_type": "code",
   "execution_count": 5,
   "id": "702a7f84",
   "metadata": {},
   "outputs": [
    {
     "name": "stdout",
     "output_type": "stream",
     "text": [
      "[('Ana', 20), ('Luis', 25), ('Pedro', 30)]\n"
     ]
    }
   ],
   "source": [
    "nombres = [\"Ana\", \"Luis\", \"Pedro\"]\n",
    "edades = [20, 25, 30]\n",
    "\n",
    "combinados = list(zip(nombres, edades))\n",
    "print(combinados)  # [('Ana', 20), ('Luis', 25), ('Pedro', 30)]\n"
   ]
  },
  {
   "cell_type": "markdown",
   "id": "ce1ccd1c",
   "metadata": {},
   "source": [
    "### 🔑 7. enumerate()\n",
    "\n",
    "Devuelve elementos junto con su índice, útil para iterar con posición."
   ]
  },
  {
   "cell_type": "code",
   "execution_count": 6,
   "id": "888b5c9c",
   "metadata": {},
   "outputs": [
    {
     "name": "stdout",
     "output_type": "stream",
     "text": [
      "Índice 0: rojo\n",
      "Índice 1: azul\n",
      "Índice 2: verde\n"
     ]
    }
   ],
   "source": [
    "colores = [\"rojo\", \"azul\", \"verde\"]\n",
    "for indice, color in enumerate(colores):\n",
    "    print(f\"Índice {indice}: {color}\")\n"
   ]
  },
  {
   "cell_type": "markdown",
   "id": "0da37cad",
   "metadata": {},
   "source": [
    "#### 🔑 8. any() y all()\n",
    "\n",
    "- any() → devuelve True si al menos un elemento es verdadero.\n",
    "\n",
    "- all() → devuelve True si todos los elementos son verdaderos."
   ]
  },
  {
   "cell_type": "code",
   "execution_count": 7,
   "id": "badcebb9",
   "metadata": {},
   "outputs": [
    {
     "name": "stdout",
     "output_type": "stream",
     "text": [
      "True\n",
      "False\n"
     ]
    }
   ],
   "source": [
    "valores = [0, 1, 2, 3]\n",
    "print(any(valores))  # True (porque hay valores distintos de 0)\n",
    "print(all(valores))  # False (porque 0 es False)\n"
   ]
  },
  {
   "cell_type": "markdown",
   "id": "cd2904b4",
   "metadata": {},
   "source": [
    "### 🔑 9. sorted() con key personalizado\n",
    "\n",
    "- La función sorted() ordena listas sin alterar la original.\n",
    "- Con el parámetro key podemos definir criterios de ordenación."
   ]
  },
  {
   "cell_type": "code",
   "execution_count": 8,
   "id": "c396284b",
   "metadata": {},
   "outputs": [
    {
     "name": "stdout",
     "output_type": "stream",
     "text": [
      "['y', 'es', 'Python', 'simple', 'poderoso']\n"
     ]
    }
   ],
   "source": [
    "palabras = [\"Python\", \"es\", \"poderoso\", \"y\", \"simple\"]\n",
    "\n",
    "# Ordenar por longitud\n",
    "ordenadas = sorted(palabras, key=len)\n",
    "print(ordenadas)\n"
   ]
  },
  {
   "cell_type": "markdown",
   "id": "220d34e6",
   "metadata": {},
   "source": [
    "### ✍️ Ejercicios prácticos\n",
    "\n",
    "1. Crea una lista de 10 números y usa map() para obtener su triple.\n",
    "\n",
    "2. Filtra con filter() los números mayores a 50 de una lista aleatoria.\n",
    "\n",
    "3. Usa zip() para combinar dos listas: nombres y notas de estudiantes.\n",
    "\n",
    "4. Recorre una lista de frutas con enumerate() mostrando índice y valor.\n",
    "\n",
    "5. Comprueba con any() si una lista de booleanos tiene al menos un True.\n",
    "\n",
    "6. Comprueba con all() si todos los números en [2,4,6,8] son pares.\n",
    "\n",
    "7. Ordena una lista de tuplas (nombre, edad) por edad usando sorted().\n",
    "\n",
    "8. Reto 🚀: Crea una matriz 3x3 con comprensiones de lista y muestra la diagonal principal.\n",
    "\n",
    "9. Reto de la vida real 🌍: Tienes dos listas, productos = [\"pan\",\"leche\",\"café\"] y precios = [1.5, 0.9, 2.2]. Combínalas con zip() y muestra un listado estilo ticket de compra."
   ]
  },
  {
   "cell_type": "code",
   "execution_count": 9,
   "id": "0f6a38dd",
   "metadata": {},
   "outputs": [
    {
     "name": "stdout",
     "output_type": "stream",
     "text": [
      "Lista de Numeros a operar matematicamente:\n",
      "[2, 1, 5, 6, 7, 5, 3, 2, 9, 1]\n",
      " Lista de numeros multipicada por 3:\n",
      "[6, 3, 15, 18, 21, 15, 9, 6, 27, 3]\n"
     ]
    }
   ],
   "source": [
    "# 1.Crea una lista de 10 números y usa map() para obtener su triple.\n",
    "\n",
    "numeros = [2,1,5,6,7,5,3,2,9,1] # Creacion de lista de Numeros\n",
    "\n",
    "triple = list(map(lambda x: 3*x, numeros)) # operacion matematica\n",
    "print(f'Lista de Numeros a operar matematicamente:\\n{numeros}\\n Lista de numeros multipicada por 3:\\n{triple}')\n"
   ]
  },
  {
   "cell_type": "code",
   "execution_count": 10,
   "id": "e8d267f2",
   "metadata": {},
   "outputs": [
    {
     "name": "stdout",
     "output_type": "stream",
     "text": [
      "[93, 54, 60, 75, 53, 80, 98, 87]\n"
     ]
    }
   ],
   "source": [
    "# 2.Filtra con filter() los números mayores a 50 de una lista aleatoria.\n",
    "import random\n",
    "\n",
    "# creamos una lista aletoria de 20 numero\n",
    "lista_aleatoria = [random.randint(1,100) for _ in range(20)] \n",
    "\n",
    "# Seleccion de terminos mayores a 50 \n",
    "\n",
    "lista_mayor50 = list(filter(lambda x: x > 50, lista_aleatoria))\n",
    "print(lista_mayor50)\n"
   ]
  },
  {
   "cell_type": "code",
   "execution_count": 11,
   "id": "9cba6138",
   "metadata": {},
   "outputs": [
    {
     "name": "stdout",
     "output_type": "stream",
     "text": [
      "Lista combinada nombre vs notas:\n",
      "[('mare', 41), ('elizabeth', 73), ('eleonor', 50), ('daniel', 37), ('francis', 30)]\n"
     ]
    }
   ],
   "source": [
    "# 3. Usa zip() para combinar dos listas: nombres y notas de estudiantes.\n",
    "\n",
    "# Creo lista de nombres y notas\n",
    "lista_nombre = ['mare','elizabeth','eleonor','daniel','francis']\n",
    "lista_notas = [41,73,50,37,30]\n",
    "\n",
    "nombre_notas = list(zip(lista_nombre,lista_notas))\n",
    "\n",
    "print(f'Lista combinada nombre vs notas:\\n{nombre_notas}')\n"
   ]
  },
  {
   "cell_type": "code",
   "execution_count": 12,
   "id": "4a3d0cb4",
   "metadata": {},
   "outputs": [
    {
     "name": "stdout",
     "output_type": "stream",
     "text": [
      "Indice:0 ➡️ Fruta coco\n",
      "Indice:1 ➡️ Fruta patilla\n",
      "Indice:2 ➡️ Fruta melon\n",
      "Indice:3 ➡️ Fruta mango\n",
      "Indice:4 ➡️ Fruta banana\n",
      "Indice:5 ➡️ Fruta kiwi\n"
     ]
    }
   ],
   "source": [
    "# 4. Recorre una lista de frutas con enumerate() mostrando índice y valor.\n",
    "lista_frutas = ['coco','patilla','melon','mango','banana','kiwi']\n",
    "for indice, fruta in enumerate(lista_frutas):\n",
    "    print(f'Indice:{indice} ➡️ Fruta {fruta}')"
   ]
  },
  {
   "cell_type": "code",
   "execution_count": 13,
   "id": "c304f77b",
   "metadata": {},
   "outputs": [
    {
     "name": "stdout",
     "output_type": "stream",
     "text": [
      "Tiene un valor verdadero la lista: True\n"
     ]
    }
   ],
   "source": [
    "# 5. Comprueba con any() si una lista de booleanos tiene al menos un True.\n",
    "lista = [0,0,0,0,0,5]\n",
    "print(f'Tiene un valor verdadero la lista: {any(lista)}') "
   ]
  },
  {
   "cell_type": "code",
   "execution_count": 14,
   "id": "350a8f5d",
   "metadata": {},
   "outputs": [
    {
     "name": "stdout",
     "output_type": "stream",
     "text": [
      "Son todos los valores de la lista pares: True\n"
     ]
    }
   ],
   "source": [
    "# 6. Comprueba con all() si todos los números en [2,4,6,8] son pares\n",
    "lista = [2,4,6,8]\n",
    "\n",
    "son_pares = all(n % 2 == 0 for n in lista)\n",
    "print(f'Son todos los valores de la lista pares: {son_pares}')\n",
    "\n"
   ]
  },
  {
   "cell_type": "code",
   "execution_count": 15,
   "id": "11b760f4",
   "metadata": {},
   "outputs": [
    {
     "name": "stdout",
     "output_type": "stream",
     "text": [
      "lista de nombre, edad desordenados:\n",
      " [('Ale', 38), ('Angel', 39), ('Miguel', 36), ('Lucas', 47), ('Roger', 76), ('Maite', 81)]\n",
      "\n",
      "Lista ordenada por edad:\n",
      "[('Miguel', 36), ('Ale', 38), ('Angel', 39), ('Lucas', 47), ('Roger', 76), ('Maite', 81)]\n"
     ]
    }
   ],
   "source": [
    "# 7. Ordena una lista de tuplas (nombre, edad) por edad usando sorted().\n",
    "\n",
    "# paso 1\n",
    "# Creamos lista de nombre y edad\n",
    "nombre_lista = ['Ale','Angel','Miguel','Lucas','Roger','Maite']\n",
    "edad_lista = [38,39,36,47,76,81]\n",
    "\n",
    "# paso 2 creo la lista de tupla (nombre,edad) con zip()\n",
    "nombre_edad = list(zip(nombre_lista,edad_lista))\n",
    "print(f'lista de nombre, edad desordenados:\\n {nombre_edad}')\n",
    "\n",
    "# Paso 3 ordeno la lista con sorted() y key = edad\n",
    "orden_nombre = sorted(nombre_edad, key= lambda edad : edad[1])\n",
    "print(f'\\nLista ordenada por edad:\\n{orden_nombre}')   "
   ]
  },
  {
   "cell_type": "code",
   "execution_count": 16,
   "id": "f6811384",
   "metadata": {},
   "outputs": [
    {
     "name": "stdout",
     "output_type": "stream",
     "text": [
      "Matriz 3x3 orginal es\n",
      "[[1, 2, 3], [2, 4, 6], [3, 6, 9]]\n",
      "La diagonal principal de la matriz es:\n",
      "[1, 4, 9]\n"
     ]
    }
   ],
   "source": [
    "# 8. Reto 🚀: Crea una matriz 3x3 con comprensiones de lista y muestra la diagonal principal.\n",
    "\n",
    "# creacion de la matriz 3x3 \n",
    "matriz3x3 = [[i*j for j in range(1,4)] for i in range(1,4)] \n",
    "# donde i representa las filas\n",
    "# donde j representa las columnas\n",
    "print(f'Matriz 3x3 orginal es\\n{matriz3x3}')\n",
    "\n",
    "# la diagonal de una matriz principal es matriz[1,1], matriz[2,2], matriz[3,3]\n",
    "diagonal_matriz = [matriz3x3[i][i] for i in range(len(matriz3x3))]\n",
    "print(f'La diagonal principal de la matriz es:\\n{diagonal_matriz}')\n",
    "\n",
    "                                                            \n"
   ]
  },
  {
   "cell_type": "code",
   "execution_count": 17,
   "id": "51479679",
   "metadata": {},
   "outputs": [
    {
     "name": "stdout",
     "output_type": "stream",
     "text": [
      "Ticket de compra\n",
      "producto: Pan ➡️ precio: 1.5\n",
      "producto: Leche ➡️ precio: 0.9\n",
      "producto: Cafe ➡️ precio: 2.2\n"
     ]
    }
   ],
   "source": [
    "# 9. Reto de la vida real 🌍: Tienes dos listas, productos = [\"pan\",\"leche\",\"café\"] y precios = [1.5, 0.9, 2.2]. \n",
    "# Combínalas con zip() y muestra un listado estilo ticket de compra.\n",
    "\n",
    "# Creando la lista de producto\n",
    "lista_producto = ['pan','leche','cafe']\n",
    "lista_precio = [1.5,0.9,2.2]\n",
    "\n",
    "# combinacion producto vs precio\n",
    "producto_precio = list(zip(lista_producto,lista_precio))\n",
    "\n",
    "# extraemos producto y precio para realizar el ticke de compra \n",
    "\n",
    "print('Ticket de compra')\n",
    "for producto , precio in (producto_precio):\n",
    "    print(f'producto: {producto.capitalize()} ➡️ precio: {precio}')\n"
   ]
  },
  {
   "cell_type": "markdown",
   "id": "49300ed5",
   "metadata": {},
   "source": [
    "### 📌 Resumen de la clase\n",
    "\n",
    "Aprendiste métodos útiles como .copy() y .clear().\n",
    "\n",
    "Viste cómo usar listas anidadas para representar matrices.\n",
    "\n",
    "Exploraste list comprehensions avanzadas.\n",
    "\n",
    "Aplicaste funciones integradas: map, filter, zip, enumerate, any, all, sorted con key.\n",
    "\n",
    "Practicaste con ejercicios y problemas aplicados a la vida real.\n",
    "\n",
    "👉 Con esto dominas las operaciones avanzadas con listas en Python, una base muy importante para trabajar con datos de manera eficiente..."
   ]
  }
 ],
 "metadata": {
  "kernelspec": {
   "display_name": "Python 3",
   "language": "python",
   "name": "python3"
  },
  "language_info": {
   "codemirror_mode": {
    "name": "ipython",
    "version": 3
   },
   "file_extension": ".py",
   "mimetype": "text/x-python",
   "name": "python",
   "nbconvert_exporter": "python",
   "pygments_lexer": "ipython3",
   "version": "3.13.7"
  }
 },
 "nbformat": 4,
 "nbformat_minor": 5
}
