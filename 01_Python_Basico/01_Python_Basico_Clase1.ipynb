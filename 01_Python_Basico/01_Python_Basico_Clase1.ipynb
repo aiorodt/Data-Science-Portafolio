{
 "cells": [
  {
   "cell_type": "markdown",
   "id": "4f7c7efc",
   "metadata": {},
   "source": [
    "# Clase 1 – Introducción a Python 🐍\n",
    "\n",
    "## 1. ¿Qué es Python?\n",
    "Python es un lenguaje de programación:\n",
    "- **Sencillo**: Su sintaxis se parece mucho al lenguaje humano.  \n",
    "- **Versátil**: Se usa en ciencia de datos, inteligencia artificial, web, automatización, etc.  \n",
    "- **Popular**: Es el lenguaje más usado en Data Science (junto a R).  \n",
    "\n",
    "---\n",
    "\n",
    "## 2. Python en Data Science\n",
    "¿Por qué usamos Python en ciencia de datos?\n",
    "- Tiene **librerías** muy potentes: NumPy, Pandas, Matplotlib, Scikit-learn, etc.  \n",
    "- Permite trabajar con **datos** de todo tipo: texto, números, imágenes, bases de datos.  \n",
    "- Es **open source** y tiene una gran comunidad.\n",
    "\n",
    "---\n",
    "\n",
    "## 3. Tu primer programa: \"Hola Mundo\"\n",
    "El clásico primer paso en cualquier lenguaje de programación:\n",
    "\n",
    "```python\n",
    "print(\"Hola Mundo desde Python\")\n"
   ]
  },
  {
   "cell_type": "code",
   "execution_count": 1,
   "id": "7dd1a23f",
   "metadata": {},
   "outputs": [
    {
     "name": "stdout",
     "output_type": "stream",
     "text": [
      "Hola, soy Aelandro Moronta y este es mi primer notebook en Python\n"
     ]
    }
   ],
   "source": [
    "print(\"Hola, soy Aelandro Moronta y este es mi primer notebook en Python\")\n"
   ]
  },
  {
   "cell_type": "markdown",
   "id": "b9093020",
   "metadata": {},
   "source": [
    "---\n",
    "\n",
    "## 📌 Resumen Clase 1 – Introducción a Python\n",
    "\n",
    "- Entendí qué es Python y por qué es tan usado en Data Science.  \n",
    "- Aprendí que Python es sencillo, versátil y tiene muchas librerías útiles.  \n",
    "- Creé mi primer programa en Python con `print()`.  \n"
   ]
  }
 ],
 "metadata": {
  "kernelspec": {
   "display_name": "Python 3",
   "language": "python",
   "name": "python3"
  },
  "language_info": {
   "codemirror_mode": {
    "name": "ipython",
    "version": 3
   },
   "file_extension": ".py",
   "mimetype": "text/x-python",
   "name": "python",
   "nbconvert_exporter": "python",
   "pygments_lexer": "ipython3",
   "version": "3.13.7"
  }
 },
 "nbformat": 4,
 "nbformat_minor": 5
}
