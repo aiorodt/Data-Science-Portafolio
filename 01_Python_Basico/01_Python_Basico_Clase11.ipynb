{
 "cells": [
  {
   "cell_type": "markdown",
   "id": "befc877f",
   "metadata": {},
   "source": [
    "# Clase 11: Tuplas Avanzadas en Python\n",
    "## 🎯 Introducción\n",
    "\n",
    "En la clase anterior aprendimos los fundamentos de las tuplas: qué son, cómo crearlas, acceder a sus elementos y las operaciones básicas.\n",
    "En esta clase veremos usos avanzados de las tuplas, aprovechando su inmutabilidad y su utilidad para almacenar datos estructurados."
   ]
  },
  {
   "cell_type": "markdown",
   "id": "e17f2e90",
   "metadata": {},
   "source": [
    "### 1. Desempaquetado de tuplas\n",
    "\n",
    "El desempaquetado permite asignar los valores de una tupla directamente a variables."
   ]
  },
  {
   "cell_type": "code",
   "execution_count": 2,
   "id": "eb9b3ad7",
   "metadata": {},
   "outputs": [
    {
     "name": "stdout",
     "output_type": "stream",
     "text": [
      "x = 3, y = 5\n"
     ]
    }
   ],
   "source": [
    "punto = (3, 5)\n",
    "\n",
    "x, y = punto\n",
    "print(f\"x = {x}, y = {y}\")"
   ]
  },
  {
   "cell_type": "markdown",
   "id": "22bca0fa",
   "metadata": {},
   "source": [
    "🔹 Muy útil en bucles:"
   ]
  },
  {
   "cell_type": "code",
   "execution_count": 3,
   "id": "758b7b86",
   "metadata": {},
   "outputs": [
    {
     "name": "stdout",
     "output_type": "stream",
     "text": [
      "x=1, y=2\n",
      "x=3, y=4\n",
      "x=5, y=6\n"
     ]
    }
   ],
   "source": [
    "coordenadas = [(1, 2), (3, 4), (5, 6)]\n",
    "\n",
    "for x, y in coordenadas:\n",
    "    print(f\"x={x}, y={y}\")\n"
   ]
  },
  {
   "cell_type": "markdown",
   "id": "4800af57",
   "metadata": {},
   "source": [
    "## 2. Desempaquetado con *\n",
    "\n",
    "Podemos capturar varios valores en una sola variable usando *."
   ]
  },
  {
   "cell_type": "code",
   "execution_count": 4,
   "id": "78a9b7e7",
   "metadata": {},
   "outputs": [
    {
     "name": "stdout",
     "output_type": "stream",
     "text": [
      "10\n",
      "20\n",
      "[30, 40, 50]\n"
     ]
    }
   ],
   "source": [
    "datos = (10, 20, 30, 40, 50)\n",
    "\n",
    "a, b, *resto = datos\n",
    "print(a)       # 10\n",
    "print(b)       # 20\n",
    "print(resto)   # [30, 40, 50]"
   ]
  },
  {
   "cell_type": "markdown",
   "id": "503f3711",
   "metadata": {},
   "source": [
    "### 3. Tuplas como claves en diccionarios\n",
    "\n",
    "Las tuplas pueden usarse como claves porque son inmutables."
   ]
  },
  {
   "cell_type": "code",
   "execution_count": 5,
   "id": "c2adeff4",
   "metadata": {},
   "outputs": [
    {
     "name": "stdout",
     "output_type": "stream",
     "text": [
      "{(0, 0): 'origen', (1, 2): 'posición A'}\n"
     ]
    }
   ],
   "source": [
    "puntos = {}\n",
    "puntos[(0, 0)] = \"origen\"\n",
    "puntos[(1, 2)] = \"posición A\"\n",
    "\n",
    "print(puntos)\n",
    "# {(0, 0): 'origen', (1, 2): 'posición A'}\n"
   ]
  },
  {
   "cell_type": "markdown",
   "id": "0d3d64fd",
   "metadata": {},
   "source": [
    "### 4. Tuplas con enumerate()\n",
    "\n",
    "enumerate() devuelve pares (índice, valor) empaquetados en tuplas."
   ]
  },
  {
   "cell_type": "code",
   "execution_count": 6,
   "id": "f81484d0",
   "metadata": {},
   "outputs": [
    {
     "name": "stdout",
     "output_type": "stream",
     "text": [
      "Índice 0: Ana\n",
      "Índice 1: Luis\n",
      "Índice 2: Pedro\n"
     ]
    }
   ],
   "source": [
    "nombres = [\"Ana\", \"Luis\", \"Pedro\"]\n",
    "\n",
    "for i, nombre in enumerate(nombres):\n",
    "    print(f\"Índice {i}: {nombre}\")\n"
   ]
  },
  {
   "cell_type": "markdown",
   "id": "68212b1f",
   "metadata": {},
   "source": [
    "### 5. Tuplas con zip()\n",
    "\n",
    "zip() combina elementos de varias listas en tuplas."
   ]
  },
  {
   "cell_type": "code",
   "execution_count": 7,
   "id": "d80560b6",
   "metadata": {},
   "outputs": [
    {
     "name": "stdout",
     "output_type": "stream",
     "text": [
      "[('Ana', 20), ('Luis', 25), ('Pedro', 30)]\n"
     ]
    }
   ],
   "source": [
    "nombres = [\"Ana\", \"Luis\", \"Pedro\"]\n",
    "edades = [20, 25, 30]\n",
    "\n",
    "combinados = list(zip(nombres, edades))\n",
    "print(combinados)\n",
    "# [('Ana', 20), ('Luis', 25), ('Pedro', 30)]\n"
   ]
  },
  {
   "cell_type": "markdown",
   "id": "70b4f8e0",
   "metadata": {},
   "source": [
    "### 6. Función namedtuple\n",
    "\n",
    "Con collections.namedtuple podemos crear tuplas con nombres de campo."
   ]
  },
  {
   "cell_type": "code",
   "execution_count": 8,
   "id": "ecbcd762",
   "metadata": {},
   "outputs": [
    {
     "name": "stdout",
     "output_type": "stream",
     "text": [
      "Ana\n",
      "25\n"
     ]
    }
   ],
   "source": [
    "from collections import namedtuple\n",
    "\n",
    "Persona = namedtuple(\"Persona\", [\"nombre\", \"edad\"])\n",
    "p1 = Persona(nombre=\"Ana\", edad=25)\n",
    "\n",
    "print(p1.nombre)  # Ana\n",
    "print(p1.edad)    # 25\n"
   ]
  },
  {
   "cell_type": "markdown",
   "id": "94253aac",
   "metadata": {},
   "source": [
    "### 7. Inmutabilidad práctica\n",
    "\n",
    "Aunque las tuplas no cambian, si contienen listas u objetos mutables, esos elementos sí se pueden modificar."
   ]
  },
  {
   "cell_type": "code",
   "execution_count": 9,
   "id": "63596a44",
   "metadata": {},
   "outputs": [
    {
     "name": "stdout",
     "output_type": "stream",
     "text": [
      "(1, [2, 3, 5], 4)\n"
     ]
    }
   ],
   "source": [
    "tupla = (1, [2, 3], 4)\n",
    "tupla[1].append(5)\n",
    "print(tupla)  # (1, [2, 3, 5], 4)\n"
   ]
  },
  {
   "cell_type": "markdown",
   "id": "9c651200",
   "metadata": {},
   "source": [
    "### 8. Ejercicio final\n",
    "\n",
    "👉 Crea una lista de estudiantes con la forma (nombre, nota).\n",
    "\n",
    "1. Usa enumerate() para mostrar la posición y el estudiante.\n",
    "\n",
    "2. Usa zip() para combinar una lista de cursos con los estudiantes.\n",
    "\n",
    "3. Crea un namedtuple para almacenar los datos de forma más legible."
   ]
  },
  {
   "cell_type": "code",
   "execution_count": 10,
   "id": "63d40462",
   "metadata": {},
   "outputs": [],
   "source": [
    "# 👉 Crea una lista de estudiantes con la forma (nombre, nota).\n",
    "\n",
    "estudiante = [('paola',67),('leo',70),('luis',15),('marelibeth',68)]"
   ]
  },
  {
   "cell_type": "code",
   "execution_count": 11,
   "id": "b73445c4",
   "metadata": {},
   "outputs": [
    {
     "name": "stdout",
     "output_type": "stream",
     "text": [
      "0...Nombre: paola ➡️ nota: 67 puntos\n",
      "1...Nombre: leo ➡️ nota: 70 puntos\n",
      "2...Nombre: luis ➡️ nota: 15 puntos\n",
      "3...Nombre: marelibeth ➡️ nota: 68 puntos\n"
     ]
    }
   ],
   "source": [
    "# 1. Usa enumerate() para mostrar la posición y el estudiante. \n",
    "for posicion , nombre_nota in enumerate(estudiante):\n",
    "    nombre,nota = nombre_nota\n",
    "    print(f'{posicion}...Nombre: {nombre} ➡️ nota: {nota} puntos')\n",
    "    "
   ]
  },
  {
   "cell_type": "code",
   "execution_count": 12,
   "id": "6ae2fae3",
   "metadata": {},
   "outputs": [
    {
     "name": "stdout",
     "output_type": "stream",
     "text": [
      "[(('paola', 67), 'Fisica'), (('leo', 70), 'Ingles'), (('luis', 15), 'Biologia'), (('marelibeth', 68), 'Castellano')]\n"
     ]
    }
   ],
   "source": [
    "# 2. Usa zip() para combinar una lista de cursos con los estudiantes.\n",
    "\n",
    "# lista de  estudiante\n",
    "estudiante = ('paola',67),('leo',70),('luis',15),('marelibeth',68)\n",
    "\n",
    "# creamos una lista de curso\n",
    "curso = ['Fisica','Ingles','Biologia','Castellano']\n",
    "\n",
    "# combiando lista\n",
    "combinandos_lista = list(zip(estudiante,curso))\n",
    "print(combinandos_lista)"
   ]
  },
  {
   "cell_type": "code",
   "execution_count": 13,
   "id": "21530fdb",
   "metadata": {},
   "outputs": [
    {
     "name": "stdout",
     "output_type": "stream",
     "text": [
      "Paola Fisica 80\n",
      "Leo Fisica 100\n"
     ]
    }
   ],
   "source": [
    "# 3. Crea un namedtuple para almacenar los datos de forma más legible.\n",
    "from collections import namedtuple\n",
    "\n",
    "Estudiante = namedtuple('Estudiante',['Nombre','Curso','Nota'])\n",
    "E1 = Estudiante(Nombre = 'Paola', Curso = 'Fisica', Nota = 80)\n",
    "E2 = Estudiante(Nombre = 'Leo',Curso = 'Fisica', Nota = 100)\n",
    "print(E1.Nombre, E1.Curso, E1.Nota)\n",
    "print(E2.Nombre, E2.Curso, E2.Nota)"
   ]
  },
  {
   "cell_type": "markdown",
   "id": "5f971aab",
   "metadata": {},
   "source": [
    "### 📌 Conclusión\n",
    "\n",
    "Las tuplas avanzadas en Python son herramientas poderosas para:\n",
    "\n",
    "- Desempaquetar valores fácilmente.\n",
    "\n",
    "- Usarlas como claves en diccionarios.\n",
    "\n",
    "- Combinarlas con funciones útiles (zip, enumerate).\n",
    "\n",
    "- Usar namedtuple para estructuras más claras.\n",
    "\n",
    "- Son muy útiles cuando necesitas colecciones inmutables, claras y eficientes"
   ]
  }
 ],
 "metadata": {
  "kernelspec": {
   "display_name": "Python 3",
   "language": "python",
   "name": "python3"
  },
  "language_info": {
   "codemirror_mode": {
    "name": "ipython",
    "version": 3
   },
   "file_extension": ".py",
   "mimetype": "text/x-python",
   "name": "python",
   "nbconvert_exporter": "python",
   "pygments_lexer": "ipython3",
   "version": "3.13.7"
  }
 },
 "nbformat": 4,
 "nbformat_minor": 5
}
