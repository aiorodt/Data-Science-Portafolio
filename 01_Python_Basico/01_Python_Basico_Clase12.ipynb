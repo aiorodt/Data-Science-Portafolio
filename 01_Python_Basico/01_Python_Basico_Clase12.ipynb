{
 "cells": [
  {
   "cell_type": "markdown",
   "id": "91d2e624",
   "metadata": {},
   "source": [
    "# Clase 12: Diccionarios en Python\n",
    "## 🎯 Introducción\n",
    "\n",
    "Los diccionarios en Python son estructuras de datos que almacenan pares clave-valor.\n",
    "Son muy útiles cuando queremos acceder a información mediante una clave en lugar de un índice.\n",
    "\n",
    "- Sintaxis:"
   ]
  },
  {
   "cell_type": "code",
   "execution_count": 1,
   "id": "d9dcd344",
   "metadata": {},
   "outputs": [],
   "source": [
    "mi_diccionario = {\n",
    "    \"clave1\": \"valor1\",\n",
    "    \"clave2\": \"valor2\"\n",
    "}\n"
   ]
  },
  {
   "cell_type": "markdown",
   "id": "4d700afd",
   "metadata": {},
   "source": [
    "### 1. Crear un diccionario\n",
    "Podemos crear diccionarios de varias formas:"
   ]
  },
  {
   "cell_type": "code",
   "execution_count": 3,
   "id": "2bc1ddbc",
   "metadata": {},
   "outputs": [
    {
     "name": "stdout",
     "output_type": "stream",
     "text": [
      "{'nombre': 'Ana', 'edad': 25}\n",
      "{'nombre': 'Madrid', 'pais': 'España'}\n"
     ]
    }
   ],
   "source": [
    "# Forma clásica\n",
    "persona = {\"nombre\": \"Ana\", \"edad\": 25}\n",
    "\n",
    "# Usando dict()\n",
    "ciudad = dict(nombre=\"Madrid\", pais=\"España\")\n",
    "\n",
    "print(persona)\n",
    "print(ciudad)"
   ]
  },
  {
   "cell_type": "markdown",
   "id": "e2e101bd",
   "metadata": {},
   "source": [
    "### 2. Acceder a valores\n",
    "\n",
    "Se accede a los valores mediante su clave."
   ]
  },
  {
   "cell_type": "code",
   "execution_count": 5,
   "id": "02755738",
   "metadata": {},
   "outputs": [
    {
     "name": "stdout",
     "output_type": "stream",
     "text": [
      "Ana\n",
      "25\n"
     ]
    }
   ],
   "source": [
    "print(persona[\"nombre\"])   # Ana\n",
    "print(persona.get(\"edad\")) # 25\n",
    "# 🔹 get() devuelve None si la clave no existe (o un valor por defecto)."
   ]
  },
  {
   "cell_type": "markdown",
   "id": "83dad648",
   "metadata": {},
   "source": [
    "### 3. Modificar valores\n",
    "\n",
    "Podemos cambiar el valor de una clave existente."
   ]
  },
  {
   "cell_type": "code",
   "execution_count": 6,
   "id": "5c2037d6",
   "metadata": {},
   "outputs": [
    {
     "name": "stdout",
     "output_type": "stream",
     "text": [
      "{'nombre': 'Ana', 'edad': 30}\n"
     ]
    }
   ],
   "source": [
    "persona[\"edad\"] = 30\n",
    "print(persona)  # {'nombre': 'Ana', 'edad': 30}"
   ]
  },
  {
   "cell_type": "markdown",
   "id": "9705b729",
   "metadata": {},
   "source": [
    "### 4. Agregar elementos\n",
    "\n",
    "Si la clave no existe, se crea una nueva entrada."
   ]
  },
  {
   "cell_type": "code",
   "execution_count": 7,
   "id": "14e2a2da",
   "metadata": {},
   "outputs": [
    {
     "name": "stdout",
     "output_type": "stream",
     "text": [
      "{'nombre': 'Ana', 'edad': 30, 'ciudad': 'Barcelona'}\n"
     ]
    }
   ],
   "source": [
    "persona[\"ciudad\"] = \"Barcelona\"\n",
    "print(persona)\n",
    "# {'nombre': 'Ana', 'edad': 30, 'ciudad': 'Barcelona'}\n"
   ]
  },
  {
   "cell_type": "markdown",
   "id": "d555ae22",
   "metadata": {},
   "source": [
    "### 5. Eliminar elementos\n",
    "\n",
    "Existen varios métodos:"
   ]
  },
  {
   "cell_type": "code",
   "execution_count": 8,
   "id": "7737d0df",
   "metadata": {},
   "outputs": [],
   "source": [
    "# Con del\n",
    "del persona[\"edad\"]\n",
    "\n",
    "# Con pop()\n",
    "ciudad = persona.pop(\"ciudad\")\n",
    "\n",
    "# Con clear() → vaciar todo\n",
    "persona.clear()\n"
   ]
  },
  {
   "cell_type": "markdown",
   "id": "784cf091",
   "metadata": {},
   "source": [
    "### 6. Recorrer diccionarios\n",
    "\n",
    "Se pueden recorrer claves, valores o ambos:"
   ]
  },
  {
   "cell_type": "code",
   "execution_count": 14,
   "id": "d32d0f26",
   "metadata": {},
   "outputs": [
    {
     "name": "stdout",
     "output_type": "stream",
     "text": [
      "nombre\n",
      "nota\n",
      "\n",
      "-----------------------------------\n",
      "Luis\n",
      "9\n",
      "\n",
      "-----------------------------------\n",
      "nombre: Luis\n",
      "nota: 9\n"
     ]
    }
   ],
   "source": [
    "estudiante = {\"nombre\": \"Luis\", \"nota\": 9}\n",
    "\n",
    "# Solo claves\n",
    "for clave in estudiante.keys():\n",
    "    print(f'{clave}')\n",
    "\n",
    "print('\\n-----------------------------------')\n",
    "\n",
    "# Solo valores\n",
    "for valor in estudiante.values():\n",
    "    print(f'{valor}')\n",
    "\n",
    "print('\\n-----------------------------------')\n",
    "\n",
    "# Clave y valor\n",
    "for clave, valor in estudiante.items():\n",
    "    print(f\"{clave}: {valor}\")\n"
   ]
  },
  {
   "cell_type": "markdown",
   "id": "a211767e",
   "metadata": {},
   "source": [
    "### 7. Diccionarios anidados\n",
    "\n",
    "Podemos tener diccionarios dentro de otros."
   ]
  },
  {
   "cell_type": "code",
   "execution_count": 15,
   "id": "aaf7e9ce",
   "metadata": {},
   "outputs": [
    {
     "name": "stdout",
     "output_type": "stream",
     "text": [
      "Ana\n"
     ]
    }
   ],
   "source": [
    "alumnos = {\n",
    "    \"A1\": {\"nombre\": \"Ana\", \"nota\": 8},\n",
    "    \"A2\": {\"nombre\": \"Luis\", \"nota\": 9}\n",
    "}\n",
    "\n",
    "print(alumnos[\"A1\"][\"nombre\"])  # Ana\n"
   ]
  },
  {
   "cell_type": "markdown",
   "id": "fce473bb",
   "metadata": {},
   "source": [
    "### 8. Métodos útiles de diccionarios\n",
    "\n",
    "- .keys() → devuelve todas las claves\n",
    "\n",
    "- .values() → devuelve todos los valores\n",
    "\n",
    "- .items() → devuelve pares (clave, valor)\n",
    "\n",
    "- .update() → actualizar con otro diccionario\n",
    "\n",
    "- .pop() → elimina un elemento por clave"
   ]
  },
  {
   "cell_type": "code",
   "execution_count": 16,
   "id": "f2ff34ec",
   "metadata": {},
   "outputs": [
    {
     "name": "stdout",
     "output_type": "stream",
     "text": [
      "dict_keys(['x', 'y'])\n",
      "dict_values([1, 2])\n",
      "dict_items([('x', 1), ('y', 2)])\n",
      "{'x': 1, 'y': 2, 'z': 3}\n"
     ]
    }
   ],
   "source": [
    "d = {\"x\": 1, \"y\": 2}\n",
    "print(d.keys())    # dict_keys(['x', 'y'])\n",
    "print(d.values())  # dict_values([1, 2])\n",
    "print(d.items())   # dict_items([('x', 1), ('y', 2)])\n",
    "\n",
    "d.update({\"z\": 3})\n",
    "print(d)  # {'x': 1, 'y': 2, 'z': 3}"
   ]
  },
  {
   "cell_type": "markdown",
   "id": "09c6631c",
   "metadata": {},
   "source": [
    "### 9. Ejemplo de uso real\n",
    "\n",
    "👉 Un diccionario puede representar un inventario de productos:"
   ]
  },
  {
   "cell_type": "code",
   "execution_count": 17,
   "id": "94bbfad4",
   "metadata": {},
   "outputs": [
    {
     "name": "stdout",
     "output_type": "stream",
     "text": [
      "{'manzana': 9, 'pera': 5, 'naranja': 8, 'plátano': 12}\n"
     ]
    }
   ],
   "source": [
    "inventario = {\n",
    "    \"manzana\": 10,\n",
    "    \"pera\": 5,\n",
    "    \"naranja\": 8\n",
    "}\n",
    "\n",
    "# Vender una manzana\n",
    "inventario[\"manzana\"] -= 1\n",
    "\n",
    "# Agregar un nuevo producto\n",
    "inventario[\"plátano\"] = 12\n",
    "\n",
    "print(inventario)\n"
   ]
  },
  {
   "cell_type": "markdown",
   "id": "d2303ee3",
   "metadata": {},
   "source": [
    "### 10. Ejercicio final\n",
    "\n",
    "1. Crea un diccionario que represente estudiantes y sus notas:\n",
    "\n",
    "2. Recorre el diccionario mostrando nombre: nota.\n",
    "\n",
    "3. Agrega un nuevo estudiante.\n",
    "\n",
    "4. Elimina a uno de los estudiantes.\n",
    "\n",
    "5. Calcula el promedio de las notas."
   ]
  },
  {
   "cell_type": "code",
   "execution_count": null,
   "id": "16892123",
   "metadata": {},
   "outputs": [],
   "source": [
    "# 1. Crea un diccionario que represente estudiantes y sus notas:\n",
    "\n",
    "diccionario_estudiante_notas = {\n",
    "    'Alejandro':20,\n",
    "    'Leo':17,\n",
    "    'Alejandra':15,\n",
    "    'Paola':19,\n",
    "    'Gipsay':15,\n",
    "    'Marelibeth':18,\n",
    "    'Argenis':17,\n",
    "    'Jose':15,\n",
    "    'Angel':19\n",
    "}\n"
   ]
  },
  {
   "cell_type": "code",
   "execution_count": 20,
   "id": "2771a669",
   "metadata": {},
   "outputs": [
    {
     "name": "stdout",
     "output_type": "stream",
     "text": [
      "Nombre 🟰 Alejandro, Nota ➡️ 20\n",
      "Nombre 🟰 Leo, Nota ➡️ 17\n",
      "Nombre 🟰 Alejandra, Nota ➡️ 15\n",
      "Nombre 🟰 Paola, Nota ➡️ 19\n",
      "Nombre 🟰 Gipsay, Nota ➡️ 15\n",
      "Nombre 🟰 Marelibeth, Nota ➡️ 18\n",
      "Nombre 🟰 Argenis, Nota ➡️ 17\n",
      "Nombre 🟰 Jose, Nota ➡️ 15\n",
      "Nombre 🟰 Angel, Nota ➡️ 19\n"
     ]
    }
   ],
   "source": [
    "# 2. Recorre el diccionario mostrando nombre: nota.\n",
    "for nombre,nota in diccionario_estudiante_notas.items():\n",
    "    print(f'Nombre 🟰 {nombre}, Nota ➡️ {nota}')\n"
   ]
  },
  {
   "cell_type": "code",
   "execution_count": null,
   "id": "c6e5fadd",
   "metadata": {},
   "outputs": [
    {
     "name": "stdout",
     "output_type": "stream",
     "text": [
      "{'Alejandro': 20, 'Leo': 17, 'Alejandra': 15, 'Paola': 19, 'Gipsay': 15, 'Marelibeth': 18, 'Argenis': 17, 'Jose': 15, 'Angel': 19, 'Elizabeth': 10}\n"
     ]
    }
   ],
   "source": [
    "# 3. Agrega un nuevo estudiante.\n",
    "diccionario_estudiante_notas['Elizabeth'] = 10\n",
    "print(diccionario_estudiante_notas)"
   ]
  },
  {
   "cell_type": "code",
   "execution_count": null,
   "id": "25719456",
   "metadata": {},
   "outputs": [
    {
     "name": "stdout",
     "output_type": "stream",
     "text": [
      "{'Leo': 17, 'Alejandra': 15, 'Paola': 19, 'Gipsay': 15, 'Marelibeth': 18, 'Argenis': 17, 'Jose': 15, 'Angel': 19, 'Elizabeth': 10}\n"
     ]
    }
   ],
   "source": [
    "# 4. Elimina a uno de los estudiantes.\n",
    "del diccionario_estudiante_notas['Alejandro']\n",
    "print(diccionario_estudiante_notas)"
   ]
  },
  {
   "cell_type": "code",
   "execution_count": 35,
   "id": "df691e05",
   "metadata": {},
   "outputs": [
    {
     "name": "stdout",
     "output_type": "stream",
     "text": [
      "El Promedio de notas de los estudiantes es 16.11 puntos de un conjunto de 9 Estudiantes\n"
     ]
    }
   ],
   "source": [
    "# 5. Calcula el promedio de las notas.\n",
    "suma_notas = 0\n",
    "for notas in diccionario_estudiante_notas.values():\n",
    "    suma_notas += notas\n",
    "promedio_notas = suma_notas/len(diccionario_estudiante_notas)\n",
    "print(f'El Promedio de notas de los estudiantes es {promedio_notas:.2f} puntos de un conjunto de {len(diccionario_estudiante_notas)} Estudiantes')"
   ]
  },
  {
   "cell_type": "markdown",
   "id": "d22fbb5a",
   "metadata": {},
   "source": [
    "### 📌 Conclusión\n",
    "\n",
    "Los diccionarios son una de las estructuras más poderosas de Python porque permiten:\n",
    "\n",
    "Acceso rápido a valores mediante claves.\n",
    "\n",
    "Organización clara de información.\n",
    "\n",
    "Representación de estructuras complejas (anidadas).\n",
    "\n",
    "En la siguiente clase veremos diccionarios avanzados con operaciones más potentes."
   ]
  }
 ],
 "metadata": {
  "kernelspec": {
   "display_name": "Python 3",
   "language": "python",
   "name": "python3"
  },
  "language_info": {
   "codemirror_mode": {
    "name": "ipython",
    "version": 3
   },
   "file_extension": ".py",
   "mimetype": "text/x-python",
   "name": "python",
   "nbconvert_exporter": "python",
   "pygments_lexer": "ipython3",
   "version": "3.13.7"
  }
 },
 "nbformat": 4,
 "nbformat_minor": 5
}
