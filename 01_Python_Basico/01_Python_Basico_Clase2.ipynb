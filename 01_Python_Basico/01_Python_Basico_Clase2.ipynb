{
 "cells": [
  {
   "cell_type": "markdown",
   "id": "096f7480",
   "metadata": {},
   "source": [
    "# Clase 2 – Variables y Tipos de Datos 🔤🔢\n",
    "\n",
    "## 1. ¿Qué es una variable?\n",
    "Una variable es un **espacio en memoria** donde guardamos información.  \n",
    "Se definen simplemente asignando un valor con `=`.  \n",
    "\n",
    "---\n",
    "\n",
    "## 2. Reglas para nombrar variables\n",
    "✅ Deben empezar con letra o guion bajo `_`.  \n",
    "✅ Pueden contener letras, números y guion bajo.  \n",
    "✅ No deben empezar con número.  \n",
    "✅ No pueden ser palabras reservadas de Python.  \n",
    "\n",
    "---\n",
    "\n",
    "## 3. Tipos de datos básicos en Python\n",
    "- **Enteros (`int`)** → `5`, `-10`  \n",
    "- **Decimales (`float`)** → `3.14`, `-0.5`  \n",
    "- **Cadenas (`str`)** → `\"Hola\"`, `'Python'`  \n",
    "- **Booleanos** → `True` o `False`  \n",
    "\n",
    "---\n",
    "\n",
    "## 4. La función `type()`\n",
    "Sirve para saber el tipo de una variable.  \n",
    "\n",
    "```python\n",
    "x = 10\n",
    "print(type(x))  # int\n"
   ]
  },
  {
   "cell_type": "code",
   "execution_count": 6,
   "id": "00cae8c1",
   "metadata": {},
   "outputs": [],
   "source": [
    "# Conversion de Tipo\n",
    "x = \"123\"\n",
    "x_int = int(x)   # de str a int\n",
    "y = float(5)     # de int a float\n",
    " "
   ]
  },
  {
   "cell_type": "code",
   "execution_count": 7,
   "id": "dcabf646",
   "metadata": {},
   "outputs": [
    {
     "name": "stdout",
     "output_type": "stream",
     "text": [
      "Hola, soy Alejandro Moronta, tengo 39 anos y vivo en la ciudad de Caracas\n",
      "El tipo de valiable de la velocidad_int es: <class 'int'>\n"
     ]
    }
   ],
   "source": [
    "# Ejercicio 1. Variables con datos personales\n",
    "nombre = 'Alejandro Moronta'\n",
    "edad = 39\n",
    "ciudad = 'Caracas'\n",
    "\n",
    "# Ejercicio 2. Mostrar frase con print()\n",
    "print(f'Hola, soy {nombre}, tengo {edad} anos y vivo en la ciudad de {ciudad}')\n",
    "\n",
    "# Ejercicio 3. Convertir decimal a entero\n",
    "velocidad = 340.5 # kilometros  por hora\n",
    "velocidad_int = int(velocidad)\n",
    "\n",
    "# Ejercicio 4. Verificar tipos de variables\n",
    "print(f'El tipo de valiable de la velocidad_int es: {type(velocidad_int)}')\n"
   ]
  }
 ],
 "metadata": {
  "kernelspec": {
   "display_name": "Python 3",
   "language": "python",
   "name": "python3"
  },
  "language_info": {
   "codemirror_mode": {
    "name": "ipython",
    "version": 3
   },
   "file_extension": ".py",
   "mimetype": "text/x-python",
   "name": "python",
   "nbconvert_exporter": "python",
   "pygments_lexer": "ipython3",
   "version": "3.13.7"
  }
 },
 "nbformat": 4,
 "nbformat_minor": 5
}
