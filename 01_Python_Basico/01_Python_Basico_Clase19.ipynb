{
 "cells": [
  {
   "cell_type": "markdown",
   "id": "66bde5f8",
   "metadata": {},
   "source": [
    "# 🚀 Clase 19: Funciones Avanzadas en Python\n",
    "\n",
    "## 🎯 Introducción\n",
    "En esta clase exploraremos las **funciones avanzadas** de Python, que permiten escribir código más eficiente, limpio y profesional.  \n",
    "Verás conceptos como funciones anónimas (`lambda`), argumentos variables (`*args`, `**kwargs`), funciones dentro de funciones, recursión, y el uso de funciones integradas como `map()`, `filter()` y `reduce()`.\n",
    "\n",
    "---\n",
    "\n",
    "## 🧩 1. Funciones anónimas (`lambda`)\n",
    "\n",
    "Una **función lambda** es una función pequeña y sin nombre.  \n",
    "Se usa para tareas simples en una sola línea.\n",
    "\n",
    "### 🔹 Sintaxis:\n",
    "```python\n",
    "lambda argumentos: expresión\n"
   ]
  },
  {
   "cell_type": "markdown",
   "id": "45d6ee74",
   "metadata": {},
   "source": [
    "### 🔹 Ejemplo:"
   ]
  },
  {
   "cell_type": "code",
   "execution_count": 1,
   "id": "873742e7",
   "metadata": {},
   "outputs": [
    {
     "name": "stdout",
     "output_type": "stream",
     "text": [
      "25\n"
     ]
    }
   ],
   "source": [
    "cuadrado = lambda x: x ** 2\n",
    "print(cuadrado(5))  # Salida: 25"
   ]
  },
  {
   "cell_type": "markdown",
   "id": "4621ee14",
   "metadata": {},
   "source": [
    "### 🧠 Cuándo usarla:\n",
    "Cuando necesitas una función corta y temporal, por ejemplo, dentro de map() o filter()."
   ]
  },
  {
   "cell_type": "markdown",
   "id": "0ad16887",
   "metadata": {},
   "source": [
    "## 🧩 2. Argumentos variables: *args y **kwargs\n",
    "🔹 *args → argumentos posicionales variables\n",
    "\n",
    "Permite pasar cualquier cantidad de argumentos sin definirlos previamente."
   ]
  },
  {
   "cell_type": "code",
   "execution_count": 2,
   "id": "a65b7bf0",
   "metadata": {},
   "outputs": [
    {
     "name": "stdout",
     "output_type": "stream",
     "text": [
      "20\n"
     ]
    }
   ],
   "source": [
    "def sumar_todo(*args):\n",
    "    return sum(args)\n",
    "\n",
    "print(sumar_todo(2, 4, 6, 8))  # Salida: 20"
   ]
  },
  {
   "cell_type": "markdown",
   "id": "a48ce9da",
   "metadata": {},
   "source": [
    "🔹 **kwargs → argumentos con nombre variables\n",
    "\n",
    "Permite recibir un número variable de pares clave-valor."
   ]
  },
  {
   "cell_type": "code",
   "execution_count": 5,
   "id": "211ab36c",
   "metadata": {},
   "outputs": [
    {
     "name": "stdout",
     "output_type": "stream",
     "text": [
      "nombre: Ana\n",
      "edad: 25\n",
      "ciudad: Madrid\n"
     ]
    }
   ],
   "source": [
    "def mostrar_info(**kwargs):\n",
    "    for clave, valor in kwargs.items():\n",
    "        print(f\"{clave}: {valor}\")\n",
    "\n",
    "mostrar_info(nombre=\"Ana\", edad=25, ciudad=\"Madrid\")"
   ]
  },
  {
   "cell_type": "markdown",
   "id": "8314989c",
   "metadata": {},
   "source": [
    "## 🧩 3. Funciones dentro de funciones (anidadas)\n",
    "\n",
    "Puedes definir funciones dentro de otras funciones.\n",
    "Son útiles cuando una función auxiliar solo se usa dentro de otra"
   ]
  },
  {
   "cell_type": "code",
   "execution_count": null,
   "id": "401995a8",
   "metadata": {},
   "outputs": [
    {
     "name": "stdout",
     "output_type": "stream",
     "text": [
      "Hola, Luis!\n"
     ]
    }
   ],
   "source": [
    "def mensaje_principal(nombre):\n",
    "    def saludo():\n",
    "        return \"Hola\"\n",
    "    return f\"{saludo()}, {nombre}!\"\n",
    "\n",
    "print(mensaje_principal(\"Luis\"))  # Salida: Hola, Luis!"
   ]
  },
  {
   "cell_type": "markdown",
   "id": "1c5cebfb",
   "metadata": {},
   "source": [
    "## 🧩 4. Funciones como argumentos (funciones de orden superior)\n",
    "\n",
    "Las funciones en Python pueden pasarse como argumentos a otras funciones."
   ]
  },
  {
   "cell_type": "code",
   "execution_count": 7,
   "id": "386f213b",
   "metadata": {},
   "outputs": [
    {
     "name": "stdout",
     "output_type": "stream",
     "text": [
      "64\n"
     ]
    }
   ],
   "source": [
    "def aplicar_operacion(funcion, valor):\n",
    "    return funcion(valor)\n",
    "\n",
    "resultado = aplicar_operacion(lambda x: x**3, 4)\n",
    "print(resultado)  # Salida: 64\n"
   ]
  },
  {
   "cell_type": "markdown",
   "id": "4a1aa533",
   "metadata": {},
   "source": [
    "## 🧩 5. Recursión (una función que se llama a sí misma)\n",
    "\n",
    "La recursión ocurre cuando una función se llama dentro de sí misma.\n",
    "Se usa para dividir un problema grande en partes más pequeñas."
   ]
  },
  {
   "cell_type": "code",
   "execution_count": 8,
   "id": "2f6215d2",
   "metadata": {},
   "outputs": [
    {
     "name": "stdout",
     "output_type": "stream",
     "text": [
      "120\n"
     ]
    }
   ],
   "source": [
    "def factorial(n):\n",
    "    if n == 1:\n",
    "        return 1\n",
    "    else:\n",
    "        return n * factorial(n - 1)\n",
    "\n",
    "print(factorial(5))  # Salida: 120\n"
   ]
  },
  {
   "cell_type": "markdown",
   "id": "33146fdb",
   "metadata": {},
   "source": [
    "⚠️ Cuidado: Siempre debe tener un caso base para evitar un bucle infinito"
   ]
  },
  {
   "cell_type": "markdown",
   "id": "9ed9901e",
   "metadata": {},
   "source": [
    "## 🧩 6. map() — Aplicar una función a cada elemento"
   ]
  },
  {
   "cell_type": "code",
   "execution_count": null,
   "id": "a3bcbfa1",
   "metadata": {},
   "outputs": [
    {
     "name": "stdout",
     "output_type": "stream",
     "text": [
      "[1, 4, 9, 16]\n"
     ]
    }
   ],
   "source": [
    "numeros = [1, 2, 3, 4]\n",
    "cuadrados = list(map(lambda x: x**2, numeros))\n",
    "print(cuadrados)  # [1, 4, 9, 16]"
   ]
  },
  {
   "cell_type": "markdown",
   "id": "f09d248a",
   "metadata": {},
   "source": [
    "🧠 Idea: Transforma una lista aplicando una función a cada elemento."
   ]
  },
  {
   "cell_type": "markdown",
   "id": "3198de6a",
   "metadata": {},
   "source": [
    "## 🧩 7. filter() — Filtrar elementos según una condición"
   ]
  },
  {
   "cell_type": "code",
   "execution_count": 10,
   "id": "920afd4b",
   "metadata": {},
   "outputs": [
    {
     "name": "stdout",
     "output_type": "stream",
     "text": [
      "[10, 20, 30]\n"
     ]
    }
   ],
   "source": [
    "numeros = [10, 15, 20, 25, 30]\n",
    "pares = list(filter(lambda x: x % 2 == 0, numeros))\n",
    "print(pares)  # [10, 20, 30]\n"
   ]
  },
  {
   "cell_type": "markdown",
   "id": "36396802",
   "metadata": {},
   "source": [
    "🧠 Idea: Mantiene solo los elementos que cumplan la condición"
   ]
  },
  {
   "cell_type": "markdown",
   "id": "4c6ee971",
   "metadata": {},
   "source": [
    "## 🧩 8. reduce() — Reducir una lista a un único valor\n",
    "\n",
    "reduce() está en el módulo functools y combina los elementos de una lista paso a paso."
   ]
  },
  {
   "cell_type": "code",
   "execution_count": 11,
   "id": "ac217316",
   "metadata": {},
   "outputs": [
    {
     "name": "stdout",
     "output_type": "stream",
     "text": [
      "120\n"
     ]
    }
   ],
   "source": [
    "from functools import reduce\n",
    "\n",
    "numeros = [1, 2, 3, 4, 5]\n",
    "producto = reduce(lambda x, y: x * y, numeros)\n",
    "print(producto)  # 120\n"
   ]
  },
  {
   "cell_type": "markdown",
   "id": "739726a0",
   "metadata": {},
   "source": [
    "🧠 Idea: Aplica una función acumuladora a los elementos de una secuencia."
   ]
  },
  {
   "cell_type": "markdown",
   "id": "a2eefd5f",
   "metadata": {},
   "source": [
    "## 🧩 9. Funciones como retorno\n",
    "\n",
    "Una función puede devolver otra función, lo que da lugar a comportamientos dinámicos."
   ]
  },
  {
   "cell_type": "code",
   "execution_count": 12,
   "id": "c65b6d56",
   "metadata": {},
   "outputs": [
    {
     "name": "stdout",
     "output_type": "stream",
     "text": [
      "10\n"
     ]
    }
   ],
   "source": [
    "def multiplicador(factor):\n",
    "    def multiplicar(numero):\n",
    "        return numero * factor\n",
    "    return multiplicar\n",
    "\n",
    "por_dos = multiplicador(2)\n",
    "print(por_dos(5))  # 10\n"
   ]
  },
  {
   "cell_type": "markdown",
   "id": "c5291f5a",
   "metadata": {},
   "source": [
    "## 🧩 10. Funciones lambda combinadas con map/filter/reduce"
   ]
  },
  {
   "cell_type": "code",
   "execution_count": 13,
   "id": "c02638c5",
   "metadata": {},
   "outputs": [
    {
     "name": "stdout",
     "output_type": "stream",
     "text": [
      "7.0\n"
     ]
    }
   ],
   "source": [
    "from functools import reduce\n",
    "\n",
    "# Calcular el promedio de una lista\n",
    "numeros = [4, 6, 8, 10]\n",
    "promedio = reduce(lambda x, y: x + y, numeros) / len(numeros)\n",
    "print(promedio)  # 7.0\n"
   ]
  },
  {
   "cell_type": "markdown",
   "id": "6284e4ca",
   "metadata": {},
   "source": [
    "## 💻 Ejercicios Prácticos"
   ]
  },
  {
   "cell_type": "markdown",
   "id": "eb445f2b",
   "metadata": {},
   "source": [
    "### 🧩 Ejercicio 1:\n",
    "\n",
    "Crea una función filtrar_palabras(l, n) que reciba una lista de palabras y devuelva solo las que tengan más de n letras usando filter()."
   ]
  },
  {
   "cell_type": "code",
   "execution_count": 30,
   "id": "a78c7add",
   "metadata": {},
   "outputs": [
    {
     "name": "stdout",
     "output_type": "stream",
     "text": [
      "Palabra agregada a la lista: Jose \n",
      "Palabra agregada a la lista: Leonardo\n",
      "Palabra agregada a la lista: El rincon del vago\n",
      "Palabra agregada a la lista: Wikipedia\n",
      "Palabra agregada a la lista: Jose leonardo\n",
      "Las palabras con mas de 3 letras son:\n",
      "['Jose ', 'Leonardo', 'El rincon del vago', 'Wikipedia', 'Jose leonardo']\n",
      "❌ Error: Ingrese unicamente numeros del [1 al 3]\n",
      "Palabra agregada a la lista: 6\n",
      "Las palabras con mas de 6 letras son:\n",
      "['Leonardo', 'El rincon del vago', 'Wikipedia', 'Jose leonardo']\n",
      "❌ Error: Ingrese unicamente numeros del [1 al 3]\n",
      "👋Saliendo del Sistema\n"
     ]
    }
   ],
   "source": [
    "# Crea una función filtrar_palabras(l, n) que reciba una lista de palabras y devuelva solo las que tengan más de n letras usando filter()\n",
    "\n",
    "# Respuesta\n",
    "\n",
    "# Creando lista de palabras antes de filtrar \n",
    "\n",
    "lista = []\n",
    "\n",
    "# funciones del Programa\n",
    "def menu():\n",
    "    print('----Menu Principal----🗒️')\n",
    "    print('1. Agregar Palabra')         # Menu del Programa\n",
    "    print('2. Filtrar Palabras con longitud n ')\n",
    "    print('3. Salir')\n",
    "\n",
    "def Error():\n",
    "    print('❌ Error: Ingrese unicamente numeros del [1 al 3]')  # Mensaje de Error\n",
    "\n",
    "def Lista_vacia():\n",
    "    print('🗒️Lista vacia')  # Mensaje de lista Vacia\n",
    "\n",
    "def filtra_palabras(l,n):\n",
    "    return list(filter(lambda palabra:len(palabra) > n, l))  # filtro de palabras\n",
    "\n",
    "#  Creacion de Iteracion \n",
    "while True:\n",
    "\n",
    "    # Manejo de entrada numerica\n",
    "    try:\n",
    "        opcion = int(input('Ingrese la Opcion del Menu que desea Realiza [1-3]'))\n",
    "    except ValueError:\n",
    "        print('❌ Error: Ingrese unicamente valores enteros')\n",
    "        continue\n",
    "\n",
    "    # Condicion Agregar Palabra\n",
    "    if (opcion < 1) or (opcion > 3): # Manejo de entrada\n",
    "        Error()\n",
    "        continue\n",
    "\n",
    "    if opcion == 1:  \n",
    "        palabra = input('Ingrese Una Palabra').capitalize()\n",
    "        lista.append(palabra)\n",
    "        print(f'Palabra agregada a la lista: {palabra}')\n",
    "        \n",
    "    elif opcion == 2:\n",
    "\n",
    "        # condicion de lista vacia \n",
    "        if not lista: \n",
    "            Lista_vacia ()\n",
    "        else:\n",
    "            try:\n",
    "                n = int(input('Ingrese un numero n para seleccionar palabras'))\n",
    "            except ValueError:\n",
    "                print('❌ Error: Ingrese unicamente valores enteros')\n",
    "                continue\n",
    "            \n",
    "            # Funcion Para Seleccionar palabras Mayores a n\n",
    "            seleccion_palabras = filtra_palabras(lista,n)\n",
    "            print(f'Las palabras con mas de {n} letras son:\\n{seleccion_palabras}')\n",
    "    \n",
    "    # Salir del Sistema\n",
    "\n",
    "    elif opcion == 3:\n",
    "        print('👋Saliendo del Sistema')\n",
    "        break\n",
    "    "
   ]
  },
  {
   "cell_type": "markdown",
   "id": "29a5587a",
   "metadata": {},
   "source": [
    "### 🧩 Ejercicio 2:\n",
    "\n",
    "Usa map() para convertir una lista de temperaturas en Celsius a Fahrenheit."
   ]
  },
  {
   "cell_type": "code",
   "execution_count": null,
   "id": "41d9005c",
   "metadata": {},
   "outputs": [],
   "source": []
  },
  {
   "cell_type": "markdown",
   "id": "e3af1ce6",
   "metadata": {},
   "source": [
    "### 🧩 Ejercicio 3:\n",
    "\n",
    "Define una función aplicar(funciones, valor) que reciba una lista de funciones y aplique cada una al valor dado."
   ]
  },
  {
   "cell_type": "code",
   "execution_count": null,
   "id": "928dad1f",
   "metadata": {},
   "outputs": [],
   "source": []
  },
  {
   "cell_type": "markdown",
   "id": "f214f2ad",
   "metadata": {},
   "source": [
    "### 🧩 Ejercicio 4 (Vida Real):\n",
    "\n",
    "Crea un sistema que reciba los precios de productos y aplique diferentes funciones de descuento (10%, 15%, 20%) según la cantidad comprada."
   ]
  },
  {
   "cell_type": "code",
   "execution_count": null,
   "id": "a99a8833",
   "metadata": {},
   "outputs": [],
   "source": []
  },
  {
   "cell_type": "markdown",
   "id": "4ff3e5b5",
   "metadata": {},
   "source": [
    "## 🧠 Conclusión\n",
    "\n",
    "- Las funciones avanzadas permiten escribir código más dinámico y reutilizable.\n",
    "\n",
    "- lambda, map(), filter(), reduce() y la recursión son herramientas clave del pensamiento funcional.\n",
    "\n",
    "- Usar *args y **kwargs permite crear funciones flexibles que se adaptan a cualquier cantidad de datos."
   ]
  }
 ],
 "metadata": {
  "kernelspec": {
   "display_name": "Python 3",
   "language": "python",
   "name": "python3"
  },
  "language_info": {
   "codemirror_mode": {
    "name": "ipython",
    "version": 3
   },
   "file_extension": ".py",
   "mimetype": "text/x-python",
   "name": "python",
   "nbconvert_exporter": "python",
   "pygments_lexer": "ipython3",
   "version": "3.13.7"
  }
 },
 "nbformat": 4,
 "nbformat_minor": 5
}
